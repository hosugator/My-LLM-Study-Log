{
 "cells": [
  {
   "cell_type": "markdown",
   "metadata": {
    "id": "faUojVtgaTGc"
   },
   "source": [
    "# 호텔 챗봇\n",
    "\n",
    "이 노트북에서는 호텔 챗봇 문제를 다룹니다. 어떻게 하면 호텔 프론트 데스크에서 더 나은 고객 서비스를 제공할 수 있을까요? 간단한 방법 중 하나는 호텔에서 경험할 수 있는 일들에 관한 간단한 질문에 대답할 수 있는 FAQ 채팅 로봇을 갖는 것입니다. 챗봇을 갖는 것에는 많은 장점이 있습니다.\n",
    "\n",
    "1. 호텔의 매력을 높이고 정보 처리량을 늘립니다.\n",
    "2. 호텔에 대한 질문을 데이터 테이블 형식으로 수집할 수 있는 방법을 만듭니다.\n",
    "\n",
    "이 노트북에서는 두 가지 모델을 살펴볼 것입니다. 코사인 유사성 및 doc2vec 모델입니다.\n"
   ]
  },
  {
   "cell_type": "markdown",
   "metadata": {
    "id": "pNceALtVaTGc"
   },
   "source": [
    "## 1.챗봇에 지식 기반 추가\n",
    "\n",
    "챗봇의 대화 능력은 사용할 수 있는 데이터에 의해 정의됩니다. Ques.txt 파일과 ans.txt 파일에서 질문과 답변을 살펴보십시오. 이 챗봇은 기본적으로 질문에 대하여 질문 은행과 코사인 유사성을 확인하여 답을 찾으려고 노력할 것입니다."
   ]
  },
  {
   "cell_type": "markdown",
   "metadata": {
    "id": "Pw8dzuu4kGaU"
   },
   "source": [
    "### 1.1 라이브러리 가져오기"
   ]
  },
  {
   "cell_type": "code",
   "execution_count": null,
   "metadata": {
    "id": "e__0bwBTaTGd"
   },
   "outputs": [],
   "source": [
    "import nltk # 텍스트 데이터를 처리\n",
    "import numpy as np # 말뭉치를 배열로 표현\n",
    "import random\n",
    "import operator\n",
    "import string # 표준 파이썬 문자열을 처리\n",
    "from sklearn.metrics.pairwise import cosine_similarity # 이를 나중에 사용하여 두 개의 문장이 얼마나 비슷한지를 결정합니다.\n",
    "from sklearn.feature_extraction.text import TfidfVectorizer # Experience 2에서 단어 가방을 만드는 함수를 만들었던 것을 기억하십니까? 이 함수는 같은 일을 합니다!"
   ]
  },
  {
   "cell_type": "markdown",
   "metadata": {
    "id": "0QLMHLRmkGaV"
   },
   "source": [
    "### 1.2 데이터 처리\n",
    "#### 1.2.1 파일 열기"
   ]
  },
  {
   "cell_type": "code",
   "execution_count": null,
   "metadata": {
    "colab": {
     "base_uri": "https://localhost:8080/"
    },
    "id": "R08PteSZaTGd",
    "outputId": "f9bf11e9-f1b9-45c7-91b2-70fdc692dc29"
   },
   "outputs": [
    {
     "name": "stdout",
     "output_type": "stream",
     "text": [
      "200$ per night is the price for a basic suite.\n",
      "\n",
      "This establishment was constructed and inaugurated by John S. on the 23rd of September 1965.\n",
      "\n",
      "Breakfast is served from 7 AM to 10 AM.\n",
      "\n",
      "The breakfast menu is decided as per the head chefs decision on the night before; kindly contact hotel staff for information about the menu on the night before. \n",
      "\n",
      "The Vance Hotel is a singular establishment designed and constructed by Lindsey Vance in 1949; it has hosted many dignitaries and government officials over the years.\n",
      "\n",
      "There are 43 rooms in this hotel including one pent house suite.\n",
      "\n",
      "We offer 4 types of rooms: basic, mid-level, premium and penthouse.\n",
      "\n",
      "This hotel is called Vance Hotel.\n",
      "\n",
      "Yes, room service is available 24 hrs.\n",
      "\n",
      "To call room service, please dial '0' using the phone in your room.\n",
      "\n",
      "Yes we have one restaurant currently called 'Rouge'.\n",
      "\n",
      "There are 12 floors in the hotel.\n",
      "\n",
      "300$ per night is the standard price for a mid-level suite.\n",
      "\n",
      "500$ per night is the price for a premium suite.\n",
      "\n",
      "Yes, we have tuxedo services available at the reception.\n",
      "\n",
      "Yes, we have a laundry service at the reception.\n",
      "\n",
      "'Rouge' is open for dinner at 7pm.\n",
      "\n",
      "There is a waterfall 200 meters east from the hotel, and we offer taxi services for such destinations and more.\n",
      "\n",
      "Yes, we do have a spa; however, it is closed from 7pm onwards.\n",
      "\n",
      "Yes, we do have massage packages inside our hotel.\n",
      "\n",
      "Check in is at anytime between 10am and 1pm.\n",
      "\n",
      "Check out is at anytime between 4pm and 6pm.\n",
      "\n",
      "Yes, we do.\n",
      "\n",
      "Yes.\n",
      "\n",
      "For parking lot reservations, there is a surcharge depending on fixed rates; please ask at the reception for more information.\n",
      "\n",
      "Our reception is open 24 hours.\n",
      "\n",
      "No, you cannot book breakfast online.\n",
      "\n",
      "No, you cannot book the spa online.\n",
      "\n",
      "No, you cannot book that online.\n",
      "\n",
      "Yes, we do have the facilities to take care of pets and support them.\n",
      "\n",
      "Rates are per room.\n",
      "\n",
      "The rates may vary as per availability and demand.\n",
      "\n",
      "Yes.\n",
      "\n",
      "Yes.\n",
      "\n",
      "Yes.\n",
      "\n",
      "There are 4 main sizes available:  basic, mid-level, premium and penthouse.\n",
      "\n",
      "Yes, for table reservations please contact the reception through the phone.\n",
      "\n",
      "Yes, we do.\n",
      "\n",
      "We do not have child special rooms but we do have cribs available through a surcharge.\n",
      "\n",
      "Yes.\n",
      "\n",
      "Yes.\n",
      "\n",
      "Yes, we do have a shuttle service and taxi service.\n",
      "\n",
      "Yes.\n",
      "\n",
      "Yes, we do try our best to provide quality services to you; if there is any other requests, kindly contact the staff.\n",
      "\n",
      "Check at the reception.\n",
      "\n",
      "You can check it out on your online booking reservation.\n",
      "\n",
      "Contact the reception through phone so that they may attempt to retrieve the item.\n",
      "What is the price of one night stay in basic suite?\n",
      "\n",
      "How old is this establishment?\n",
      "\n",
      "What time is breakfast served?\n",
      "\n",
      "What is the breakfast menu?\n",
      "\n",
      "What is the history behind this hotel or establishment?\n",
      "\n",
      "How many rooms are there in this hotel?\n",
      "\n",
      "What are the types of rooms or suites offered by the hotel?\n",
      "\n",
      "What is the name of the hotel?\n",
      "\n",
      "Is room service served 24 hours?\n",
      "\n",
      "How do I call for room service?\n",
      "\n",
      "Are there any restaurants in the hotel?\n",
      "\n",
      "How many floors are there in the hotel?\n",
      "\n",
      "What is the price of one night stay at the mid-level suite?\n",
      "\n",
      "What is the price of one night stay at the premium suite?\n",
      "\n",
      "Do you have tuxedo services?\n",
      "\n",
      "Do you have a laundry service?\n",
      "\n",
      "What time do the restaurants open for dinner?\n",
      "\n",
      "What are the near by tourist attractions?\n",
      "\n",
      "Is there a spa in the hotel?\n",
      "\n",
      "Is there anywhere I can get a massage?\n",
      "\n",
      "What time is the check in?\n",
      "\n",
      "What time is the check out?\n",
      "\n",
      "Do you offer handicapped rooms?\n",
      "\n",
      "Is parking available at the hotel?\n",
      "\n",
      "Can I reserve a parking lot?\n",
      "\n",
      "What are the reception opening hours?\n",
      "\n",
      "Can I also book breakfast online and what is the cost?\n",
      "\n",
      "Is it possible to book spa treatments online?\n",
      "\n",
      "Can I book tea time online?\n",
      "\n",
      "Can I bring my pet?\n",
      "\n",
      "Are the rates per person or per room?\n",
      "\n",
      "Why do the costs vary from day to day?\n",
      "\n",
      "Can I book two rooms of different categories?\n",
      "\n",
      "Can I book two rooms with different occupancy?\n",
      "\n",
      "Is Wi-Fi available at the hotel/in the room?\n",
      "\n",
      "Which size are the rooms?\n",
      "\n",
      "Can I reserve a table in a restaurant?\n",
      "\n",
      "Do you offer non-smoking rooms?\n",
      "\n",
      "Do you offer child rates?\n",
      "\n",
      "Can I use the spa area even if I am not staying in your hotel?\n",
      "\n",
      "Can I use the spa area after checking out?\n",
      "\n",
      "Do you offer hotel shuttles, for example, to the next airport or train station?\n",
      "\n",
      "Can I have breakfast/dinner even if I am not staying in your hotel?\n",
      "\n",
      "Are special requests, such as gluten-free meals or feather-free pillows, manageable?\n",
      "\n",
      "I have bought a Groupon-voucher, how can I redeem it in your hotel?\n",
      "\n",
      "Where can I get a copy of my invoice after departure?\n",
      "\n",
      "What should I do, if I lost or forgot something in my room?\n",
      "\n",
      "\n"
     ]
    }
   ],
   "source": [
    "import os\n",
    "filepath=os.getcwd()+r'//[Dataset] Module27 (ans).txt'\n",
    "corpus=open(filepath,'r',errors = 'ignore')\n",
    "raw_data_ans=corpus.read()\n",
    "print (raw_data_ans)\n",
    "\n",
    "filepath=os.getcwd()+'//[Dataset] Module27(ques).txt'\n",
    "corpus=open(filepath,'r',errors = 'ignore')\n",
    "raw_data=corpus.read()\n",
    "print (raw_data)"
   ]
  },
  {
   "cell_type": "code",
   "execution_count": null,
   "metadata": {
    "id": "ujeapqJukGaW",
    "outputId": "3707a0ac-abe2-41c4-a6a0-effa6604aed8"
   },
   "outputs": [
    {
     "data": {
      "text/html": [
       "<div>\n",
       "<style scoped>\n",
       "    .dataframe tbody tr th:only-of-type {\n",
       "        vertical-align: middle;\n",
       "    }\n",
       "\n",
       "    .dataframe tbody tr th {\n",
       "        vertical-align: top;\n",
       "    }\n",
       "\n",
       "    .dataframe thead th {\n",
       "        text-align: right;\n",
       "    }\n",
       "</style>\n",
       "<table border=\"1\" class=\"dataframe\">\n",
       "  <thead>\n",
       "    <tr style=\"text-align: right;\">\n",
       "      <th></th>\n",
       "      <th>Question</th>\n",
       "      <th>Answer</th>\n",
       "      <th>Question_sent_Tokens</th>\n",
       "      <th>Answer_sent_Tokens</th>\n",
       "      <th>Question_word_Tokens</th>\n",
       "      <th>Answer_word_Tokens</th>\n",
       "      <th>Question_stem_Tokens</th>\n",
       "      <th>Answer_stem_Tokens</th>\n",
       "    </tr>\n",
       "  </thead>\n",
       "  <tbody>\n",
       "    <tr>\n",
       "      <th>0</th>\n",
       "      <td>what is the price of one night stay in basic s...</td>\n",
       "      <td>200$ per night is the price for a basic suite.</td>\n",
       "      <td>[what is the price of one night stay in basic ...</td>\n",
       "      <td>[200$ per night is the price for a basic suite.]</td>\n",
       "      <td>[what, is, the, price, of, one, night, stay, i...</td>\n",
       "      <td>[200, per, night, is, the, price, for, a, basi...</td>\n",
       "      <td>[what, is, the, price, of, one, night, stay, i...</td>\n",
       "      <td>[200, per, night, is, the, price, for, a, basi...</td>\n",
       "    </tr>\n",
       "    <tr>\n",
       "      <th>1</th>\n",
       "      <td>how old is this establishment?</td>\n",
       "      <td>this establishment was constructed and inaugur...</td>\n",
       "      <td>[how old is this establishment?]</td>\n",
       "      <td>[this establishment was constructed and inaugu...</td>\n",
       "      <td>[how, old, is, this, establishment]</td>\n",
       "      <td>[this, establishment, was, constructed, and, i...</td>\n",
       "      <td>[how, old, is, this, establishment]</td>\n",
       "      <td>[this, establishment, wa, constructed, and, in...</td>\n",
       "    </tr>\n",
       "    <tr>\n",
       "      <th>2</th>\n",
       "      <td>what time is breakfast served?</td>\n",
       "      <td>breakfast is served from 7 am to 10 am.</td>\n",
       "      <td>[what time is breakfast served?]</td>\n",
       "      <td>[breakfast is served from 7 am to 10 am.]</td>\n",
       "      <td>[what, time, is, breakfast, served]</td>\n",
       "      <td>[breakfast, is, served, from, 7, am, to, 10, am]</td>\n",
       "      <td>[what, time, is, breakfast, served]</td>\n",
       "      <td>[breakfast, is, served, from, 7, am, to, 10, am]</td>\n",
       "    </tr>\n",
       "    <tr>\n",
       "      <th>3</th>\n",
       "      <td>what is the breakfast menu?</td>\n",
       "      <td>the breakfast menu is decided as per the head ...</td>\n",
       "      <td>[what is the breakfast menu?]</td>\n",
       "      <td>[the breakfast menu is decided as per the head...</td>\n",
       "      <td>[what, is, the, breakfast, menu]</td>\n",
       "      <td>[the, breakfast, menu, is, decided, as, per, t...</td>\n",
       "      <td>[what, is, the, breakfast, menu]</td>\n",
       "      <td>[the, breakfast, menu, is, decided, a, per, th...</td>\n",
       "    </tr>\n",
       "    <tr>\n",
       "      <th>4</th>\n",
       "      <td>what is the history behind this hotel or estab...</td>\n",
       "      <td>the vance hotel is a singular establishment de...</td>\n",
       "      <td>[what is the history behind this hotel or esta...</td>\n",
       "      <td>[the vance hotel is a singular establishment d...</td>\n",
       "      <td>[what, is, the, history, behind, this, hotel, ...</td>\n",
       "      <td>[the, vance, hotel, is, a, singular, establish...</td>\n",
       "      <td>[what, is, the, history, behind, this, hotel, ...</td>\n",
       "      <td>[the, vance, hotel, is, a, singular, establish...</td>\n",
       "    </tr>\n",
       "  </tbody>\n",
       "</table>\n",
       "</div>"
      ],
      "text/plain": [
       "                                            Question  \\\n",
       "0  what is the price of one night stay in basic s...   \n",
       "1                     how old is this establishment?   \n",
       "2                     what time is breakfast served?   \n",
       "3                        what is the breakfast menu?   \n",
       "4  what is the history behind this hotel or estab...   \n",
       "\n",
       "                                              Answer  \\\n",
       "0     200$ per night is the price for a basic suite.   \n",
       "1  this establishment was constructed and inaugur...   \n",
       "2            breakfast is served from 7 am to 10 am.   \n",
       "3  the breakfast menu is decided as per the head ...   \n",
       "4  the vance hotel is a singular establishment de...   \n",
       "\n",
       "                                Question_sent_Tokens  \\\n",
       "0  [what is the price of one night stay in basic ...   \n",
       "1                   [how old is this establishment?]   \n",
       "2                   [what time is breakfast served?]   \n",
       "3                      [what is the breakfast menu?]   \n",
       "4  [what is the history behind this hotel or esta...   \n",
       "\n",
       "                                  Answer_sent_Tokens  \\\n",
       "0   [200$ per night is the price for a basic suite.]   \n",
       "1  [this establishment was constructed and inaugu...   \n",
       "2          [breakfast is served from 7 am to 10 am.]   \n",
       "3  [the breakfast menu is decided as per the head...   \n",
       "4  [the vance hotel is a singular establishment d...   \n",
       "\n",
       "                                Question_word_Tokens  \\\n",
       "0  [what, is, the, price, of, one, night, stay, i...   \n",
       "1                [how, old, is, this, establishment]   \n",
       "2                [what, time, is, breakfast, served]   \n",
       "3                   [what, is, the, breakfast, menu]   \n",
       "4  [what, is, the, history, behind, this, hotel, ...   \n",
       "\n",
       "                                  Answer_word_Tokens  \\\n",
       "0  [200, per, night, is, the, price, for, a, basi...   \n",
       "1  [this, establishment, was, constructed, and, i...   \n",
       "2   [breakfast, is, served, from, 7, am, to, 10, am]   \n",
       "3  [the, breakfast, menu, is, decided, as, per, t...   \n",
       "4  [the, vance, hotel, is, a, singular, establish...   \n",
       "\n",
       "                                Question_stem_Tokens  \\\n",
       "0  [what, is, the, price, of, one, night, stay, i...   \n",
       "1                [how, old, is, this, establishment]   \n",
       "2                [what, time, is, breakfast, served]   \n",
       "3                   [what, is, the, breakfast, menu]   \n",
       "4  [what, is, the, history, behind, this, hotel, ...   \n",
       "\n",
       "                                  Answer_stem_Tokens  \n",
       "0  [200, per, night, is, the, price, for, a, basi...  \n",
       "1  [this, establishment, wa, constructed, and, in...  \n",
       "2   [breakfast, is, served, from, 7, am, to, 10, am]  \n",
       "3  [the, breakfast, menu, is, decided, a, per, th...  \n",
       "4  [the, vance, hotel, is, a, singular, establish...  "
      ]
     },
     "execution_count": 10,
     "metadata": {},
     "output_type": "execute_result"
    }
   ],
   "source": [
    "import pandas as pd\n",
    "import nltk\n",
    "from nltk.tokenize import sent_tokenize, word_tokenize\n",
    "from nltk.stem import WordNetLemmatizer\n",
    "\n",
    "lemmatizer  = WordNetLemmatizer()\n",
    "\n",
    "\n",
    "\n",
    "# 파일 내용 읽기\n",
    "with open(\"[Dataset] Module27(ques).txt\", \"r\") as file:\n",
    "    questions = file.readlines()\n",
    "\n",
    "with open(\"[Dataset] Module27 (ans).txt\", \"r\") as file:\n",
    "    answers = file.readlines()\n",
    "\n",
    "# 각 질문과 답변의 앞뒤 공백 제거\n",
    "questions = [q.strip().lower() for q in questions]\n",
    "answers = [a.strip().lower() for a in answers]\n",
    "\n",
    "# 빈 문자열과 None 값을 가진 질문과 답변 제거\n",
    "questions = [q for q in questions if q]\n",
    "answers = [a for a in answers if a]\n",
    "\n",
    "# 질문과 답변 리스트의 길이를 동일하게 맞추기\n",
    "max_length = max(len(questions), len(answers))\n",
    "questions += [None] * (max_length - len(questions))\n",
    "answers += [None] * (max_length - len(answers))\n",
    "\n",
    "# 데이터 프레임 생성\n",
    "df = pd.DataFrame({\"Question\": questions, \"Answer\": answers})\n",
    "\n",
    "# 데이터 프레임의 인덱스 재설정\n",
    "df.reset_index(drop=True, inplace=True)\n",
    "\n",
    "#질문과 답변 컬럼에 대해 토큰화 수행\n",
    "df['Question_sent_Tokens'] = df['Question'].apply(lambda x: sent_tokenize(x) if x else [])\n",
    "df['Answer_sent_Tokens'] = df['Answer'].apply(lambda x: sent_tokenize(x) if x else [])\n",
    "\n",
    "remove_punct_dict = dict((ord(punct), None) for punct in string.punctuation)\n",
    "\n",
    "df['Question_word_Tokens'] = df['Question'].apply(lambda x: word_tokenize(x.lower().translate(remove_punct_dict)) if x else [])\n",
    "df['Answer_word_Tokens'] = df['Answer'].apply(lambda x: word_tokenize(x.lower().translate(remove_punct_dict)) if x else [])\n",
    "\n",
    "\n",
    "# 각 단어 리스트에 대해 lemmatize 수행\n",
    "df['Question_stem_Tokens'] = df['Question_word_Tokens'].apply(lambda tokens: [lemmatizer.lemmatize(word) for word in tokens] if tokens else [])\n",
    "df['Answer_stem_Tokens'] = df['Answer_word_Tokens'].apply(lambda tokens: [lemmatizer.lemmatize(word) for word in tokens] if tokens else [])\n",
    "df.head()"
   ]
  },
  {
   "cell_type": "markdown",
   "metadata": {
    "id": "3lJ5dsOvaTGo"
   },
   "source": [
    "####  1.2.2 소문자로 변환\n",
    "\n",
    "모든 텍스트를 먼저 소문자로 변환합니다. 결과가 완료되면 검사해야 합니다."
   ]
  },
  {
   "cell_type": "code",
   "execution_count": null,
   "metadata": {
    "id": "KdWMJwPfaTGo"
   },
   "outputs": [],
   "source": [
    "raw_data=raw_data.lower() # 소문자로 변환\n",
    "raw_data_ans=raw_data_ans.lower()"
   ]
  },
  {
   "cell_type": "markdown",
   "metadata": {
    "id": "t729o2v7aTGp"
   },
   "source": [
    "####  세분화, 표제어 추출,  단어 토큰화\n",
    "\n",
    "모듈 26 코사인 유사성 노트북에서 배운 방법을 참조하여 데이터를 세분화, 토큰화, 표제어 추출로 전처리 진행합니다."
   ]
  },
  {
   "cell_type": "code",
   "execution_count": null,
   "metadata": {
    "colab": {
     "base_uri": "https://localhost:8080/"
    },
    "id": "bd6adnm0aTGp",
    "outputId": "3ebb414b-4af6-4b08-b180-c9a9a750ea0c"
   },
   "outputs": [
    {
     "name": "stdout",
     "output_type": "stream",
     "text": [
      "47\n",
      "['what is the price of one night stay in basic suite?', 'how old is this establishment?', 'what time is breakfast served?', 'what is the breakfast menu?', 'what is the history behind this hotel or establishment?', 'how many rooms are there in this hotel?', 'what are the types of rooms or suites offered by the hotel?', 'what is the name of the hotel?', 'is room service served 24 hours?', 'how do i call for room service?', 'are there any restaurants in the hotel?', 'how many floors are there in the hotel?', 'what is the price of one night stay at the mid-level suite?', 'what is the price of one night stay at the premium suite?', 'do you have tuxedo services?', 'do you have a laundry service?', 'what time do the restaurants open for dinner?', 'what are the near by tourist attractions?', 'is there a spa in the hotel?', 'is there anywhere i can get a massage?', 'what time is the check in?', 'what time is the check out?', 'do you offer handicapped rooms?', 'is parking available at the hotel?', 'can i reserve a parking lot?', 'what are the reception opening hours?', 'can i also book breakfast online and what is the cost?', 'is it possible to book spa treatments online?', 'can i book tea time online?', 'can i bring my pet?', 'are the rates per person or per room?', 'why do the costs vary from day to day?', 'can i book two rooms of different categories?', 'can i book two rooms with different occupancy?', 'is wi-fi available at the hotel/in the room?', 'which size are the rooms?', 'can i reserve a table in a restaurant?', 'do you offer non-smoking rooms?', 'do you offer child rates?', 'can i use the spa area even if i am not staying in your hotel?', 'can i use the spa area after checking out?', 'do you offer hotel shuttles, for example, to the next airport or train station?', 'can i have breakfast/dinner even if i am not staying in your hotel?', 'are special requests, such as gluten-free meals or feather-free pillows, manageable?', 'i have bought a groupon-voucher, how can i redeem it in your hotel?', 'where can i get a copy of my invoice after departure?', 'what should i do, if i lost or forgot something in my room?']\n"
     ]
    }
   ],
   "source": [
    "# 1.2.3 문장 세분화\n",
    "import nltk\n",
    "# nltk.download('punkt')\n",
    "# nltk.download('wordnet')\n",
    "\n",
    "# question 데이터에 대해\n",
    "sent_tokens = nltk.sent_tokenize(raw_data)# 문서를 문장 목록으로 변환\n",
    "print(len(sent_tokens))\n",
    "print(sent_tokens)\n"
   ]
  },
  {
   "cell_type": "code",
   "execution_count": null,
   "metadata": {
    "id": "j2MC9WcxkGaX",
    "outputId": "43042658-fe7d-4a99-bff6-c0a735a4536f"
   },
   "outputs": [
    {
     "data": {
      "text/plain": [
       "47"
      ]
     },
     "execution_count": 13,
     "metadata": {},
     "output_type": "execute_result"
    }
   ],
   "source": [
    "len(sent_tokens)"
   ]
  },
  {
   "cell_type": "markdown",
   "metadata": {
    "id": "64R-hN8bkGaX"
   },
   "source": [
    "#### 1.2.3 문장 세분화"
   ]
  },
  {
   "cell_type": "code",
   "execution_count": null,
   "metadata": {
    "colab": {
     "base_uri": "https://localhost:8080/"
    },
    "id": "RRuhV6wnaTGp",
    "outputId": "45b8a5aa-6e51-4684-c6f5-fdd3c1963a86"
   },
   "outputs": [
    {
     "name": "stdout",
     "output_type": "stream",
     "text": [
      "['200$ per night is the price for a basic suite.', 'this establishment was constructed and inaugurated by john s. on the 23rd of september 1965.\\n\\nbreakfast is served from 7 am to 10 am.', 'the breakfast menu is decided as per the head chefs decision on the night before; kindly contact hotel staff for information about the menu on the night before.', 'the vance hotel is a singular establishment designed and constructed by lindsey vance in 1949; it has hosted many dignitaries and government officials over the years.', 'there are 43 rooms in this hotel including one pent house suite.', 'we offer 4 types of rooms: basic, mid-level, premium and penthouse.', 'this hotel is called vance hotel.', 'yes, room service is available 24 hrs.', \"to call room service, please dial '0' using the phone in your room.\", \"yes we have one restaurant currently called 'rouge'.\", 'there are 12 floors in the hotel.', '300$ per night is the standard price for a mid-level suite.', '500$ per night is the price for a premium suite.', 'yes, we have tuxedo services available at the reception.', 'yes, we have a laundry service at the reception.', \"'rouge' is open for dinner at 7pm.\", 'there is a waterfall 200 meters east from the hotel, and we offer taxi services for such destinations and more.', 'yes, we do have a spa; however, it is closed from 7pm onwards.', 'yes, we do have massage packages inside our hotel.', 'check in is at anytime between 10am and 1pm.', 'check out is at anytime between 4pm and 6pm.', 'yes, we do.', 'yes.', 'for parking lot reservations, there is a surcharge depending on fixed rates; please ask at the reception for more information.', 'our reception is open 24 hours.', 'no, you cannot book breakfast online.', 'no, you cannot book the spa online.', 'no, you cannot book that online.', 'yes, we do have the facilities to take care of pets and support them.', 'rates are per room.', 'the rates may vary as per availability and demand.', 'yes.', 'yes.', 'yes.', 'there are 4 main sizes available:  basic, mid-level, premium and penthouse.', 'yes, for table reservations please contact the reception through the phone.', 'yes, we do.', 'we do not have child special rooms but we do have cribs available through a surcharge.', 'yes.', 'yes.', 'yes, we do have a shuttle service and taxi service.', 'yes.', 'yes, we do try our best to provide quality services to you; if there is any other requests, kindly contact the staff.', 'check at the reception.', 'you can check it out on your online booking reservation.', 'contact the reception through phone so that they may attempt to retrieve the item.']\n"
     ]
    }
   ],
   "source": [
    "# answer 데이터에 대해\n",
    "sent_tokens_ans = nltk.sent_tokenize(raw_data_ans)# 문서를 문장 목록으로 변환\n",
    "print(sent_tokens_ans)"
   ]
  },
  {
   "cell_type": "code",
   "execution_count": null,
   "metadata": {
    "id": "R0uSnnuwkGaX",
    "outputId": "a40006a2-3e38-4338-c93d-c8c220a5c06a"
   },
   "outputs": [
    {
     "data": {
      "text/plain": [
       "46"
      ]
     },
     "execution_count": 15,
     "metadata": {},
     "output_type": "execute_result"
    }
   ],
   "source": [
    "len(sent_tokens_ans)"
   ]
  },
  {
   "cell_type": "code",
   "execution_count": null,
   "metadata": {
    "colab": {
     "base_uri": "https://localhost:8080/"
    },
    "id": "h6JFAfDRaTGp",
    "outputId": "11eb25dd-d12b-4b5a-bf22-710a50655835"
   },
   "outputs": [
    {
     "name": "stdout",
     "output_type": "stream",
     "text": [
      "{'what is the price of one night stay in basic suite?': '200$ per night is the price for a basic suite.', 'how old is this establishment?': 'this establishment was constructed and inaugurated by john s. on the 23rd of september 1965.\\n\\nbreakfast is served from 7 am to 10 am.', 'what time is breakfast served?': 'the breakfast menu is decided as per the head chefs decision on the night before; kindly contact hotel staff for information about the menu on the night before.', 'what is the breakfast menu?': 'the vance hotel is a singular establishment designed and constructed by lindsey vance in 1949; it has hosted many dignitaries and government officials over the years.', 'what is the history behind this hotel or establishment?': 'there are 43 rooms in this hotel including one pent house suite.', 'how many rooms are there in this hotel?': 'we offer 4 types of rooms: basic, mid-level, premium and penthouse.', 'what are the types of rooms or suites offered by the hotel?': 'this hotel is called vance hotel.', 'what is the name of the hotel?': 'yes, room service is available 24 hrs.', 'is room service served 24 hours?': \"to call room service, please dial '0' using the phone in your room.\", 'how do i call for room service?': \"yes we have one restaurant currently called 'rouge'.\", 'are there any restaurants in the hotel?': 'there are 12 floors in the hotel.', 'how many floors are there in the hotel?': '300$ per night is the standard price for a mid-level suite.', 'what is the price of one night stay at the mid-level suite?': '500$ per night is the price for a premium suite.', 'what is the price of one night stay at the premium suite?': 'yes, we have tuxedo services available at the reception.', 'do you have tuxedo services?': 'yes, we have a laundry service at the reception.', 'do you have a laundry service?': \"'rouge' is open for dinner at 7pm.\", 'what time do the restaurants open for dinner?': 'there is a waterfall 200 meters east from the hotel, and we offer taxi services for such destinations and more.', 'what are the near by tourist attractions?': 'yes, we do have a spa; however, it is closed from 7pm onwards.', 'is there a spa in the hotel?': 'yes, we do have massage packages inside our hotel.', 'is there anywhere i can get a massage?': 'check in is at anytime between 10am and 1pm.', 'what time is the check in?': 'check out is at anytime between 4pm and 6pm.', 'what time is the check out?': 'yes, we do.', 'do you offer handicapped rooms?': 'yes.', 'is parking available at the hotel?': 'for parking lot reservations, there is a surcharge depending on fixed rates; please ask at the reception for more information.', 'can i reserve a parking lot?': 'our reception is open 24 hours.', 'what are the reception opening hours?': 'no, you cannot book breakfast online.', 'can i also book breakfast online and what is the cost?': 'no, you cannot book the spa online.', 'is it possible to book spa treatments online?': 'no, you cannot book that online.', 'can i book tea time online?': 'yes, we do have the facilities to take care of pets and support them.', 'can i bring my pet?': 'rates are per room.', 'are the rates per person or per room?': 'the rates may vary as per availability and demand.', 'why do the costs vary from day to day?': 'yes.', 'can i book two rooms of different categories?': 'yes.', 'can i book two rooms with different occupancy?': 'yes.', 'is wi-fi available at the hotel/in the room?': 'there are 4 main sizes available:  basic, mid-level, premium and penthouse.', 'which size are the rooms?': 'yes, for table reservations please contact the reception through the phone.', 'can i reserve a table in a restaurant?': 'yes, we do.', 'do you offer non-smoking rooms?': 'we do not have child special rooms but we do have cribs available through a surcharge.', 'do you offer child rates?': 'yes.', 'can i use the spa area even if i am not staying in your hotel?': 'yes.', 'can i use the spa area after checking out?': 'yes, we do have a shuttle service and taxi service.', 'do you offer hotel shuttles, for example, to the next airport or train station?': 'yes.', 'can i have breakfast/dinner even if i am not staying in your hotel?': 'yes, we do try our best to provide quality services to you; if there is any other requests, kindly contact the staff.', 'are special requests, such as gluten-free meals or feather-free pillows, manageable?': 'check at the reception.', 'i have bought a groupon-voucher, how can i redeem it in your hotel?': 'you can check it out on your online booking reservation.', 'where can i get a copy of my invoice after departure?': 'contact the reception through phone so that they may attempt to retrieve the item.'}\n"
     ]
    }
   ],
   "source": [
    "min_len = min(len(sent_tokens), len(sent_tokens_ans))\n",
    "res = {sent_tokens[i]: sent_tokens_ans[i] for i in range(min_len)}\n",
    "\n",
    "print(res)"
   ]
  },
  {
   "cell_type": "markdown",
   "metadata": {
    "id": "NFFPrvxMkGaY"
   },
   "source": [
    "#### 1.2.4 단어 토큰화"
   ]
  },
  {
   "cell_type": "code",
   "execution_count": null,
   "metadata": {
    "colab": {
     "base_uri": "https://localhost:8080/"
    },
    "id": "LYI2uuyTaTGq",
    "outputId": "a5594e85-0654-47e9-df50-b5f167eac199"
   },
   "outputs": [
    {
     "name": "stdout",
     "output_type": "stream",
     "text": [
      "['what', 'is', 'the', 'price', 'of', 'one', 'night', 'stay', 'in', 'basic', 'suite', '?', 'how', 'old', 'is', 'this', 'establishment', '?', 'what', 'time', 'is', 'breakfast', 'served', '?', 'what', 'is', 'the', 'breakfast', 'menu', '?', 'what', 'is', 'the', 'history', 'behind', 'this', 'hotel', 'or', 'establishment', '?', 'how', 'many', 'rooms', 'are', 'there', 'in', 'this', 'hotel', '?', 'what', 'are', 'the', 'types', 'of', 'rooms', 'or', 'suites', 'offered', 'by', 'the', 'hotel', '?', 'what', 'is', 'the', 'name', 'of', 'the', 'hotel', '?', 'is', 'room', 'service', 'served', '24', 'hours', '?', 'how', 'do', 'i', 'call', 'for', 'room', 'service', '?', 'are', 'there', 'any', 'restaurants', 'in', 'the', 'hotel', '?', 'how', 'many', 'floors', 'are', 'there', 'in', 'the', 'hotel', '?', 'what', 'is', 'the', 'price', 'of', 'one', 'night', 'stay', 'at', 'the', 'mid-level', 'suite', '?', 'what', 'is', 'the', 'price', 'of', 'one', 'night', 'stay', 'at', 'the', 'premium', 'suite', '?', 'do', 'you', 'have', 'tuxedo', 'services', '?', 'do', 'you', 'have', 'a', 'laundry', 'service', '?', 'what', 'time', 'do', 'the', 'restaurants', 'open', 'for', 'dinner', '?', 'what', 'are', 'the', 'near', 'by', 'tourist', 'attractions', '?', 'is', 'there', 'a', 'spa', 'in', 'the', 'hotel', '?', 'is', 'there', 'anywhere', 'i', 'can', 'get', 'a', 'massage', '?', 'what', 'time', 'is', 'the', 'check', 'in', '?', 'what', 'time', 'is', 'the', 'check', 'out', '?', 'do', 'you', 'offer', 'handicapped', 'rooms', '?', 'is', 'parking', 'available', 'at', 'the', 'hotel', '?', 'can', 'i', 'reserve', 'a', 'parking', 'lot', '?', 'what', 'are', 'the', 'reception', 'opening', 'hours', '?', 'can', 'i', 'also', 'book', 'breakfast', 'online', 'and', 'what', 'is', 'the', 'cost', '?', 'is', 'it', 'possible', 'to', 'book', 'spa', 'treatments', 'online', '?', 'can', 'i', 'book', 'tea', 'time', 'online', '?', 'can', 'i', 'bring', 'my', 'pet', '?', 'are', 'the', 'rates', 'per', 'person', 'or', 'per', 'room', '?', 'why', 'do', 'the', 'costs', 'vary', 'from', 'day', 'to', 'day', '?', 'can', 'i', 'book', 'two', 'rooms', 'of', 'different', 'categories', '?', 'can', 'i', 'book', 'two', 'rooms', 'with', 'different', 'occupancy', '?', 'is', 'wi-fi', 'available', 'at', 'the', 'hotel/in', 'the', 'room', '?', 'which', 'size', 'are', 'the', 'rooms', '?', 'can', 'i', 'reserve', 'a', 'table', 'in', 'a', 'restaurant', '?', 'do', 'you', 'offer', 'non-smoking', 'rooms', '?', 'do', 'you', 'offer', 'child', 'rates', '?', 'can', 'i', 'use', 'the', 'spa', 'area', 'even', 'if', 'i', 'am', 'not', 'staying', 'in', 'your', 'hotel', '?', 'can', 'i', 'use', 'the', 'spa', 'area', 'after', 'checking', 'out', '?', 'do', 'you', 'offer', 'hotel', 'shuttles', ',', 'for', 'example', ',', 'to', 'the', 'next', 'airport', 'or', 'train', 'station', '?', 'can', 'i', 'have', 'breakfast/dinner', 'even', 'if', 'i', 'am', 'not', 'staying', 'in', 'your', 'hotel', '?', 'are', 'special', 'requests', ',', 'such', 'as', 'gluten-free', 'meals', 'or', 'feather-free', 'pillows', ',', 'manageable', '?', 'i', 'have', 'bought', 'a', 'groupon-voucher', ',', 'how', 'can', 'i', 'redeem', 'it', 'in', 'your', 'hotel', '?', 'where', 'can', 'i', 'get', 'a', 'copy', 'of', 'my', 'invoice', 'after', 'departure', '?', 'what', 'should', 'i', 'do', ',', 'if', 'i', 'lost', 'or', 'forgot', 'something', 'in', 'my', 'room', '?']\n"
     ]
    }
   ],
   "source": [
    "word_tokens = nltk.word_tokenize(raw_data)# 문서를 단어 목록으로 변환\n",
    "print (word_tokens)"
   ]
  },
  {
   "cell_type": "markdown",
   "metadata": {
    "id": "CnTWY92ikGaY"
   },
   "source": [
    "#### 1.2.5 표제어 추출\n",
    "WordNetleMmatizer를 사용하여 단어 토큰에서 표제어를 추출하는 함수 작성"
   ]
  },
  {
   "cell_type": "code",
   "execution_count": null,
   "metadata": {
    "id": "-7sg_IsiaTGq"
   },
   "outputs": [],
   "source": [
    "lemmer = nltk.stem.WordNetLemmatizer() # lemmer 클래스를 초기화합니다. WordNet은 NLTK에 포함된 의미 론적 영어 사전입니다\n",
    "def LemTokens(tokens):\n",
    "    return [lemmer.lemmatize(token) for token in tokens]"
   ]
  },
  {
   "cell_type": "markdown",
   "metadata": {
    "id": "5YYMMEEGkGaY"
   },
   "source": [
    "#### 1.2.6 정규화\n",
    "지식 기반에 유용하지 않은 구두점을 제거하는 함수를 작성"
   ]
  },
  {
   "cell_type": "code",
   "execution_count": null,
   "metadata": {
    "id": "tNpTcnZQaTGq"
   },
   "outputs": [],
   "source": [
    "remove_punct_dict = dict((ord(punct), None) for punct in string.punctuation)\n",
    "def LemNormalize(text):\n",
    "    return LemTokens(nltk.word_tokenize(text.lower().translate(remove_punct_dict)))"
   ]
  },
  {
   "cell_type": "markdown",
   "metadata": {
    "id": "8yBNkjCkaTGq"
   },
   "source": [
    "## 2.챗봇 기능 추가 - 코사인 유사성\n",
    "데이터 세트를 문서 벡터로 변환 할 것입니다. 코사인 유사성은 유사한 벡터를 찾을 수 있게 해주며, 이러한 벡터는 의미가 비슷하다고 가정할 것입니다."
   ]
  },
  {
   "cell_type": "code",
   "execution_count": null,
   "metadata": {
    "id": "YKToF6tBaTGq"
   },
   "outputs": [],
   "source": [
    "# 2.1.1 입력 및 응답 목록 작성\n",
    "GREETING_INPUTS = [\"hello\", \"hi\", \"greetings\", \"sup\", \"what's up\",\"hey\", \"hey there\"]\n",
    "GREETING_RESPONSES = [\"hi\", \"hey\", \"*nods*\", \"hi there\", \"hello\", \"I am glad! You are talking to me\"]\n",
    "\n",
    "# 2.1.2 인사말을 수신하고 반환하는 함수 만들기\n",
    "def greeting(sentence):\n",
    "    for word in sentence.split(): # 문장의 각 단어를 살펴봅니다.\n",
    "        if word.lower() in GREETING_INPUTS: # 단어가 GREETING_INPUT와 일치하는지 확인합니다.\n",
    "            return random.choice(GREETING_RESPONSES) # Greeting_Response로 답장합니다."
   ]
  },
  {
   "cell_type": "markdown",
   "metadata": {
    "id": "OG8J9Y4haTGq"
   },
   "source": [
    "챗봇의 기능은 챗봇을 실행하기 위한 루프를 만듦으로써 이루어집니다. 아래 기능을 살펴봅니다. 함수의 각 줄은 중요한 단계를 수행하기 위해 다른 함수를 호출하기 때문에 중요합니다. 'response' 함수는 챗봇이 어떻게 행동하는지에 대한 작동 방식을 담당합니다."
   ]
  },
  {
   "cell_type": "code",
   "execution_count": null,
   "metadata": {
    "id": "ljpdA9lXaTGq"
   },
   "outputs": [],
   "source": [
    "# 2.1.3 질문을 받고 답변을 반환하는 함수 만들기\n",
    "def response(user_response):\n",
    "\n",
    "    robo_response='' # 문자열을 포함하도록 변수를 초기화\n",
    "    sent_tokens.append(user_response) # sent_messages에 사용자 응답 추가\n",
    "    TfidfVec = TfidfVectorizer(tokenizer=LemNormalize, stop_words='english')\n",
    "    tfidf = TfidfVec.fit_transform(sent_tokens) # tfidf 값 가져오기\n",
    "    vals = cosine_similarity(tfidf[-1], tfidf) # 코사인 유사성 값 가져오기\n",
    "    idx=vals.argsort()[0][-2]\n",
    "    flat = vals.flatten()\n",
    "    flat.sort() # 오름차순으로 정렬\n",
    "    req_tfidf = flat[-2]\n",
    "\n",
    "    if(req_tfidf==0):\n",
    "        robo_response=robo_response+\"I am sorry! I don't understand you\"\n",
    "        return robo_response, vals\n",
    "    else:\n",
    "        robo_response = robo_response+res[sent_tokens[idx]]\n",
    "        return robo_response, vals"
   ]
  },
  {
   "cell_type": "markdown",
   "metadata": {
    "id": "MObdf0DbaTGq"
   },
   "source": [
    "마지막으로 챗봇 인터페이스를 만들고 이를 중심으로 페르소나를 만들어 봅시다. 우리가 챗봇을 '제인'이라고 부르고 코사인 유사성을 사용하여 질문과 유사한 FAQ를 찾아 대답하도록 합시다."
   ]
  },
  {
   "cell_type": "code",
   "execution_count": null,
   "metadata": {
    "colab": {
     "base_uri": "https://localhost:8080/"
    },
    "id": "kAhwDtRAaTGr",
    "outputId": "a189d9b9-b5a9-472a-bcd2-0d1c3ec54cf0"
   },
   "outputs": [
    {
     "name": "stdout",
     "output_type": "stream",
     "text": [
      "Jane: My name is Jane. I will answer your queries about this hotel. If you want to exit, type Bye!\n",
      "Jane: hi\n",
      "Jane: Bye! take care..\n"
     ]
    }
   ],
   "source": [
    "# 2.1.4 챗봇 테스트\n",
    "\n",
    "flag=True\n",
    "print(\"Jane: My name is Jane. I will answer your queries about this hotel. If you want to exit, type Bye!\")\n",
    "\n",
    "while(flag==True):\n",
    "    user_response = input()\n",
    "    user_response=user_response.lower()\n",
    "    if(user_response!='bye'):\n",
    "        if(user_response=='thanks' or user_response=='thank you' ):\n",
    "            flag=False\n",
    "            print(\"Jane: You are welcome..\")\n",
    "        else:\n",
    "            if(greeting(user_response)!=None):\n",
    "                print(\"Jane: \"+greeting(user_response))\n",
    "\n",
    "            else:\n",
    "                print(\"Jane: \",end=\"\")\n",
    "                resp= response(user_response)\n",
    "                print(resp[0], )\n",
    "                sent_tokens.remove(user_response)\n",
    "                resp_l = resp[1].tolist()\n",
    "                resp_l[0].pop()\n",
    "                print(' (With similarity of ',max(resp_l[0]),')')\n",
    "\n",
    "    else:\n",
    "        flag=False\n",
    "        print(\"Jane: Bye! take care..\")\n"
   ]
  },
  {
   "cell_type": "markdown",
   "metadata": {
    "id": "ti57IhXEaTGr"
   },
   "source": [
    "## 3.Doc2vec를 이용한 챗봇 기능\n",
    "\n",
    "챗봇을 만들기 위한 한 가지 유형의 모델을 더 다룰 것입니다. 코사인 유사성 모델 알고리즘은 두 문장 사이의 유사성을 찾는데 사용됩니다. 하지만 이제 신경망을 사용해서 이 문제를 해결해 보려합니다. 살펴보도록 하겠습니다.\n",
    "\n",
    "Doc2Vec은 기본적으로 문서에서 벡터를 생성하는 신경망 기반 모델입니다. Doc2vec을 이해하기 위해서는 word2vec도 이해해야 합니다.\n",
    "\n",
    "#### word2vec란?\n",
    "이는 삽입 단어를 생성하는 모델이며, 여기서는 텍스트의 큰 말뭉치를 입력으로 받고 일반적으로 수백 개 차원의 벡터 공간을 생성합니다.\n",
    "\n",
    "2013년 9월과 10월 사이에 구글의 연구팀에 의해 두 개의 논문에 소개되었습니다. Word2Vec의 기본 가정은 유사한 맥락을 공유하는 두 단어가 유사한 의미를 공유하며 결과적으로 모델에서 유사한 벡터 표현을 공유한다는 것입니다.\n",
    "\n",
    "예를 들어, \"은행\", \"화폐\", \"계좌\"는 \"달러\", \"대출\", \"신용\"과 같은 유사한 주변 단어와 함께 종종 사용되며, 따라서 Word2Vec에 따르면 이들은 유사한 벡터 표현을 공유합니다.\n",
    "\n",
    "![Image](img1.png)"
   ]
  },
  {
   "cell_type": "markdown",
   "metadata": {
    "id": "ajt10YajaTGr"
   },
   "source": [
    "#### doc2vec 란?\n",
    "\n",
    "doc2vec의 목적은 말뭉치의 모든 단어에 대한 특징 벡터를 계산하는 word2vec와 달리 문장/단락/문서의 수치 표현을 생성하는 것입니다. doc2vec은 말뭉치의 모든 문서에 대한 특징 벡터를 계산합니다. doc2vec에 의해 생성된 벡터는 문장/단락/문서 간의 유사성 찾기와 같은 작업에 사용될 수 있습니다.\n",
    "\n",
    "<strong> doc2vec의 속성을 사용하여 우리만의 유사성 모델을 만들 것입니다.</strong>\n"
   ]
  },
  {
   "cell_type": "markdown",
   "metadata": {
    "id": "4rz_EMVtaTGr"
   },
   "source": [
    "관련 라이브러리를 가져오는 것으로 시작하겠습니다."
   ]
  },
  {
   "cell_type": "code",
   "execution_count": null,
   "metadata": {
    "colab": {
     "base_uri": "https://localhost:8080/"
    },
    "id": "ItqcrhJpa8nd",
    "outputId": "2348a912-2fd5-4eda-fbf7-02dd45e96220"
   },
   "outputs": [
    {
     "data": {
      "text/plain": [
       "0"
      ]
     },
     "execution_count": 13,
     "metadata": {},
     "output_type": "execute_result"
    }
   ],
   "source": [
    "# subprocess와 sys 모듈을 사용하여 gensim 버전 3.8.1을 설치하는 부분입니다.\n",
    "import subprocess\n",
    "import sys\n",
    "subprocess.check_call([sys.executable, \"-m\", \"pip\", \"install\", \"gensim == 3.8.1\"])"
   ]
  },
  {
   "cell_type": "code",
   "execution_count": null,
   "metadata": {
    "id": "u0uEPI3haTGs"
   },
   "outputs": [],
   "source": [
    "# gensim의 Doc2Vec와 TaggedDocument 클래스를 가져오고,\n",
    "# nltk.tokenize에서 word_tokenize 함수를 가져옵니다.\n",
    "from gensim.models.doc2vec import Doc2Vec, TaggedDocument\n",
    "from nltk.tokenize import word_tokenize"
   ]
  },
  {
   "cell_type": "markdown",
   "metadata": {
    "id": "jCN-DoefaTGs"
   },
   "source": [
    "첫 번째 주요 목표는 데이터에 태그를 지정하는 것입니다. doc2vec 모델은 데이터를 효과적으로 사용하기 위해 태그를 지정해야 합니다. 다음은 doc2vec에 대한 [시작 코드](https://www.kaggle.com/fmitchell259/creating-a-doc2vec-model) 좋은 학습 링크입니다. 다음 [링크](https://medium.com/wisio/a-gentle-introduction-to-doc2vec-db3e8c0cce5e) 도 유용하게 사용할 수 있으며 읽을 것을 권장합니다."
   ]
  },
  {
   "cell_type": "code",
   "execution_count": null,
   "metadata": {
    "id": "kXe558qcaTGs"
   },
   "outputs": [],
   "source": [
    "# 문장들을 소문자로 변환하고 단어로 토큰화하여 TaggedDocument 형식으로 변환한 후, tagged_data 리스트에 저장합니다.\n",
    "tagged_data = [TaggedDocument(words=word_tokenize(_d.lower()), tags=[str(i)]) for i, _d in enumerate(sent_tokens)]"
   ]
  },
  {
   "cell_type": "code",
   "execution_count": null,
   "metadata": {
    "id": "dfTTPFpQaTGs"
   },
   "outputs": [],
   "source": [
    "# 최대 에포크 수를 100으로 설정합니다.\n",
    "# 벡터의 크기를 20으로 설정합니다.\n",
    "# 학습률을 0.025로 설정합니다.\n",
    "max_epochs = 100\n",
    "vec_size = 20 # 벡터가 더 크려면 이것을 증가시키세요. 이것은 더 많은 차이를 의미합니다.\n",
    "alpha = 0.025"
   ]
  },
  {
   "cell_type": "markdown",
   "metadata": {
    "id": "dfhX6BQeaTGs"
   },
   "source": [
    "다음 단계는 모델을 훈련시키는 것입니다. 이전처럼 훈련 과정을 실행하기 위해 `model.train` 함수를 사용하게 될 것입니다. Doc2vec 모델을 훈련하는 방법에 대한 자세한 정보는 [문서](https://radimrehurek.com/gensim/models/doc2vec.html) 를 참조하십시오."
   ]
  },
  {
   "cell_type": "code",
   "execution_count": null,
   "metadata": {
    "colab": {
     "base_uri": "https://localhost:8080/"
    },
    "id": "h7ScV7f0aTGs",
    "outputId": "e226e5a2-e46b-4908-85e3-98defa6964a2"
   },
   "outputs": [
    {
     "name": "stdout",
     "output_type": "stream",
     "text": [
      "iteration 0\n",
      "iteration 1\n",
      "iteration 2\n",
      "iteration 3\n",
      "iteration 4\n",
      "iteration 5\n",
      "iteration 6\n",
      "iteration 7\n",
      "iteration 8\n",
      "iteration 9\n",
      "iteration 10\n",
      "iteration 11\n",
      "iteration 12\n",
      "iteration 13\n",
      "iteration 14\n",
      "iteration 15\n",
      "iteration 16\n",
      "iteration 17\n",
      "iteration 18\n",
      "iteration 19\n",
      "iteration 20\n",
      "iteration 21\n",
      "iteration 22\n",
      "iteration 23\n",
      "iteration 24\n",
      "iteration 25\n",
      "iteration 26\n",
      "iteration 27\n",
      "iteration 28\n",
      "iteration 29\n",
      "iteration 30\n",
      "iteration 31\n",
      "iteration 32\n",
      "iteration 33\n",
      "iteration 34\n",
      "iteration 35\n",
      "iteration 36\n",
      "iteration 37\n",
      "iteration 38\n",
      "iteration 39\n",
      "iteration 40\n",
      "iteration 41\n",
      "iteration 42\n",
      "iteration 43\n",
      "iteration 44\n",
      "iteration 45\n",
      "iteration 46\n",
      "iteration 47\n",
      "iteration 48\n",
      "iteration 49\n",
      "iteration 50\n",
      "iteration 51\n",
      "iteration 52\n",
      "iteration 53\n",
      "iteration 54\n",
      "iteration 55\n",
      "iteration 56\n",
      "iteration 57\n",
      "iteration 58\n",
      "iteration 59\n",
      "iteration 60\n",
      "iteration 61\n",
      "iteration 62\n",
      "iteration 63\n",
      "iteration 64\n",
      "iteration 65\n",
      "iteration 66\n",
      "iteration 67\n",
      "iteration 68\n",
      "iteration 69\n",
      "iteration 70\n",
      "iteration 71\n",
      "iteration 72\n",
      "iteration 73\n",
      "iteration 74\n",
      "iteration 75\n",
      "iteration 76\n",
      "iteration 77\n",
      "iteration 78\n",
      "iteration 79\n",
      "iteration 80\n",
      "iteration 81\n",
      "iteration 82\n",
      "iteration 83\n",
      "iteration 84\n",
      "iteration 85\n",
      "iteration 86\n",
      "iteration 87\n",
      "iteration 88\n",
      "iteration 89\n",
      "iteration 90\n",
      "iteration 91\n",
      "iteration 92\n",
      "iteration 93\n",
      "iteration 94\n",
      "iteration 95\n",
      "iteration 96\n",
      "iteration 97\n",
      "iteration 98\n",
      "iteration 99\n",
      "Model Saved\n"
     ]
    }
   ],
   "source": [
    "# 모델 정의\n",
    "model = Doc2Vec(vector_size=vec_size,\n",
    "                alpha=alpha,\n",
    "                min_alpha=0.00025,\n",
    "                min_count=1,\n",
    "                dm=1)\n",
    "\n",
    "# 단어 사전 생성\n",
    "model.build_vocab(tagged_data)\n",
    "\n",
    "# 모델 학습\n",
    "for epoch in range(max_epochs):\n",
    "    print(f'iteration {epoch}')\n",
    "    model.train(tagged_data,\n",
    "                total_examples=model.corpus_count,\n",
    "                epochs=1)  # 1 에포크만 실행\n",
    "    model.alpha -= 0.0002\n",
    "    model.min_alpha = model.alpha\n",
    "\n",
    "# 저장\n",
    "model.save(\"d2v.model\")\n",
    "print(\"Model Saved\")\n"
   ]
  },
  {
   "cell_type": "markdown",
   "metadata": {
    "id": "8THTIyMhaTGs"
   },
   "source": [
    "### doc2vec 모델 평가"
   ]
  },
  {
   "cell_type": "code",
   "execution_count": null,
   "metadata": {
    "id": "rc2d1J9-aTGs"
   },
   "outputs": [],
   "source": [
    "# 저장된 모델을 로드합니다.\n",
    "from gensim.models.doc2vec import Doc2Vec\n",
    "model= Doc2Vec.load(\"d2v.model\")"
   ]
  },
  {
   "cell_type": "code",
   "execution_count": null,
   "metadata": {
    "id": "iH3JR16OaTGs"
   },
   "outputs": [],
   "source": [
    "# 테스트 데이터를 소문자로 변환하고 단어로 토큰화합니다.\n",
    "test_data = word_tokenize(\"How much is the price?\".lower())"
   ]
  },
  {
   "cell_type": "markdown",
   "metadata": {
    "id": "ImHFLBeFaTGs"
   },
   "source": [
    "`model.infer_vector` 함수를 사용하여 문서와 관련된 벡터를 추론할 수 있습니다. 그런 다음`most_similar` 함수를 사용하여 우리가 만든 벡터와 가장 유사한 벡터를 찾을 수 있습니다. 결과는 어떻습니까?"
   ]
  },
  {
   "cell_type": "code",
   "execution_count": null,
   "metadata": {
    "colab": {
     "base_uri": "https://localhost:8080/"
    },
    "id": "tHtGjgCtaTGt",
    "outputId": "c21a88e8-fdab-4470-dd7a-8ffc7ec69d04"
   },
   "outputs": [
    {
     "name": "stdout",
     "output_type": "stream",
     "text": [
      "V1_infer [ 2.4535570e-02 -2.0199519e-02  8.2861809e-03  3.6326409e-03\n",
      " -1.7671769e-02  4.2885540e-06 -6.0604066e-03 -1.4544586e-02\n",
      " -3.2104417e-03  2.6584207e-03  8.6714868e-03 -2.3362791e-02\n",
      "  2.3954455e-02 -2.4221083e-02 -2.4556085e-02 -1.6498357e-02\n",
      " -1.9166937e-02 -4.3555498e-04 -1.6835131e-02  1.1011386e-02]\n"
     ]
    }
   ],
   "source": [
    "# 모델을 사용하여 문장의 벡터를 추론하고, v1에 저장한 후 출력합니다.\n",
    "v1 = model.infer_vector(test_data)\n",
    "print(\"V1_infer\", v1)"
   ]
  },
  {
   "cell_type": "code",
   "execution_count": null,
   "metadata": {
    "colab": {
     "base_uri": "https://localhost:8080/"
    },
    "id": "6jcvVT6maTGt",
    "outputId": "8497571d-346f-42ae-f2d8-05c4f8b21cf7"
   },
   "outputs": [
    {
     "name": "stdout",
     "output_type": "stream",
     "text": [
      "[('29', -0.15921728312969208), ('11', -0.16163676977157593), ('5', -0.16592566668987274), ('6', -0.17237408459186554)]\n"
     ]
    },
    {
     "name": "stderr",
     "output_type": "stream",
     "text": [
      "C:\\Users\\Public\\Documents\\ESTsoft\\CreatorTemp\\ipykernel_54932\\3519407241.py:2: DeprecationWarning: Call to deprecated `docvecs` (The `docvecs` property has been renamed `dv`.).\n",
      "  similar_doc = model.docvecs.most_similar(positive = [v1], topn = 4) #positive is an attribute that shows positive correlation first followed by the correlation value\n"
     ]
    }
   ],
   "source": [
    "# v1과 가장 유사한 문서 4개를 찾아 출력합니다.\n",
    "similar_doc = model.docvecs.most_similar(positive = [v1], topn = 4) #positive is an attribute that shows positive correlation first followed by the correlation value\n",
    "print(similar_doc)"
   ]
  },
  {
   "cell_type": "code",
   "execution_count": null,
   "metadata": {
    "colab": {
     "base_uri": "https://localhost:8080/"
    },
    "id": "K5RVlbzkaTGt",
    "outputId": "3003c008-66f6-46d5-e1e8-3d1f1d283c92"
   },
   "outputs": [
    {
     "data": {
      "text/plain": [
       "TaggedDocument(words=['can', 'i', 'bring', 'my', 'pet', '?'], tags=['29'])"
      ]
     },
     "execution_count": 35,
     "metadata": {},
     "output_type": "execute_result"
    }
   ],
   "source": [
    "# 가장 유사한 문서의 인덱스를 얻고, 해당 인덱스에 해당하는 문서를 출력합니다.\n",
    "num,_ = similar_doc[0]\n",
    "num = int(num)\n",
    "tagged_data[num]\n"
   ]
  },
  {
   "cell_type": "markdown",
   "metadata": {
    "id": "6nyV8stPaTGu"
   },
   "source": [
    "이전 코드 블록의 출력에서 이 모델이 생각했던 것 만큼 효과적이지 않다는 것이 분명합니다. 이 모델이 성공하기를 기대했지만 실패한 이유가 있습니까?"
   ]
  },
  {
   "cell_type": "markdown",
   "metadata": {
    "id": "IF3_3KTWaTGu"
   },
   "source": [
    "자세한 내용을 보려면 이 [링크](https://stackoverflow.com/questions/58206571/doc2vec-find-the-similar-sentence) 를 클릭하십시오. 이 문제의 요지는 다음과 같습니다.\n",
    "\n",
    "> Doc2Vec는 장난감 크기(toy-size)의 데이터셋에서 좋은 결과를 얻을 수 없으므로, 더 많은 데이터를 사용하기 전까지는 의미 있는 결과를 기대해서는 안 됩니다."
   ]
  },
  {
   "cell_type": "markdown",
   "metadata": {
    "id": "JkxnczmCaTGu"
   },
   "source": [
    "### 사전 학습된 doc2vec 사용\n",
    "\n",
    "따라서 인터넷에서 다운로드한 사전 검증된 모델을 사용하여 사용 사례를 최적화해 보겠습니다. The 우리가 취득 한 모델은 관련 언론 뉴스에 대한 훈련을 받았으며  [여기](https://github.com/jhlau/doc2vec) 서 다운로드 할 수 있습니다.\n",
    "\n",
    "모델을 로드하고 다시 평가해 보겠습니다."
   ]
  },
  {
   "cell_type": "code",
   "execution_count": null,
   "metadata": {
    "id": "OwYkOiukaTGu"
   },
   "outputs": [],
   "source": [
    "# 현재 작업 디렉토리에서 \"doc2vec.bin\" 파일을 로드합니다.\n",
    "# model= Doc2Vec.load(os.getcwd()+r\"/doc2vec.bin\")\n",
    "\n",
    "# model_path = os.path.join(os.getcwd(), \"doc2vec.bin\")\n",
    "# model = Doc2Vec.load(model_path)\n",
    "\n",
    "model = Doc2Vec.load(\"doc2vec.bin\")"
   ]
  },
  {
   "cell_type": "code",
   "execution_count": null,
   "metadata": {
    "id": "x3oHXA5zaTGu"
   },
   "outputs": [],
   "source": [
    "# 테스트 데이터를 소문자로 변환하고 단어로 토큰화합니다.\n",
    "test_data = word_tokenize(\"How much is the price?\".lower())"
   ]
  },
  {
   "cell_type": "code",
   "execution_count": null,
   "metadata": {
    "colab": {
     "base_uri": "https://localhost:8080/"
    },
    "id": "hkRhAtmEaTGu",
    "outputId": "7b5ccc32-2dab-470d-9ef6-ba2d7cd9820a"
   },
   "outputs": [
    {
     "name": "stdout",
     "output_type": "stream",
     "text": [
      "V1_infer [-6.7895791e-04  3.1424633e-01  5.0011498e-01  5.5652398e-01\n",
      " -3.7978029e-01 -2.2737168e-01 -2.0568010e-01  3.3155844e-01\n",
      " -8.0805027e-01 -2.7397968e-02  4.0857697e-01  8.0980472e-02\n",
      "  5.2382618e-02  5.4984719e-02 -1.7115207e-02 -1.7879706e-02\n",
      "  3.8374138e-01 -1.3245018e-01  4.4989508e-02 -2.3762363e-01]\n"
     ]
    }
   ],
   "source": [
    "# 모델을 사용하여 문장의 벡터를 추론하고, v1에 저장한 후 출력합니다.\n",
    "v1 = model.infer_vector(test_data)\n",
    "print(\"V1_infer\", v1)"
   ]
  },
  {
   "cell_type": "code",
   "execution_count": null,
   "metadata": {
    "colab": {
     "base_uri": "https://localhost:8080/"
    },
    "id": "wen70awiaTGu",
    "outputId": "1c791631-02ea-4f0f-cee0-08f627ab0cb3"
   },
   "outputs": [
    {
     "name": "stdout",
     "output_type": "stream",
     "text": [
      "what is the price of one night stay in basic suite?\n",
      "[[0.68138516]]\n",
      "how old is this establishment?\n",
      "[[0.69684505]]\n",
      "what time is breakfast served?\n",
      "[[0.6306859]]\n",
      "what is the breakfast menu?\n",
      "[[0.714886]]\n",
      "what is the history behind this hotel or establishment?\n",
      "[[0.60316193]]\n",
      "how many rooms are there in this hotel?\n",
      "[[0.60242194]]\n",
      "what are the types of rooms or suites offered by the hotel?\n",
      "[[0.5820018]]\n",
      "what is the name of the hotel?\n",
      "[[0.72328764]]\n",
      "is room service served 24 hours?\n",
      "[[0.46677023]]\n",
      "how do i call for room service?\n",
      "[[0.55820155]]\n",
      "are there any restaurants in the hotel?\n",
      "[[0.5394696]]\n",
      "how many floors are there in the hotel?\n",
      "[[0.62695587]]\n",
      "what is the price of one night stay at the mid-level suite?\n",
      "[[0.66304004]]\n",
      "what is the price of one night stay at the premium suite?\n",
      "[[0.66947365]]\n",
      "do you have tuxedo services?\n",
      "[[0.44583336]]\n",
      "do you have a laundry service?\n",
      "[[0.5216733]]\n",
      "what time do the restaurants open for dinner?\n",
      "[[0.5611314]]\n",
      "what are the near by tourist attractions?\n",
      "[[0.616261]]\n",
      "is there a spa in the hotel?\n",
      "[[0.5904058]]\n",
      "is there anywhere i can get a massage?\n",
      "[[0.5331752]]\n",
      "what time is the check in?\n",
      "[[0.6863094]]\n",
      "what time is the check out?\n",
      "[[0.71404725]]\n",
      "do you offer handicapped rooms?\n",
      "[[0.41881046]]\n",
      "is parking available at the hotel?\n",
      "[[0.63808435]]\n",
      "can i reserve a parking lot?\n",
      "[[0.49186382]]\n",
      "what are the reception opening hours?\n",
      "[[0.5861532]]\n",
      "can i also book breakfast online and what is the cost?\n",
      "[[0.6282339]]\n",
      "is it possible to book spa treatments online?\n",
      "[[0.54464364]]\n",
      "can i book tea time online?\n",
      "[[0.46366653]]\n",
      "can i bring my pet?\n",
      "[[0.4848671]]\n",
      "are the rates per person or per room?\n",
      "[[0.5460415]]\n",
      "why do the costs vary from day to day?\n",
      "[[0.6548088]]\n",
      "can i book two rooms of different categories?\n",
      "[[0.43102205]]\n",
      "can i book two rooms with different occupancy?\n",
      "[[0.39523757]]\n",
      "is wi-fi available at the hotel/in the room?\n",
      "[[0.6439486]]\n",
      "which size are the rooms?\n",
      "[[0.6378202]]\n",
      "can i reserve a table in a restaurant?\n",
      "[[0.48614758]]\n",
      "do you offer non-smoking rooms?\n",
      "[[0.45817155]]\n",
      "do you offer child rates?\n",
      "[[0.51327693]]\n",
      "can i use the spa area even if i am not staying in your hotel?\n",
      "[[0.44617736]]\n",
      "can i use the spa area after checking out?\n",
      "[[0.39388606]]\n",
      "do you offer hotel shuttles, for example, to the next airport or train station?\n",
      "[[0.49618378]]\n",
      "can i have breakfast/dinner even if i am not staying in your hotel?\n",
      "[[0.48162737]]\n",
      "are special requests, such as gluten-free meals or feather-free pillows, manageable?\n",
      "[[0.41917983]]\n",
      "i have bought a groupon-voucher, how can i redeem it in your hotel?\n",
      "[[0.57256675]]\n",
      "where can i get a copy of my invoice after departure?\n",
      "[[0.40491176]]\n",
      "what should i do, if i lost or forgot something in my room?\n",
      "[[0.52621126]]\n"
     ]
    }
   ],
   "source": [
    "# sent_tokens에 있는 모든 문장에 대해 벡터를 추론하고, 각 문장과 v1 사이의 코사인 유사도를 출력합니다.\n",
    "for i in sent_tokens:\n",
    "    v2 = model.infer_vector(word_tokenize(i.lower()))\n",
    "    print(i)\n",
    "    print(cosine_similarity(v1.reshape(1, -1),v2.reshape(1, -1)))"
   ]
  },
  {
   "cell_type": "code",
   "execution_count": null,
   "metadata": {
    "id": "cGEBbf8eaTGu"
   },
   "outputs": [],
   "source": [
    "# 주어진 질문에 대한 답변을 계산하는 함수 calc_prob를 정의합니다.\n",
    "\n",
    "def calc_prob(v1, q):\n",
    "    probs = dict()\n",
    "    for i in q:\n",
    "        # 각 질문에 대해 벡터를 추론하고, v1과의 코사인 유사도를 계산합니다.\n",
    "        v2 = model.infer_vector(word_tokenize(i.lower()))\n",
    "        sim = cosine_similarity(v1.reshape(1, -1),v2.reshape(1, -1))\n",
    "        #print(i)\n",
    "        #print(sim)\n",
    "        probs[i] = sim[0][0]\n",
    "\n",
    "    sorted_d = dict( sorted(probs.items(), key=operator.itemgetter(1),reverse=True))\n",
    "\n",
    "    # 유사도가 가장 높은 답변을 반환합니다.\n",
    "    return list(sorted_d.items())[0]"
   ]
  },
  {
   "cell_type": "code",
   "execution_count": null,
   "metadata": {
    "colab": {
     "base_uri": "https://localhost:8080/"
    },
    "id": "NFb4-p0faTGu",
    "outputId": "0cd58c0a-2388-412a-c85c-a0b58d65ba1f"
   },
   "outputs": [
    {
     "data": {
      "text/plain": [
       "('is it possible to book spa treatments online?', 0.87053996)"
      ]
     },
     "execution_count": 43,
     "metadata": {},
     "output_type": "execute_result"
    }
   ],
   "source": [
    "calc_prob(v1, sent_tokens)"
   ]
  },
  {
   "cell_type": "markdown",
   "metadata": {
    "id": "ISG0dPL8aTGv"
   },
   "source": [
    "이 모델이 더 효과적인 것처럼 보이기 때문에, 우리의 챗봇에 통합해 봅시다."
   ]
  },
  {
   "cell_type": "code",
   "execution_count": null,
   "metadata": {
    "colab": {
     "base_uri": "https://localhost:8080/",
     "height": 565
    },
    "id": "S8JaMj8TaTGv",
    "outputId": "32ea27c9-eb69-4808-b6bc-fc6c6bbef947"
   },
   "outputs": [
    {
     "name": "stdout",
     "output_type": "stream",
     "text": [
      "Jane: My name is Jane. I will answer your queries about this hotel. If you want to exit, type Bye!\n",
      "Jane: hi there\n",
      "Jane: 'rouge' is open for dinner at 7pm.\n",
      " (With similarity of  0.6697982 )\n",
      "Jane: Bye! take care..\n"
     ]
    }
   ],
   "source": [
    "# 사용자와 대화하는 부분입니다.\n",
    "\n",
    "flag=True\n",
    "print(\"Jane: My name is Jane. I will answer your queries about this hotel. If you want to exit, type Bye!\")\n",
    "\n",
    "while(flag==True):\n",
    "    # 사용자의 입력을 받고, 소문자로 변환합니다.\n",
    "    user_response = input()\n",
    "    user_response=user_response.lower()\n",
    "    # 사용자가 'bye'를 입력하기 전까지 다음 동작을 반복합니다:\n",
    "    if(user_response!='bye'):\n",
    "        # 사용자가 'thanks' 또는 'thank you'를 입력하면 대화를 종료하고 \"You are welcome..\"을 출력합니다.\n",
    "        if(user_response=='thanks' or user_response=='thank you' ):\n",
    "            flag=False\n",
    "            print(\"Jane: You are welcome..\")\n",
    "        else:\n",
    "            # 사용자의 인사말에 대한 응답이 있는 경우 해당 응답을 출력합니다.\n",
    "            if(greeting(user_response)!=None):\n",
    "                print(\"Jane: \"+greeting(user_response))\n",
    "\n",
    "            # 그렇지 않은 경우, 주어진 질문에 대한 답변을 계산하고 출력합니다.\n",
    "            else:\n",
    "                print(\"Jane: \",end=\"\")\n",
    "                resp= calc_prob(model.infer_vector(word_tokenize(user_response)), sent_tokens)\n",
    "                print(res[resp[0]], )\n",
    "                print(' (With similarity of ',resp[1],')')\n",
    "\n",
    "    else:\n",
    "        flag=False\n",
    "        print(\"Jane: Bye! take care..\")"
   ]
  },
  {
   "cell_type": "markdown",
   "metadata": {
    "id": "g55PaQhWputU"
   },
   "source": [
    "**두 모델의 성능** 을 관찰한 후 다음과 같은 몇 가지 명확한 결론을 내릴 수 있습니다:\n",
    "\n",
    "1. Doc2vec 모델은 단어 간의 관계를 이해하기 위해 더 많은 데이터가 필요합니다. 그리고 사전 훈련된 모델을 사용한 후에도 코사인 유사성 모델에 비해 모델의 응답의 품질이 아직 부족합니다.\n",
    "2. 코사인 유사성 모델은 더 작고 잘 정의된 데이터 세트에서 더 잘 작동합니다. 이는 몇 가지 간단한 질문을 효과적으로 해결할 수 있지만 컨텍스트를 필요로 하는 복잡한 질문은 해결할 수 없다는 의미입니다."
   ]
  },
  {
   "cell_type": "markdown",
   "metadata": {
    "id": "PTRfchAhkGaj"
   },
   "source": [
    "### 통합코드 : doc2vec를 이용한 챗봇 기능"
   ]
  },
  {
   "cell_type": "code",
   "execution_count": null,
   "metadata": {
    "id": "_Yn6u7wKkGaj",
    "outputId": "0eb8f389-c220-4729-ddbc-9ea37b3c883c"
   },
   "outputs": [
    {
     "name": "stdout",
     "output_type": "stream",
     "text": [
      "Jane: 안녕하세요. 저는 Jane입니다. 호텔에 대해 궁금한 점을 알려주세요. 종료하려면 'bye'를 입력하세요.\n",
      "Jane: The breakfast menu is decided as per the head chefs decision on the night before; kindly contact hotel staff for information about the menu on the night before. (유사도: 1.00)\n",
      "Jane: 200$ per night is the price for a basic suite. (유사도: 1.00)\n",
      "Jane: 300$ per night is the standard price for a mid-level suite. (유사도: 1.00)\n",
      "Jane: Yes, room service is available 24 hrs. (유사도: 1.00)\n",
      "Jane: To call room service, please dial '0' using the phone in your room. (유사도: 0.99)\n",
      "Jane: 500$ per night is the price for a premium suite. (유사도: 1.00)\n",
      "Jane: 500$ per night is the price for a premium suite. (유사도: 0.95)\n",
      "Jane: 500$ per night is the price for a premium suite. (유사도: 0.99)\n",
      "Jane: There are 12 floors in the hotel. (유사도: 1.00)\n",
      "Jane: 다음에 또 만나요! 이용해주셔서 감사합니다.\n"
     ]
    }
   ],
   "source": [
    "# 1. 필요한 라이브러리 불러오기\n",
    "# pandas: 데이터프레임 처리를 위한 라이브러리\n",
    "# nltk: 자연어 처리를 위한 라이브러리 (토큰화, 표제어 추출 등)\n",
    "# gensim: Doc2Vec 모델을 위한 라이브러리\n",
    "# numpy: 수치 연산을 위한 라이브러리\n",
    "# sklearn.metrics.pairwise: 코사인 유사도 계산을 위한 라이브러리\n",
    "# string: 문자열 처리를 위한 라이브러리\n",
    "import pandas as pd\n",
    "import nltk\n",
    "from nltk.tokenize import sent_tokenize, word_tokenize\n",
    "from nltk.stem import WordNetLemmatizer\n",
    "from gensim.models.doc2vec import Doc2Vec, TaggedDocument\n",
    "import numpy as np\n",
    "from sklearn.metrics.pairwise import cosine_similarity\n",
    "import string\n",
    "\n",
    "# 2. NLTK 데이터 다운로드 (필요 시 한 번만 실행)\n",
    "# nltk.download('punkt')\n",
    "# nltk.download('wordnet')\n",
    "# nltk.download('omw-1.4')\n",
    "\n",
    "# 3. 데이터 로드 및 전처리\n",
    "# 사용자가 제공한 질문과 답변 파일을 로드하고 전처리합니다.\n",
    "with open(\"[Dataset] Module27(ques).txt\", \"r\", encoding='utf-8') as file:\n",
    "    questions = file.readlines()\n",
    "\n",
    "with open(\"[Dataset] Module27 (ans).txt\", \"r\", encoding='utf-8') as file:\n",
    "    answers = file.readlines()\n",
    "\n",
    "# 각 질문과 답변의 앞뒤 공백 및 불필요한 공백 제거\n",
    "questions = [q.strip() for q in questions if q.strip()]\n",
    "answers = [a.strip() for a in answers if a.strip()]\n",
    "\n",
    "# 질문과 답변 리스트의 길이를 동일하게 맞추기\n",
    "min_length = min(len(questions), len(answers))\n",
    "questions = questions[:min_length]\n",
    "answers = answers[:min_length]\n",
    "\n",
    "# 질문과 답변을 매핑하는 딕셔너리 생성\n",
    "res = dict(zip(questions, answers))\n",
    "\n",
    "# 질문 리스트를 sent_tokens로 정의 (모델 학습에 사용)\n",
    "sent_tokens = questions\n",
    "\n",
    "# 4. 데이터 전처리 및 TaggedDocument 생성\n",
    "# 각 문장을 소문자로 변환하고 단어로 토큰화한 후, TaggedDocument 형식으로 변환합니다.\n",
    "lemmatizer = WordNetLemmatizer()\n",
    "remove_punct_dict = dict((ord(punct), None) for punct in string.punctuation)\n",
    "\n",
    "def preprocess_text(text):\n",
    "    if text is None or not isinstance(text, str):\n",
    "        return []\n",
    "    # 소문자 변환, 구두점 제거, 토큰화, 표제어 추출\n",
    "    tokens = word_tokenize(text.lower().translate(remove_punct_dict))\n",
    "    return [lemmatizer.lemmatize(word) for word in tokens]\n",
    "\n",
    "tagged_data = [\n",
    "    TaggedDocument(words=preprocess_text(_d), tags=[str(i)])\n",
    "    for i, _d in enumerate(sent_tokens)\n",
    "]\n",
    "\n",
    "# 5. Doc2Vec 모델 정의 및 학습\n",
    "# - vector_size: 문서 벡터의 차원\n",
    "# - alpha: 초기 학습률\n",
    "# - min_alpha: 최소 학습률\n",
    "# - dm=1: PV-DM(Distributed Memory) 알고리즘 사용\n",
    "max_epochs = 200  # 에포크를 200으로 증가\n",
    "vec_size = 100    # 벡터 크기를 100으로 유지\n",
    "alpha = 0.025\n",
    "\n",
    "model = Doc2Vec(\n",
    "    vector_size=vec_size,\n",
    "    alpha=alpha,\n",
    "    min_alpha=0.00025,\n",
    "    min_count=2,  # 최소 출현 빈도를 2로 설정\n",
    "    dm=1\n",
    ")\n",
    "\n",
    "# 단어 사전 구축\n",
    "model.build_vocab(tagged_data)\n",
    "\n",
    "# 모델 학습\n",
    "# 학습률을 고정하고 epochs 매개변수를 직접 사용합니다.\n",
    "model.train(\n",
    "    tagged_data,\n",
    "    total_examples=model.corpus_count,\n",
    "    epochs=max_epochs\n",
    ")\n",
    "\n",
    "# 모델 저장 (선택 사항)\n",
    "# model.save(\"d2v.model\")\n",
    "# print(\"모델이 저장되었습니다.\")\n",
    "\n",
    "# 6. 챗봇 기능 구현\n",
    "def get_response(user_input, model, sent_tokens, res):\n",
    "    # 사용자의 질문을 전처리하여 벡터를 추론합니다.\n",
    "    user_tokens = preprocess_text(user_input)\n",
    "    if not user_tokens:\n",
    "        return \"죄송합니다. 이해하지 못했습니다.\", 0.0\n",
    "    user_vector = model.infer_vector(user_tokens)\n",
    "\n",
    "    # 모든 학습 문장과 사용자 질문 벡터 간의 코사인 유사도 계산\n",
    "    similarities = []\n",
    "    # `model.dv` 속성을 사용하여 경고 메시지 제거\n",
    "    for doc_idx in range(len(model.dv)):\n",
    "        doc_vector = model.dv[doc_idx]\n",
    "        sim = cosine_similarity(user_vector.reshape(1, -1), doc_vector.reshape(1, -1))[0][0]\n",
    "        similarities.append((doc_idx, sim))\n",
    "\n",
    "    # 가장 높은 유사도를 가진 문장 찾기\n",
    "    similarities.sort(key=lambda x: x[1], reverse=True)\n",
    "    most_similar_index, most_similar_score = similarities[0]\n",
    "\n",
    "    # 70% 이상의 유사도가 있으면 해당 답변 반환\n",
    "    if most_similar_score > 0.7:\n",
    "        return res[sent_tokens[most_similar_index]], most_similar_score\n",
    "    else:\n",
    "        return \"죄송합니다. 이해하지 못했습니다.\", most_similar_score\n",
    "\n",
    "# 간단한 인사말 처리\n",
    "def greeting(sentence):\n",
    "    GREETING_INPUTS = (\"hello\", \"hi\", \"greetings\", \"sup\", \"what's up\",\"hey\")\n",
    "    for word in sentence.split():\n",
    "        if word.lower() in GREETING_INPUTS:\n",
    "            return \"안녕하세요. 무엇을 도와드릴까요?\"\n",
    "    return None\n"
   ]
  },
  {
   "cell_type": "code",
   "execution_count": null,
   "metadata": {
    "id": "5q8uFzOEkGaj"
   },
   "outputs": [],
   "source": [
    "# 7. 대화 루프\n",
    "print(\"Jane: 안녕하세요. 저는 Jane입니다. 호텔에 대해 궁금한 점을 알려주세요. 종료하려면 'bye'를 입력하세요.\")\n",
    "\n",
    "while True:\n",
    "    user_response = input(\"You: \")\n",
    "    user_response = user_response.lower()\n",
    "\n",
    "    if user_response == 'bye':\n",
    "        print(\"Jane: 다음에 또 만나요! 이용해주셔서 감사합니다.\")\n",
    "        break\n",
    "    elif user_response in ['thanks', 'thank you']:\n",
    "        print(\"Jane: 천만에요.\")\n",
    "    elif greeting(user_response):\n",
    "        print(f\"Jane: {greeting(user_response)}\")\n",
    "    else:\n",
    "        response_text, response_score = get_response(user_response, model, sent_tokens, res)\n",
    "        print(f\"Jane: {response_text} (유사도: {response_score:.2f})\")"
   ]
  },
  {
   "cell_type": "markdown",
   "metadata": {
    "id": "dIgT7_1wkGaj"
   },
   "source": [
    "## 4.doc2vec + transformers\n",
    "\n",
    "*   항목 추가\n",
    "*   항목 추가\n",
    "\n"
   ]
  },
  {
   "cell_type": "code",
   "execution_count": 2,
   "metadata": {
    "colab": {
     "base_uri": "https://localhost:8080/",
     "height": 689
    },
    "executionInfo": {
     "elapsed": 27994,
     "status": "ok",
     "timestamp": 1756048379932,
     "user": {
      "displayName": "HeeSook Kang",
      "userId": "00544510066329555639"
     },
     "user_tz": -540
    },
    "id": "hGZp3QTKkGaj",
    "outputId": "c9c1cbe6-973b-4bab-9d44-17d21d87eab2"
   },
   "outputs": [
    {
     "name": "stdout",
     "output_type": "stream",
     "text": [
      "Collecting gensim\n",
      "  Downloading gensim-4.3.3-cp312-cp312-manylinux_2_17_x86_64.manylinux2014_x86_64.whl.metadata (8.1 kB)\n",
      "Collecting numpy<2.0,>=1.18.5 (from gensim)\n",
      "  Downloading numpy-1.26.4-cp312-cp312-manylinux_2_17_x86_64.manylinux2014_x86_64.whl.metadata (61 kB)\n",
      "\u001b[2K     \u001b[90m━━━━━━━━━━━━━━━━━━━━━━━━━━━━━━━━━━━━━━━━\u001b[0m \u001b[32m61.0/61.0 kB\u001b[0m \u001b[31m4.0 MB/s\u001b[0m eta \u001b[36m0:00:00\u001b[0m\n",
      "\u001b[?25hCollecting scipy<1.14.0,>=1.7.0 (from gensim)\n",
      "  Downloading scipy-1.13.1-cp312-cp312-manylinux_2_17_x86_64.manylinux2014_x86_64.whl.metadata (60 kB)\n",
      "\u001b[2K     \u001b[90m━━━━━━━━━━━━━━━━━━━━━━━━━━━━━━━━━━━━━━━━\u001b[0m \u001b[32m60.6/60.6 kB\u001b[0m \u001b[31m4.2 MB/s\u001b[0m eta \u001b[36m0:00:00\u001b[0m\n",
      "\u001b[?25hRequirement already satisfied: smart-open>=1.8.1 in /usr/local/lib/python3.12/dist-packages (from gensim) (7.3.0.post1)\n",
      "Requirement already satisfied: wrapt in /usr/local/lib/python3.12/dist-packages (from smart-open>=1.8.1->gensim) (1.17.3)\n",
      "Downloading gensim-4.3.3-cp312-cp312-manylinux_2_17_x86_64.manylinux2014_x86_64.whl (26.6 MB)\n",
      "\u001b[2K   \u001b[90m━━━━━━━━━━━━━━━━━━━━━━━━━━━━━━━━━━━━━━━━\u001b[0m \u001b[32m26.6/26.6 MB\u001b[0m \u001b[31m62.0 MB/s\u001b[0m eta \u001b[36m0:00:00\u001b[0m\n",
      "\u001b[?25hDownloading numpy-1.26.4-cp312-cp312-manylinux_2_17_x86_64.manylinux2014_x86_64.whl (18.0 MB)\n",
      "\u001b[2K   \u001b[90m━━━━━━━━━━━━━━━━━━━━━━━━━━━━━━━━━━━━━━━━\u001b[0m \u001b[32m18.0/18.0 MB\u001b[0m \u001b[31m37.0 MB/s\u001b[0m eta \u001b[36m0:00:00\u001b[0m\n",
      "\u001b[?25hDownloading scipy-1.13.1-cp312-cp312-manylinux_2_17_x86_64.manylinux2014_x86_64.whl (38.2 MB)\n",
      "\u001b[2K   \u001b[90m━━━━━━━━━━━━━━━━━━━━━━━━━━━━━━━━━━━━━━━━\u001b[0m \u001b[32m38.2/38.2 MB\u001b[0m \u001b[31m13.8 MB/s\u001b[0m eta \u001b[36m0:00:00\u001b[0m\n",
      "\u001b[?25hInstalling collected packages: numpy, scipy, gensim\n",
      "  Attempting uninstall: numpy\n",
      "    Found existing installation: numpy 2.0.2\n",
      "    Uninstalling numpy-2.0.2:\n",
      "      Successfully uninstalled numpy-2.0.2\n",
      "  Attempting uninstall: scipy\n",
      "    Found existing installation: scipy 1.16.1\n",
      "    Uninstalling scipy-1.16.1:\n",
      "      Successfully uninstalled scipy-1.16.1\n",
      "\u001b[31mERROR: pip's dependency resolver does not currently take into account all the packages that are installed. This behaviour is the source of the following dependency conflicts.\n",
      "thinc 8.3.6 requires numpy<3.0.0,>=2.0.0, but you have numpy 1.26.4 which is incompatible.\n",
      "opencv-contrib-python 4.12.0.88 requires numpy<2.3.0,>=2; python_version >= \"3.9\", but you have numpy 1.26.4 which is incompatible.\n",
      "opencv-python-headless 4.12.0.88 requires numpy<2.3.0,>=2; python_version >= \"3.9\", but you have numpy 1.26.4 which is incompatible.\n",
      "tsfresh 0.21.0 requires scipy>=1.14.0; python_version >= \"3.10\", but you have scipy 1.13.1 which is incompatible.\n",
      "opencv-python 4.12.0.88 requires numpy<2.3.0,>=2; python_version >= \"3.9\", but you have numpy 1.26.4 which is incompatible.\u001b[0m\u001b[31m\n",
      "\u001b[0mSuccessfully installed gensim-4.3.3 numpy-1.26.4 scipy-1.13.1\n"
     ]
    },
    {
     "data": {
      "application/vnd.colab-display-data+json": {
       "id": "e7e775cde13d4b4b834c4fecf47873f3",
       "pip_warning": {
        "packages": [
         "numpy",
         "scipy"
        ]
       }
      }
     },
     "metadata": {},
     "output_type": "display_data"
    }
   ],
   "source": [
    "!pip install gensim"
   ]
  },
  {
   "cell_type": "code",
   "execution_count": null,
   "metadata": {
    "colab": {
     "base_uri": "https://localhost:8080/",
     "height": 321,
     "referenced_widgets": [
      "0c95a57270c5496dbe41a728713dfeb7",
      "941964e7b56d473f8af3b43ad1c17eb1",
      "bc207a6b4b954954b34ce6ef1757289c",
      "51761c1d55b5455da13989acfce9157b",
      "60825aff32314ba48624aff69e73af8d",
      "c15ad75dbb864999aacb92e4e34dcd12",
      "977d1bd66ce149559d7f4064cc778ead",
      "124b620770804800bfe1113c67635d54",
      "e7f18b2ead0e47cda453fee3aaf720d3",
      "36212fc0b04e45bc9406056f5d3b938a",
      "311148a699cd452baa026f2870a57a75",
      "eee20c1ed8d54d5591b5337000e78833",
      "4bdbf38847eb45f5bba864c7e4e20758",
      "afecc124e82845d480a097d3dca02049",
      "03995790cca9460dafbb61b07ef93ad6",
      "f98d69234fd5412b93547c3901bdb259",
      "ed32343687ab4f718389866c2eb995c0",
      "3f781ec1e4ba4453b4b4c67925c3b129",
      "86d5b2a5b334407a95f2ed6c986d4a32",
      "a408727f68624fc69cb4abf4bfc7dd4e",
      "93e7bc76b32b497fbab4e7b6a1b9169d",
      "9c08cfa3b8b546a48f77d68171da4095",
      "7cf9ebddc793488fa68c1696b93670d8",
      "6e4a62f3d8a644508a1d19bc890c227d",
      "8818436569eb4a65aff8e6f9d2ebaa57",
      "5918cc0cd1574447b2957cc6967d3997",
      "d0cb19cbb51546ae9ad163efebba8d0d",
      "8322e02587f144789136413ce8238474",
      "fe1ba3f252674f4d9125a96cec63e3b1",
      "91bb868a78864f45bee014f1de959da5",
      "c07c9599e59f430494338ceb767130b0",
      "e3832e435d0b42528d7880147d927dc2",
      "026f3bef461643a5916b198aa05387a2"
     ]
    },
    "id": "F0NoQPFDkGaj",
    "outputId": "4b1c8e83-f20d-4386-d535-57e42070184f"
   },
   "outputs": [
    {
     "name": "stderr",
     "output_type": "stream",
     "text": [
      "[nltk_data] Downloading package punkt to /root/nltk_data...\n",
      "[nltk_data]   Package punkt is already up-to-date!\n",
      "[nltk_data] Downloading package wordnet to /root/nltk_data...\n",
      "[nltk_data]   Package wordnet is already up-to-date!\n",
      "[nltk_data] Downloading package omw-1.4 to /root/nltk_data...\n",
      "[nltk_data]   Package omw-1.4 is already up-to-date!\n",
      "[nltk_data] Downloading package punkt_tab to /root/nltk_data...\n",
      "[nltk_data]   Unzipping tokenizers/punkt_tab.zip.\n"
     ]
    },
    {
     "name": "stdout",
     "output_type": "stream",
     "text": [
      "Using device: cpu\n"
     ]
    },
    {
     "data": {
      "application/vnd.jupyter.widget-view+json": {
       "model_id": "0c95a57270c5496dbe41a728713dfeb7",
       "version_major": 2,
       "version_minor": 0
      },
      "text/plain": [
       "tokenizer.json: 0.00B [00:00, ?B/s]"
      ]
     },
     "metadata": {},
     "output_type": "display_data"
    },
    {
     "data": {
      "application/vnd.jupyter.widget-view+json": {
       "model_id": "eee20c1ed8d54d5591b5337000e78833",
       "version_major": 2,
       "version_minor": 0
      },
      "text/plain": [
       "config.json: 0.00B [00:00, ?B/s]"
      ]
     },
     "metadata": {},
     "output_type": "display_data"
    },
    {
     "name": "stderr",
     "output_type": "stream",
     "text": [
      "The tokenizer class you load from this checkpoint is not the same type as the class this function is called from. It may result in unexpected tokenization. \n",
      "The tokenizer class you load from this checkpoint is 'GPT2Tokenizer'. \n",
      "The class this function is called from is 'PreTrainedTokenizerFast'.\n"
     ]
    },
    {
     "data": {
      "application/vnd.jupyter.widget-view+json": {
       "model_id": "7cf9ebddc793488fa68c1696b93670d8",
       "version_major": 2,
       "version_minor": 0
      },
      "text/plain": [
       "pytorch_model.bin:   0%|          | 0.00/513M [00:00<?, ?B/s]"
      ]
     },
     "metadata": {},
     "output_type": "display_data"
    }
   ],
   "source": [
    "# 1. 필요한 라이브러리 불러오기\n",
    "# pandas: 데이터프레임 처리를 위한 라이브러리\n",
    "# nltk: 자연어 처리를 위한 라이브러리 (토큰화, 표제어 추출 등)\n",
    "# gensim: Doc2Vec 모델을 위한 라이브러리\n",
    "# transformers: KoGPT2 모델을 위한 라이브러리\n",
    "# torch: PyTorch 라이브러리\n",
    "# numpy: 수치 연산을 위한 라이브러리\n",
    "# string: 문자열 처리를 위한 라이브러리\n",
    "import pandas as pd\n",
    "import nltk\n",
    "from nltk.tokenize import sent_tokenize, word_tokenize\n",
    "from nltk.stem import WordNetLemmatizer\n",
    "from gensim.models.doc2vec import Doc2Vec, TaggedDocument\n",
    "from transformers import GPT2LMHeadModel, PreTrainedTokenizerFast\n",
    "import torch\n",
    "import numpy as np\n",
    "import string\n",
    "\n",
    "# 2. NLTK 데이터 다운로드 (필요 시 한 번만 실행)\n",
    "nltk.download('punkt')\n",
    "nltk.download('wordnet')\n",
    "nltk.download('omw-1.4')\n",
    "nltk.download('punkt_tab')\n",
    "\n",
    "# GPU 사용 가능 여부 확인 및 장치 설정\n",
    "device = \"cuda\" if torch.cuda.is_available() else \"cpu\"\n",
    "print(f\"Using device: {device}\")\n",
    "\n",
    "# 3. 데이터 로드 및 전처리\n",
    "# 사용자가 제공한 질문과 답변 파일을 로드하고 전처리합니다.\n",
    "with open(\"[Dataset] Module27(ques).txt\", \"r\", encoding='utf-8') as file:\n",
    "    questions = file.readlines()\n",
    "\n",
    "with open(\"[Dataset] Module27 (ans).txt\", \"r\", encoding='utf-8') as file:\n",
    "    answers = file.readlines()\n",
    "\n",
    "# 각 질문과 답변의 앞뒤 공백 및 불필요한 공백 제거\n",
    "questions = [q.strip() for q in questions if q.strip()]\n",
    "answers = [a.strip() for a in answers if a.strip()]\n",
    "\n",
    "# 질문과 답변 리스트의 길이를 동일하게 맞추기\n",
    "min_length = min(len(questions), len(answers))\n",
    "questions = questions[:min_length]\n",
    "answers = answers[:min_length]\n",
    "\n",
    "# 질문과 답변을 매핑하는 딕셔너리 생성\n",
    "res = dict(zip(questions, answers))\n",
    "\n",
    "# 질문 리스트를 sent_tokens로 정의 (모델 학습에 사용)\n",
    "sent_tokens = questions\n",
    "\n",
    "# 4. Doc2Vec 데이터 전처리 및 TaggedDocument 생성\n",
    "# 각 문장을 소문자로 변환하고 단어로 토큰화한 후, TaggedDocument 형식으로 변환합니다.\n",
    "lemmatizer = WordNetLemmatizer()\n",
    "remove_punct_dict = dict((ord(punct), None) for punct in string.punctuation)\n",
    "\n",
    "def preprocess_text(text):\n",
    "    if text is None or not isinstance(text, str):\n",
    "        return []\n",
    "    # 소문자 변환, 구두점 제거, 토큰화, 표제어 추출\n",
    "    tokens = word_tokenize(text.lower().translate(remove_punct_dict))\n",
    "    return [lemmatizer.lemmatize(word) for word in tokens]\n",
    "\n",
    "tagged_data = [\n",
    "    TaggedDocument(words=preprocess_text(_d), tags=[str(i)])\n",
    "    for i, _d in enumerate(sent_tokens)\n",
    "]\n",
    "\n",
    "# 5. Doc2Vec 모델 정의 및 학습\n",
    "# - vector_size: 문서 벡터의 차원\n",
    "# - alpha: 초기 학습률\n",
    "# - dm=1: PV-DM(Distributed Memory) 알고리즘 사용\n",
    "max_epochs = 200\n",
    "vec_size = 100\n",
    "alpha = 0.025\n",
    "\n",
    "doc2vec_model = Doc2Vec(\n",
    "    vector_size=vec_size,\n",
    "    alpha=alpha,\n",
    "    min_alpha=0.00025,\n",
    "    min_count=2,\n",
    "    dm=1\n",
    ")\n",
    "\n",
    "# 단어 사전 구축\n",
    "doc2vec_model.build_vocab(tagged_data)\n",
    "\n",
    "# 모델 학습\n",
    "doc2vec_model.train(\n",
    "    tagged_data,\n",
    "    total_examples=doc2vec_model.corpus_count,\n",
    "    epochs=max_epochs\n",
    ")\n",
    "\n",
    "# 6. KoGPT2 모델 및 토크나이저 설정\n",
    "MODEL_NAME = \"skt/kogpt2-base-v2\"\n",
    "tokenizer = PreTrainedTokenizerFast.from_pretrained(\n",
    "    MODEL_NAME,\n",
    "    bos_token='</s>', eos_token='</s>', unk_token='<unk>',\n",
    "    pad_token='<pad>', mask_token='<mask>'\n",
    ")\n",
    "kogpt2_model = GPT2LMHeadModel.from_pretrained(MODEL_NAME).to(device)\n",
    "\n",
    "# 7. 챗봇 기능 구현\n",
    "def get_response_hybrid(user_input, doc2vec_model, kogpt2_model, tokenizer, sent_tokens, res):\n",
    "    # Doc2Vec을 사용하여 사용자의 질문과 가장 유사한 질문을 찾습니다.\n",
    "    user_tokens = preprocess_text(user_input)\n",
    "    if not user_tokens:\n",
    "        return \"죄송합니다. 이해하지 못했습니다.\", 0.0\n",
    "    user_vector = doc2vec_model.infer_vector(user_tokens)\n",
    "\n",
    "    # Doc2Vec을 통해 유사한 문서 벡터 찾기\n",
    "    similar_doc_tags = doc2vec_model.dv.most_similar(positive=[user_vector], topn=1)\n",
    "\n",
    "    most_similar_index = int(similar_doc_tags[0][0])\n",
    "    most_similar_score = similar_doc_tags[0][1]\n",
    "\n",
    "    # 유사도 임계값 설정\n",
    "    if most_similar_score > 0.7:\n",
    "        # 1차적으로 Doc2Vec으로 찾은 답변을 KoGPT2의 입력으로 사용합니다.\n",
    "        # \"Q: [사용자 질문] A: [가장 유사한 답변]\" 형식으로 프롬프트를 구성합니다.\n",
    "        prompt = f\"Q: {sent_tokens[most_similar_index]} A: {res[sent_tokens[most_similar_index]]} \"\n",
    "\n",
    "        input_ids = tokenizer.encode(prompt, return_tensors=\"pt\").to(device)\n",
    "\n",
    "        # KoGPT2 모델을 사용하여 답변을 생성합니다.\n",
    "        output_ids = kogpt2_model.generate(\n",
    "            input_ids,\n",
    "            max_length=100,\n",
    "            pad_token_id=tokenizer.eos_token_id,\n",
    "            do_sample=True,\n",
    "            top_k=50,\n",
    "            top_p=0.9,\n",
    "            repetition_penalty=1.2\n",
    "        )\n",
    "\n",
    "        response = tokenizer.decode(output_ids[0], skip_special_tokens=True)\n",
    "        # 생성된 답변에서 실제 답변 부분만 추출합니다.\n",
    "        generated_response = response.split(\"A: \")[-1].strip()\n",
    "\n",
    "        return generated_response, most_similar_score\n",
    "    else:\n",
    "        return \"죄송합니다. 이해하지 못했습니다. (Doc2Vec 유사도 낮음)\", most_similar_score\n",
    "\n"
   ]
  },
  {
   "cell_type": "code",
   "execution_count": null,
   "metadata": {
    "colab": {
     "base_uri": "https://localhost:8080/"
    },
    "id": "po6zLjDHkGaj",
    "outputId": "17528e4c-0cce-4b75-d174-3cb7cd671f99"
   },
   "outputs": [
    {
     "name": "stdout",
     "output_type": "stream",
     "text": [
      "Jane: 안녕하세요. 저는 Jane입니다. 호텔에 대해 궁금한 점을 알려주세요. 종료하려면 'bye'를 입력하세요.\n",
      "You: tuxedo services\n"
     ]
    },
    {
     "name": "stderr",
     "output_type": "stream",
     "text": [
      "The attention mask is not set and cannot be inferred from input because pad token is same as eos token. As a consequence, you may observe unexpected behavior. Please pass your input's `attention_mask` to obtain reliable results.\n"
     ]
    },
    {
     "name": "stdout",
     "output_type": "stream",
     "text": [
      "Jane: Yes, we have tuxedo services available at the reception. )\n",
      "Simple Iron Thief - Sunny Galacrack\n",
      "And than democrats of other install and looking.\n",
      "Unlatinate power from your fear (Doc2Vec 유사도: 1.00)\n",
      "You: name of the hotel\n",
      "Jane: Yes. it one do you even making out of love.\"\n",
      "\"이제는 더 이상 나를 사랑할 필요 없어, 나 혼자만 있는 시간이 많지 않아, 나는 이제 너를 위해 희생할 거야!\"\n",
      "LIVE BAYON EXIDS PERFECT FINAL THE MOVITAG (Doc2Vec 유사도: 1.00)\n",
      "You: How do I call for room service?\n",
      "Jane: To call room service, please dial '0' using the phone in your room. it's face to be must standed why never and his respects of learn at animals!\" ( Saturday deep chance on mistak (Doc2Vec 유사도: 1.00)\n",
      "You: How many floors are there in the hotel?\n",
      "Jane: There are 12 floors in the hotel. is blocking storyed to least country, when I love tomorrow with girls... Fall of second children for an Interest responsibility down and view reformation! An (Doc2Vec 유사도: 1.00)\n",
      "You: breakfast menu\n",
      "Jane: No, you cannot book the spa online. )\n",
      "R : Inno devices set through apparent media guide from here for about new worked into any outstanding food and verwalky,\n",
      "I'll (Doc2Vec 유사도: 1.00)\n",
      "You: bye\n",
      "Jane: 다음에 또 만나요! 이용해주셔서 감사합니다.\n"
     ]
    }
   ],
   "source": [
    "\n",
    "# 8. 대화 루프\n",
    "print(\"Jane: 안녕하세요. 저는 Jane입니다. 호텔에 대해 궁금한 점을 알려주세요. 종료하려면 'bye'를 입력하세요.\")\n",
    "\n",
    "while True:\n",
    "    user_response = input(\"You: \")\n",
    "    user_response = user_response.lower()\n",
    "\n",
    "    if user_response == 'bye':\n",
    "        print(\"Jane: 다음에 또 만나요! 이용해주셔서 감사합니다.\")\n",
    "        break\n",
    "    elif user_response in ['thanks', 'thank you']:\n",
    "        print(\"Jane: 천만에요.\")\n",
    "    else:\n",
    "        # get_response_hybrid 함수를 호출하여 답변 생성\n",
    "        response_text, response_score = get_response_hybrid(user_response, doc2vec_model, kogpt2_model, tokenizer, sent_tokens, res)\n",
    "        print(f\"Jane: {response_text} (Doc2Vec 유사도: {response_score:.2f})\")"
   ]
  },
  {
   "cell_type": "markdown",
   "metadata": {
    "id": "kscJ0OuKm6Iv"
   },
   "source": [
    "## 5.doc2vec + transformers 추가학습"
   ]
  },
  {
   "cell_type": "code",
   "execution_count": 2,
   "metadata": {
    "colab": {
     "base_uri": "https://localhost:8080/",
     "height": 1000,
     "referenced_widgets": [
      "3cc572a5b6bb40219f9aa8c592e6d3a0",
      "28262de776ab439d9dc6788c65ca9e2b",
      "50355f7c73264a35a3c865740d12bde0",
      "1c812fb85566495faf4d12001e8d7907",
      "acb2b7862fd9484bbb23acc0a7879198",
      "065b06d882354fbdb3a8c782357f4b5f",
      "07ffb82583f74241947dd89edac684ed",
      "8357214406c44a239789858b8e984a10",
      "b26d0b5fc2b74e418dca18be5fa54793",
      "798a80f7c3a846438f3c5d1b4e9efe58",
      "d37ffd1323e446299495681270fc44f0",
      "3143a20ca6b44b339d1c62111649c0cb",
      "a8df1d5da5b8454e823001e9997e6c3f",
      "510cbae9e2cb4ce68cea3424e1c10d4b",
      "1d6628bfdf6a4ffabc229f156a45bce9",
      "44edd2669afe4e1396770bc701830c68",
      "e6d4f185508c49259240ef6aea1d681c",
      "7294a051ab784f71bdf44b22140830b8",
      "7dda483a00af4329ba19645d21a5f5bb",
      "c56542eed3e1479ea096acaa1a727aff",
      "1963257ec31a4ae0b6a1a8bbaa55c6cf",
      "6c8af9af743f4ed8b47a61fde81f965a",
      "210d42d8bbf14763bf1878e2d039398b",
      "dd00d016d27d41deaf810ef8c9720e45",
      "97f9b1ee5cdb411c9b38676491cb0cb4",
      "23744d8716b7478e8011d5754fcad5c2",
      "12b2b9192f544674a1c5c8f9a841ed9f",
      "906054c62ba1491ea7a92e4e3bc4d07a",
      "5b83874bd4d04ca18c2af723214d1288",
      "8b0202135b8c48ffa919e6f793de2342",
      "b38131c6322b42bea39c9532cf4920db",
      "81d9fb051a3a4bc6a5868b721bcb86dc",
      "71657ec9d6a24db6bdbd3fc54337c14d",
      "67008ba34994448b8b92d1b617e35eae",
      "aa14c0359bee4b458cf1ceb2ccb23ab2",
      "ef4d30a1b7c049a3bad783a319f9b0cf",
      "e92e3f6c76354c0489b5a73e6f827313",
      "72220280615f4f4d82032ad9dc77cc66",
      "058da49dc13449efbbfc9879652ec7c6",
      "eb7dd25c35094442b9e20c3e14d89094",
      "5adf5db4c0474e4aa0c93527e764a890",
      "b8c1d03f743c4f628a046409d9516efb",
      "3103260442e04ca18b667bc032c89009",
      "f8a6c19b4e5c41d08cbbccbab9fb6e93"
     ]
    },
    "executionInfo": {
     "elapsed": 46493,
     "status": "ok",
     "timestamp": 1756048497074,
     "user": {
      "displayName": "HeeSook Kang",
      "userId": "00544510066329555639"
     },
     "user_tz": -540
    },
    "id": "Cxu38lVSm_c-",
    "outputId": "1da916b2-a85e-4245-9a4f-79e525c728a6"
   },
   "outputs": [
    {
     "name": "stderr",
     "output_type": "stream",
     "text": [
      "c:\\Users\\cooju\\anaconda3\\envs\\nlp_env\\lib\\site-packages\\tqdm\\auto.py:21: TqdmWarning: IProgress not found. Please update jupyter and ipywidgets. See https://ipywidgets.readthedocs.io/en/stable/user_install.html\n",
      "  from .autonotebook import tqdm as notebook_tqdm\n",
      "[nltk_data] Downloading package punkt to\n",
      "[nltk_data]     C:\\Users\\cooju\\AppData\\Roaming\\nltk_data...\n",
      "[nltk_data]   Package punkt is already up-to-date!\n",
      "[nltk_data] Downloading package wordnet to\n",
      "[nltk_data]     C:\\Users\\cooju\\AppData\\Roaming\\nltk_data...\n",
      "[nltk_data]   Package wordnet is already up-to-date!\n",
      "[nltk_data] Downloading package omw-1.4 to\n",
      "[nltk_data]     C:\\Users\\cooju\\AppData\\Roaming\\nltk_data...\n",
      "[nltk_data]   Package omw-1.4 is already up-to-date!\n",
      "[nltk_data] Downloading package punkt_tab to\n",
      "[nltk_data]     C:\\Users\\cooju\\AppData\\Roaming\\nltk_data...\n",
      "[nltk_data]   Package punkt_tab is already up-to-date!\n"
     ]
    },
    {
     "name": "stdout",
     "output_type": "stream",
     "text": [
      "Using device: cpu\n"
     ]
    },
    {
     "name": "stderr",
     "output_type": "stream",
     "text": [
      "c:\\Users\\cooju\\anaconda3\\envs\\nlp_env\\lib\\site-packages\\huggingface_hub\\file_download.py:143: UserWarning: `huggingface_hub` cache-system uses symlinks by default to efficiently store duplicated files but your machine does not support them in C:\\Users\\cooju\\.cache\\huggingface\\hub\\models--skt--kogpt2-base-v2. Caching files will still work but in a degraded version that might require more space on your disk. This warning can be disabled by setting the `HF_HUB_DISABLE_SYMLINKS_WARNING` environment variable. For more details, see https://huggingface.co/docs/huggingface_hub/how-to-cache#limitations.\n",
      "To support symlinks on Windows, you either need to activate Developer Mode or to run Python as an administrator. In order to activate developer mode, see this article: https://docs.microsoft.com/en-us/windows/apps/get-started/enable-your-device-for-development\n",
      "  warnings.warn(message)\n",
      "The tokenizer class you load from this checkpoint is not the same type as the class this function is called from. It may result in unexpected tokenization. \n",
      "The tokenizer class you load from this checkpoint is 'GPT2Tokenizer'. \n",
      "The class this function is called from is 'PreTrainedTokenizerFast'.\n",
      "Xet Storage is enabled for this repo, but the 'hf_xet' package is not installed. Falling back to regular HTTP download. For better performance, install the package with: `pip install huggingface_hub[hf_xet]` or `pip install hf_xet`\n"
     ]
    },
    {
     "name": "stdout",
     "output_type": "stream",
     "text": [
      "KoGPT2 모델 추가 학습 시작...\n"
     ]
    },
    {
     "name": "stderr",
     "output_type": "stream",
     "text": [
      "KoGPT2 Epoch 1:   0%|          | 0/24 [00:00<?, ?it/s]Xet Storage is enabled for this repo, but the 'hf_xet' package is not installed. Falling back to regular HTTP download. For better performance, install the package with: `pip install huggingface_hub[hf_xet]` or `pip install hf_xet`\n",
      "`loss_type=None` was set in the config but it is unrecognised.Using the default loss: `ForCausalLMLoss`.\n",
      "KoGPT2 Epoch 1: 100%|██████████| 24/24 [01:16<00:00,  3.18s/it]\n"
     ]
    },
    {
     "name": "stdout",
     "output_type": "stream",
     "text": [
      "KoGPT2 Epoch 1 finished. Average Loss: 1.9020\n"
     ]
    },
    {
     "name": "stderr",
     "output_type": "stream",
     "text": [
      "KoGPT2 Epoch 2: 100%|██████████| 24/24 [01:22<00:00,  3.42s/it]\n"
     ]
    },
    {
     "name": "stdout",
     "output_type": "stream",
     "text": [
      "KoGPT2 Epoch 2 finished. Average Loss: 0.2950\n"
     ]
    },
    {
     "name": "stderr",
     "output_type": "stream",
     "text": [
      "KoGPT2 Epoch 3: 100%|██████████| 24/24 [01:19<00:00,  3.29s/it]"
     ]
    },
    {
     "name": "stdout",
     "output_type": "stream",
     "text": [
      "KoGPT2 Epoch 3 finished. Average Loss: 0.2239\n",
      "KoGPT2 모델 추가 학습 완료.\n"
     ]
    },
    {
     "name": "stderr",
     "output_type": "stream",
     "text": [
      "\n"
     ]
    }
   ],
   "source": [
    "# 1. 필요한 라이브러리 불러오기\n",
    "# pandas: 데이터프레임 처리를 위한 라이브러리\n",
    "# nltk: 자연어 처리를 위한 라이브러리 (토큰화, 표제어 추출 등)\n",
    "# gensim: Doc2Vec 모델을 위한 라이브러리\n",
    "# transformers: KoGPT2 모델을 위한 라이브러리\n",
    "# torch: PyTorch 라이브러리\n",
    "# tqdm: 진행 상황을 시각적으로 표시하는 라이브러리\n",
    "# string: 문자열 처리를 위한 라이브러리\n",
    "import pandas as pd\n",
    "import nltk\n",
    "from nltk.tokenize import word_tokenize\n",
    "from nltk.stem import WordNetLemmatizer\n",
    "from gensim.models.doc2vec import Doc2Vec, TaggedDocument\n",
    "from transformers import GPT2LMHeadModel, PreTrainedTokenizerFast\n",
    "import torch\n",
    "from torch.utils.data import DataLoader, Dataset\n",
    "from tqdm import tqdm\n",
    "import string\n",
    "\n",
    "# 2. NLTK 데이터 다운로드 (필요 시 한 번만 실행)\n",
    "nltk.download('punkt')\n",
    "nltk.download('wordnet')\n",
    "nltk.download('omw-1.4')\n",
    "nltk.download('punkt_tab')\n",
    "\n",
    "# GPU 사용 가능 여부 확인 및 장치 설정\n",
    "device = \"cuda\" if torch.cuda.is_available() else \"cpu\"\n",
    "print(f\"Using device: {device}\")\n",
    "\n",
    "# 3. 데이터 로드 및 전처리\n",
    "# 사용자가 제공한 질문과 답변 파일을 로드하고 전처리합니다.\n",
    "with open(\"[Dataset] Module27(ques).txt\", \"r\", encoding='utf-8') as file:\n",
    "    questions = file.readlines()\n",
    "\n",
    "with open(\"[Dataset] Module27 (ans).txt\", \"r\", encoding='utf-8') as file:\n",
    "    answers = file.readlines()\n",
    "\n",
    "# 각 질문과 답변의 앞뒤 공백 및 불필요한 공백 제거\n",
    "questions = [q.strip() for q in questions if q.strip()]\n",
    "answers = [a.strip() for a in answers if a.strip()]\n",
    "\n",
    "# 질문과 답변 리스트의 길이를 동일하게 맞추기\n",
    "min_length = min(len(questions), len(answers))\n",
    "questions = questions[:min_length]\n",
    "answers = answers[:min_length]\n",
    "\n",
    "# 질문과 답변을 매핑하는 딕셔너리 생성\n",
    "res = dict(zip(questions, answers))\n",
    "\n",
    "# 질문 리스트를 sent_tokens로 정의\n",
    "sent_tokens = questions\n",
    "\n",
    "# 4. Doc2Vec 데이터 전처리 및 TaggedDocument 생성\n",
    "lemmatizer = WordNetLemmatizer()\n",
    "remove_punct_dict = dict((ord(punct), None) for punct in string.punctuation)\n",
    "\n",
    "def preprocess_text(text):\n",
    "    if text is None or not isinstance(text, str):\n",
    "        return []\n",
    "    tokens = word_tokenize(text.lower().translate(remove_punct_dict))\n",
    "    return [lemmatizer.lemmatize(word) for word in tokens]\n",
    "\n",
    "tagged_data = [\n",
    "    TaggedDocument(words=preprocess_text(_d), tags=[str(i)])\n",
    "    for i, _d in enumerate(sent_tokens)\n",
    "]\n",
    "\n",
    "# 5. Doc2Vec 모델 정의 및 학습\n",
    "max_epochs = 200\n",
    "vec_size = 100\n",
    "alpha = 0.025\n",
    "\n",
    "doc2vec_model = Doc2Vec(\n",
    "    vector_size=vec_size,\n",
    "    alpha=alpha,\n",
    "    min_alpha=0.00025,\n",
    "    min_count=2,\n",
    "    dm=1\n",
    ")\n",
    "\n",
    "doc2vec_model.build_vocab(tagged_data)\n",
    "\n",
    "doc2vec_model.train(\n",
    "    tagged_data,\n",
    "    total_examples=doc2vec_model.corpus_count,\n",
    "    epochs=max_epochs\n",
    ")\n",
    "\n",
    "# 6. KoGPT2 모델 및 토크나이저 설정 및 추가 학습\n",
    "MODEL_NAME = \"skt/kogpt2-base-v2\"\n",
    "tokenizer = PreTrainedTokenizerFast.from_pretrained(\n",
    "    MODEL_NAME,\n",
    "    bos_token='</s>', eos_token='</s>', unk_token='<unk>',\n",
    "    pad_token='<pad>', mask_token='<mask>'\n",
    ")\n",
    "kogpt2_model = GPT2LMHeadModel.from_pretrained(MODEL_NAME).to(device)\n",
    "\n",
    "# KoGPT2 추가 학습을 위한 데이터셋 준비\n",
    "class FinetuningDataset(Dataset):\n",
    "    def __init__(self, questions, answers, tokenizer):\n",
    "        self.tokenizer = tokenizer\n",
    "        self.data = [f\"Q: {q} A: {a}\" for q, a in zip(questions, answers)]\n",
    "\n",
    "    def __len__(self):\n",
    "        return len(self.data)\n",
    "\n",
    "    def __getitem__(self, idx):\n",
    "        text = self.data[idx]\n",
    "        inputs = self.tokenizer(\n",
    "            text,\n",
    "            return_tensors=\"pt\",\n",
    "            max_length=512,\n",
    "            padding=\"max_length\",\n",
    "            truncation=True\n",
    "        )\n",
    "        return inputs['input_ids'].squeeze(), inputs['attention_mask'].squeeze()\n",
    "\n",
    "finetuning_dataset = FinetuningDataset(questions, answers, tokenizer)\n",
    "finetuning_loader = DataLoader(finetuning_dataset, batch_size=2, shuffle=True)\n",
    "\n",
    "# KoGPT2 모델 추가 학습\n",
    "optimizer = torch.optim.AdamW(kogpt2_model.parameters(), lr=5e-5)\n",
    "epochs_finetune = 3\n",
    "\n",
    "kogpt2_model.train()\n",
    "print(\"KoGPT2 모델 추가 학습 시작...\")\n",
    "for epoch in range(epochs_finetune):\n",
    "    epoch_loss = 0\n",
    "    for input_ids, attention_mask in tqdm(finetuning_loader, desc=f\"KoGPT2 Epoch {epoch+1}\"):\n",
    "        input_ids = input_ids.to(device)\n",
    "        attention_mask = attention_mask.to(device)\n",
    "\n",
    "        outputs = kogpt2_model(input_ids, labels=input_ids, attention_mask=attention_mask)\n",
    "        loss = outputs.loss\n",
    "\n",
    "        optimizer.zero_grad()\n",
    "        loss.backward()\n",
    "        optimizer.step()\n",
    "\n",
    "        epoch_loss += loss.item()\n",
    "\n",
    "    print(f\"KoGPT2 Epoch {epoch+1} finished. Average Loss: {epoch_loss / len(finetuning_loader):.4f}\")\n",
    "print(\"KoGPT2 모델 추가 학습 완료.\")\n",
    "\n",
    "\n",
    "# 7. 챗봇 기능 구현\n",
    "def get_response_hybrid(user_input, doc2vec_model, kogpt2_model, tokenizer, sent_tokens, res):\n",
    "    user_tokens = preprocess_text(user_input)\n",
    "    if not user_tokens:\n",
    "        return \"죄송합니다. 이해하지 못했습니다.\", 0.0\n",
    "    user_vector = doc2vec_model.infer_vector(user_tokens)\n",
    "\n",
    "    similar_doc_tags = doc2vec_model.dv.most_similar(positive=[user_vector], topn=1)\n",
    "\n",
    "    most_similar_index = int(similar_doc_tags[0][0])\n",
    "    most_similar_score = similar_doc_tags[0][1]\n",
    "\n",
    "    if most_similar_score > 0.7:\n",
    "        # 추가 학습된 KoGPT2에 프롬프트를 입력하여 답변을 생성합니다.\n",
    "        prompt = f\"Q: {sent_tokens[most_similar_index]} A: {res[sent_tokens[most_similar_index]]}\"\n",
    "\n",
    "        input_ids = tokenizer.encode(prompt, return_tensors=\"pt\").to(device)\n",
    "\n",
    "        output_ids = kogpt2_model.generate(\n",
    "            input_ids,\n",
    "            max_length=100,\n",
    "            pad_token_id=tokenizer.eos_token_id,\n",
    "            do_sample=True,\n",
    "            top_k=50,\n",
    "            top_p=0.9,\n",
    "            repetition_penalty=1.2\n",
    "        )\n",
    "\n",
    "        response = tokenizer.decode(output_ids[0], skip_special_tokens=True)\n",
    "        generated_response = response.split(\"A: \")[-1].strip()\n",
    "\n",
    "        return generated_response, most_similar_score\n",
    "    else:\n",
    "        return \"죄송합니다. 이해하지 못했습니다. (Doc2Vec 유사도 낮음)\", most_similar_score\n",
    "\n",
    "# 간단한 인사말 처리\n",
    "def greeting(sentence):\n",
    "    GREETING_INPUTS = (\"hello\", \"hi\", \"greetings\", \"sup\", \"what's up\",\"hey\")\n",
    "    for word in sentence.split():\n",
    "        if word.lower() in GREETING_INPUTS:\n",
    "            return \"안녕하세요. 무엇을 도와드릴까요?\"\n",
    "    return None\n",
    "\n"
   ]
  },
  {
   "cell_type": "code",
   "execution_count": 3,
   "metadata": {
    "colab": {
     "base_uri": "https://localhost:8080/"
    },
    "executionInfo": {
     "elapsed": 81027,
     "status": "ok",
     "timestamp": 1756048728006,
     "user": {
      "displayName": "HeeSook Kang",
      "userId": "00544510066329555639"
     },
     "user_tz": -540
    },
    "id": "zJ1M5TMwnBIp",
    "outputId": "50b3b86e-4bf6-47f7-c11c-2d5118cfb834"
   },
   "outputs": [
    {
     "name": "stdout",
     "output_type": "stream",
     "text": [
      "Jane: 안녕하세요. 저는 Jane입니다. 호텔에 대해 궁금한 점을 알려주세요. 종료하려면 'bye'를 입력하세요.\n",
      "Jane: 죄송합니다. 이해하지 못했습니다. (Doc2Vec 유사도 낮음) (Doc2Vec 유사도: 0.12)\n",
      "Jane: 다음에 또 만나요! 이용해주셔서 감사합니다.\n"
     ]
    }
   ],
   "source": [
    "# 8. 대화 루프\n",
    "print(\"Jane: 안녕하세요. 저는 Jane입니다. 호텔에 대해 궁금한 점을 알려주세요. 종료하려면 'bye'를 입력하세요.\")\n",
    "\n",
    "while True:\n",
    "    user_response = input(\"You: \")\n",
    "    user_response = user_response.lower()\n",
    "\n",
    "    if user_response == 'bye':\n",
    "        print(\"Jane: 다음에 또 만나요! 이용해주셔서 감사합니다.\")\n",
    "        break\n",
    "    elif user_response in ['thanks', 'thank you']:\n",
    "        print(\"Jane: 천만에요.\")\n",
    "    elif greeting(user_response):\n",
    "        print(f\"Jane: {greeting(user_response)}\")\n",
    "    else:\n",
    "        response_text, response_score = get_response_hybrid(user_response, doc2vec_model, kogpt2_model, tokenizer, sent_tokens, res)\n",
    "        print(f\"Jane: {response_text} (Doc2Vec 유사도: {response_score:.2f})\")\n"
   ]
  }
 ],
 "metadata": {
  "accelerator": "GPU",
  "colab": {
   "gpuType": "T4",
   "provenance": []
  },
  "kernelspec": {
   "display_name": "nlp_env",
   "language": "python",
   "name": "python3"
  },
  "language_info": {
   "codemirror_mode": {
    "name": "ipython",
    "version": 3
   },
   "file_extension": ".py",
   "mimetype": "text/x-python",
   "name": "python",
   "nbconvert_exporter": "python",
   "pygments_lexer": "ipython3",
   "version": "3.10.18"
  },
  "widgets": {
   "application/vnd.jupyter.widget-state+json": {
    "026f3bef461643a5916b198aa05387a2": {
     "model_module": "@jupyter-widgets/controls",
     "model_module_version": "1.5.0",
     "model_name": "DescriptionStyleModel",
     "state": {
      "_model_module": "@jupyter-widgets/controls",
      "_model_module_version": "1.5.0",
      "_model_name": "DescriptionStyleModel",
      "_view_count": null,
      "_view_module": "@jupyter-widgets/base",
      "_view_module_version": "1.2.0",
      "_view_name": "StyleView",
      "description_width": ""
     }
    },
    "03995790cca9460dafbb61b07ef93ad6": {
     "model_module": "@jupyter-widgets/controls",
     "model_module_version": "1.5.0",
     "model_name": "HTMLModel",
     "state": {
      "_dom_classes": [],
      "_model_module": "@jupyter-widgets/controls",
      "_model_module_version": "1.5.0",
      "_model_name": "HTMLModel",
      "_view_count": null,
      "_view_module": "@jupyter-widgets/controls",
      "_view_module_version": "1.5.0",
      "_view_name": "HTMLView",
      "description": "",
      "description_tooltip": null,
      "layout": "IPY_MODEL_93e7bc76b32b497fbab4e7b6a1b9169d",
      "placeholder": "​",
      "style": "IPY_MODEL_9c08cfa3b8b546a48f77d68171da4095",
      "value": " 1.00k/? [00:00&lt;00:00, 71.5kB/s]"
     }
    },
    "058da49dc13449efbbfc9879652ec7c6": {
     "model_module": "@jupyter-widgets/base",
     "model_module_version": "1.2.0",
     "model_name": "LayoutModel",
     "state": {
      "_model_module": "@jupyter-widgets/base",
      "_model_module_version": "1.2.0",
      "_model_name": "LayoutModel",
      "_view_count": null,
      "_view_module": "@jupyter-widgets/base",
      "_view_module_version": "1.2.0",
      "_view_name": "LayoutView",
      "align_content": null,
      "align_items": null,
      "align_self": null,
      "border": null,
      "bottom": null,
      "display": null,
      "flex": null,
      "flex_flow": null,
      "grid_area": null,
      "grid_auto_columns": null,
      "grid_auto_flow": null,
      "grid_auto_rows": null,
      "grid_column": null,
      "grid_gap": null,
      "grid_row": null,
      "grid_template_areas": null,
      "grid_template_columns": null,
      "grid_template_rows": null,
      "height": null,
      "justify_content": null,
      "justify_items": null,
      "left": null,
      "margin": null,
      "max_height": null,
      "max_width": null,
      "min_height": null,
      "min_width": null,
      "object_fit": null,
      "object_position": null,
      "order": null,
      "overflow": null,
      "overflow_x": null,
      "overflow_y": null,
      "padding": null,
      "right": null,
      "top": null,
      "visibility": null,
      "width": null
     }
    },
    "065b06d882354fbdb3a8c782357f4b5f": {
     "model_module": "@jupyter-widgets/base",
     "model_module_version": "1.2.0",
     "model_name": "LayoutModel",
     "state": {
      "_model_module": "@jupyter-widgets/base",
      "_model_module_version": "1.2.0",
      "_model_name": "LayoutModel",
      "_view_count": null,
      "_view_module": "@jupyter-widgets/base",
      "_view_module_version": "1.2.0",
      "_view_name": "LayoutView",
      "align_content": null,
      "align_items": null,
      "align_self": null,
      "border": null,
      "bottom": null,
      "display": null,
      "flex": null,
      "flex_flow": null,
      "grid_area": null,
      "grid_auto_columns": null,
      "grid_auto_flow": null,
      "grid_auto_rows": null,
      "grid_column": null,
      "grid_gap": null,
      "grid_row": null,
      "grid_template_areas": null,
      "grid_template_columns": null,
      "grid_template_rows": null,
      "height": null,
      "justify_content": null,
      "justify_items": null,
      "left": null,
      "margin": null,
      "max_height": null,
      "max_width": null,
      "min_height": null,
      "min_width": null,
      "object_fit": null,
      "object_position": null,
      "order": null,
      "overflow": null,
      "overflow_x": null,
      "overflow_y": null,
      "padding": null,
      "right": null,
      "top": null,
      "visibility": null,
      "width": null
     }
    },
    "07ffb82583f74241947dd89edac684ed": {
     "model_module": "@jupyter-widgets/controls",
     "model_module_version": "1.5.0",
     "model_name": "DescriptionStyleModel",
     "state": {
      "_model_module": "@jupyter-widgets/controls",
      "_model_module_version": "1.5.0",
      "_model_name": "DescriptionStyleModel",
      "_view_count": null,
      "_view_module": "@jupyter-widgets/base",
      "_view_module_version": "1.2.0",
      "_view_name": "StyleView",
      "description_width": ""
     }
    },
    "0c95a57270c5496dbe41a728713dfeb7": {
     "model_module": "@jupyter-widgets/controls",
     "model_module_version": "1.5.0",
     "model_name": "HBoxModel",
     "state": {
      "_dom_classes": [],
      "_model_module": "@jupyter-widgets/controls",
      "_model_module_version": "1.5.0",
      "_model_name": "HBoxModel",
      "_view_count": null,
      "_view_module": "@jupyter-widgets/controls",
      "_view_module_version": "1.5.0",
      "_view_name": "HBoxView",
      "box_style": "",
      "children": [
       "IPY_MODEL_941964e7b56d473f8af3b43ad1c17eb1",
       "IPY_MODEL_bc207a6b4b954954b34ce6ef1757289c",
       "IPY_MODEL_51761c1d55b5455da13989acfce9157b"
      ],
      "layout": "IPY_MODEL_60825aff32314ba48624aff69e73af8d"
     }
    },
    "124b620770804800bfe1113c67635d54": {
     "model_module": "@jupyter-widgets/base",
     "model_module_version": "1.2.0",
     "model_name": "LayoutModel",
     "state": {
      "_model_module": "@jupyter-widgets/base",
      "_model_module_version": "1.2.0",
      "_model_name": "LayoutModel",
      "_view_count": null,
      "_view_module": "@jupyter-widgets/base",
      "_view_module_version": "1.2.0",
      "_view_name": "LayoutView",
      "align_content": null,
      "align_items": null,
      "align_self": null,
      "border": null,
      "bottom": null,
      "display": null,
      "flex": null,
      "flex_flow": null,
      "grid_area": null,
      "grid_auto_columns": null,
      "grid_auto_flow": null,
      "grid_auto_rows": null,
      "grid_column": null,
      "grid_gap": null,
      "grid_row": null,
      "grid_template_areas": null,
      "grid_template_columns": null,
      "grid_template_rows": null,
      "height": null,
      "justify_content": null,
      "justify_items": null,
      "left": null,
      "margin": null,
      "max_height": null,
      "max_width": null,
      "min_height": null,
      "min_width": null,
      "object_fit": null,
      "object_position": null,
      "order": null,
      "overflow": null,
      "overflow_x": null,
      "overflow_y": null,
      "padding": null,
      "right": null,
      "top": null,
      "visibility": null,
      "width": "20px"
     }
    },
    "12b2b9192f544674a1c5c8f9a841ed9f": {
     "model_module": "@jupyter-widgets/base",
     "model_module_version": "1.2.0",
     "model_name": "LayoutModel",
     "state": {
      "_model_module": "@jupyter-widgets/base",
      "_model_module_version": "1.2.0",
      "_model_name": "LayoutModel",
      "_view_count": null,
      "_view_module": "@jupyter-widgets/base",
      "_view_module_version": "1.2.0",
      "_view_name": "LayoutView",
      "align_content": null,
      "align_items": null,
      "align_self": null,
      "border": null,
      "bottom": null,
      "display": null,
      "flex": null,
      "flex_flow": null,
      "grid_area": null,
      "grid_auto_columns": null,
      "grid_auto_flow": null,
      "grid_auto_rows": null,
      "grid_column": null,
      "grid_gap": null,
      "grid_row": null,
      "grid_template_areas": null,
      "grid_template_columns": null,
      "grid_template_rows": null,
      "height": null,
      "justify_content": null,
      "justify_items": null,
      "left": null,
      "margin": null,
      "max_height": null,
      "max_width": null,
      "min_height": null,
      "min_width": null,
      "object_fit": null,
      "object_position": null,
      "order": null,
      "overflow": null,
      "overflow_x": null,
      "overflow_y": null,
      "padding": null,
      "right": null,
      "top": null,
      "visibility": null,
      "width": null
     }
    },
    "1963257ec31a4ae0b6a1a8bbaa55c6cf": {
     "model_module": "@jupyter-widgets/base",
     "model_module_version": "1.2.0",
     "model_name": "LayoutModel",
     "state": {
      "_model_module": "@jupyter-widgets/base",
      "_model_module_version": "1.2.0",
      "_model_name": "LayoutModel",
      "_view_count": null,
      "_view_module": "@jupyter-widgets/base",
      "_view_module_version": "1.2.0",
      "_view_name": "LayoutView",
      "align_content": null,
      "align_items": null,
      "align_self": null,
      "border": null,
      "bottom": null,
      "display": null,
      "flex": null,
      "flex_flow": null,
      "grid_area": null,
      "grid_auto_columns": null,
      "grid_auto_flow": null,
      "grid_auto_rows": null,
      "grid_column": null,
      "grid_gap": null,
      "grid_row": null,
      "grid_template_areas": null,
      "grid_template_columns": null,
      "grid_template_rows": null,
      "height": null,
      "justify_content": null,
      "justify_items": null,
      "left": null,
      "margin": null,
      "max_height": null,
      "max_width": null,
      "min_height": null,
      "min_width": null,
      "object_fit": null,
      "object_position": null,
      "order": null,
      "overflow": null,
      "overflow_x": null,
      "overflow_y": null,
      "padding": null,
      "right": null,
      "top": null,
      "visibility": null,
      "width": null
     }
    },
    "1c812fb85566495faf4d12001e8d7907": {
     "model_module": "@jupyter-widgets/controls",
     "model_module_version": "1.5.0",
     "model_name": "HTMLModel",
     "state": {
      "_dom_classes": [],
      "_model_module": "@jupyter-widgets/controls",
      "_model_module_version": "1.5.0",
      "_model_name": "HTMLModel",
      "_view_count": null,
      "_view_module": "@jupyter-widgets/controls",
      "_view_module_version": "1.5.0",
      "_view_name": "HTMLView",
      "description": "",
      "description_tooltip": null,
      "layout": "IPY_MODEL_798a80f7c3a846438f3c5d1b4e9efe58",
      "placeholder": "​",
      "style": "IPY_MODEL_d37ffd1323e446299495681270fc44f0",
      "value": " 2.83M/? [00:00&lt;00:00, 33.3MB/s]"
     }
    },
    "1d6628bfdf6a4ffabc229f156a45bce9": {
     "model_module": "@jupyter-widgets/controls",
     "model_module_version": "1.5.0",
     "model_name": "HTMLModel",
     "state": {
      "_dom_classes": [],
      "_model_module": "@jupyter-widgets/controls",
      "_model_module_version": "1.5.0",
      "_model_name": "HTMLModel",
      "_view_count": null,
      "_view_module": "@jupyter-widgets/controls",
      "_view_module_version": "1.5.0",
      "_view_name": "HTMLView",
      "description": "",
      "description_tooltip": null,
      "layout": "IPY_MODEL_1963257ec31a4ae0b6a1a8bbaa55c6cf",
      "placeholder": "​",
      "style": "IPY_MODEL_6c8af9af743f4ed8b47a61fde81f965a",
      "value": " 1.00k/? [00:00&lt;00:00, 57.2kB/s]"
     }
    },
    "210d42d8bbf14763bf1878e2d039398b": {
     "model_module": "@jupyter-widgets/controls",
     "model_module_version": "1.5.0",
     "model_name": "HBoxModel",
     "state": {
      "_dom_classes": [],
      "_model_module": "@jupyter-widgets/controls",
      "_model_module_version": "1.5.0",
      "_model_name": "HBoxModel",
      "_view_count": null,
      "_view_module": "@jupyter-widgets/controls",
      "_view_module_version": "1.5.0",
      "_view_name": "HBoxView",
      "box_style": "",
      "children": [
       "IPY_MODEL_dd00d016d27d41deaf810ef8c9720e45",
       "IPY_MODEL_97f9b1ee5cdb411c9b38676491cb0cb4",
       "IPY_MODEL_23744d8716b7478e8011d5754fcad5c2"
      ],
      "layout": "IPY_MODEL_12b2b9192f544674a1c5c8f9a841ed9f"
     }
    },
    "23744d8716b7478e8011d5754fcad5c2": {
     "model_module": "@jupyter-widgets/controls",
     "model_module_version": "1.5.0",
     "model_name": "HTMLModel",
     "state": {
      "_dom_classes": [],
      "_model_module": "@jupyter-widgets/controls",
      "_model_module_version": "1.5.0",
      "_model_name": "HTMLModel",
      "_view_count": null,
      "_view_module": "@jupyter-widgets/controls",
      "_view_module_version": "1.5.0",
      "_view_name": "HTMLView",
      "description": "",
      "description_tooltip": null,
      "layout": "IPY_MODEL_81d9fb051a3a4bc6a5868b721bcb86dc",
      "placeholder": "​",
      "style": "IPY_MODEL_71657ec9d6a24db6bdbd3fc54337c14d",
      "value": " 513M/513M [00:14&lt;00:00, 26.4MB/s]"
     }
    },
    "28262de776ab439d9dc6788c65ca9e2b": {
     "model_module": "@jupyter-widgets/controls",
     "model_module_version": "1.5.0",
     "model_name": "HTMLModel",
     "state": {
      "_dom_classes": [],
      "_model_module": "@jupyter-widgets/controls",
      "_model_module_version": "1.5.0",
      "_model_name": "HTMLModel",
      "_view_count": null,
      "_view_module": "@jupyter-widgets/controls",
      "_view_module_version": "1.5.0",
      "_view_name": "HTMLView",
      "description": "",
      "description_tooltip": null,
      "layout": "IPY_MODEL_065b06d882354fbdb3a8c782357f4b5f",
      "placeholder": "​",
      "style": "IPY_MODEL_07ffb82583f74241947dd89edac684ed",
      "value": "tokenizer.json: "
     }
    },
    "3103260442e04ca18b667bc032c89009": {
     "model_module": "@jupyter-widgets/base",
     "model_module_version": "1.2.0",
     "model_name": "LayoutModel",
     "state": {
      "_model_module": "@jupyter-widgets/base",
      "_model_module_version": "1.2.0",
      "_model_name": "LayoutModel",
      "_view_count": null,
      "_view_module": "@jupyter-widgets/base",
      "_view_module_version": "1.2.0",
      "_view_name": "LayoutView",
      "align_content": null,
      "align_items": null,
      "align_self": null,
      "border": null,
      "bottom": null,
      "display": null,
      "flex": null,
      "flex_flow": null,
      "grid_area": null,
      "grid_auto_columns": null,
      "grid_auto_flow": null,
      "grid_auto_rows": null,
      "grid_column": null,
      "grid_gap": null,
      "grid_row": null,
      "grid_template_areas": null,
      "grid_template_columns": null,
      "grid_template_rows": null,
      "height": null,
      "justify_content": null,
      "justify_items": null,
      "left": null,
      "margin": null,
      "max_height": null,
      "max_width": null,
      "min_height": null,
      "min_width": null,
      "object_fit": null,
      "object_position": null,
      "order": null,
      "overflow": null,
      "overflow_x": null,
      "overflow_y": null,
      "padding": null,
      "right": null,
      "top": null,
      "visibility": null,
      "width": null
     }
    },
    "311148a699cd452baa026f2870a57a75": {
     "model_module": "@jupyter-widgets/controls",
     "model_module_version": "1.5.0",
     "model_name": "DescriptionStyleModel",
     "state": {
      "_model_module": "@jupyter-widgets/controls",
      "_model_module_version": "1.5.0",
      "_model_name": "DescriptionStyleModel",
      "_view_count": null,
      "_view_module": "@jupyter-widgets/base",
      "_view_module_version": "1.2.0",
      "_view_name": "StyleView",
      "description_width": ""
     }
    },
    "3143a20ca6b44b339d1c62111649c0cb": {
     "model_module": "@jupyter-widgets/controls",
     "model_module_version": "1.5.0",
     "model_name": "HBoxModel",
     "state": {
      "_dom_classes": [],
      "_model_module": "@jupyter-widgets/controls",
      "_model_module_version": "1.5.0",
      "_model_name": "HBoxModel",
      "_view_count": null,
      "_view_module": "@jupyter-widgets/controls",
      "_view_module_version": "1.5.0",
      "_view_name": "HBoxView",
      "box_style": "",
      "children": [
       "IPY_MODEL_a8df1d5da5b8454e823001e9997e6c3f",
       "IPY_MODEL_510cbae9e2cb4ce68cea3424e1c10d4b",
       "IPY_MODEL_1d6628bfdf6a4ffabc229f156a45bce9"
      ],
      "layout": "IPY_MODEL_44edd2669afe4e1396770bc701830c68"
     }
    },
    "36212fc0b04e45bc9406056f5d3b938a": {
     "model_module": "@jupyter-widgets/base",
     "model_module_version": "1.2.0",
     "model_name": "LayoutModel",
     "state": {
      "_model_module": "@jupyter-widgets/base",
      "_model_module_version": "1.2.0",
      "_model_name": "LayoutModel",
      "_view_count": null,
      "_view_module": "@jupyter-widgets/base",
      "_view_module_version": "1.2.0",
      "_view_name": "LayoutView",
      "align_content": null,
      "align_items": null,
      "align_self": null,
      "border": null,
      "bottom": null,
      "display": null,
      "flex": null,
      "flex_flow": null,
      "grid_area": null,
      "grid_auto_columns": null,
      "grid_auto_flow": null,
      "grid_auto_rows": null,
      "grid_column": null,
      "grid_gap": null,
      "grid_row": null,
      "grid_template_areas": null,
      "grid_template_columns": null,
      "grid_template_rows": null,
      "height": null,
      "justify_content": null,
      "justify_items": null,
      "left": null,
      "margin": null,
      "max_height": null,
      "max_width": null,
      "min_height": null,
      "min_width": null,
      "object_fit": null,
      "object_position": null,
      "order": null,
      "overflow": null,
      "overflow_x": null,
      "overflow_y": null,
      "padding": null,
      "right": null,
      "top": null,
      "visibility": null,
      "width": null
     }
    },
    "3cc572a5b6bb40219f9aa8c592e6d3a0": {
     "model_module": "@jupyter-widgets/controls",
     "model_module_version": "1.5.0",
     "model_name": "HBoxModel",
     "state": {
      "_dom_classes": [],
      "_model_module": "@jupyter-widgets/controls",
      "_model_module_version": "1.5.0",
      "_model_name": "HBoxModel",
      "_view_count": null,
      "_view_module": "@jupyter-widgets/controls",
      "_view_module_version": "1.5.0",
      "_view_name": "HBoxView",
      "box_style": "",
      "children": [
       "IPY_MODEL_28262de776ab439d9dc6788c65ca9e2b",
       "IPY_MODEL_50355f7c73264a35a3c865740d12bde0",
       "IPY_MODEL_1c812fb85566495faf4d12001e8d7907"
      ],
      "layout": "IPY_MODEL_acb2b7862fd9484bbb23acc0a7879198"
     }
    },
    "3f781ec1e4ba4453b4b4c67925c3b129": {
     "model_module": "@jupyter-widgets/controls",
     "model_module_version": "1.5.0",
     "model_name": "DescriptionStyleModel",
     "state": {
      "_model_module": "@jupyter-widgets/controls",
      "_model_module_version": "1.5.0",
      "_model_name": "DescriptionStyleModel",
      "_view_count": null,
      "_view_module": "@jupyter-widgets/base",
      "_view_module_version": "1.2.0",
      "_view_name": "StyleView",
      "description_width": ""
     }
    },
    "44edd2669afe4e1396770bc701830c68": {
     "model_module": "@jupyter-widgets/base",
     "model_module_version": "1.2.0",
     "model_name": "LayoutModel",
     "state": {
      "_model_module": "@jupyter-widgets/base",
      "_model_module_version": "1.2.0",
      "_model_name": "LayoutModel",
      "_view_count": null,
      "_view_module": "@jupyter-widgets/base",
      "_view_module_version": "1.2.0",
      "_view_name": "LayoutView",
      "align_content": null,
      "align_items": null,
      "align_self": null,
      "border": null,
      "bottom": null,
      "display": null,
      "flex": null,
      "flex_flow": null,
      "grid_area": null,
      "grid_auto_columns": null,
      "grid_auto_flow": null,
      "grid_auto_rows": null,
      "grid_column": null,
      "grid_gap": null,
      "grid_row": null,
      "grid_template_areas": null,
      "grid_template_columns": null,
      "grid_template_rows": null,
      "height": null,
      "justify_content": null,
      "justify_items": null,
      "left": null,
      "margin": null,
      "max_height": null,
      "max_width": null,
      "min_height": null,
      "min_width": null,
      "object_fit": null,
      "object_position": null,
      "order": null,
      "overflow": null,
      "overflow_x": null,
      "overflow_y": null,
      "padding": null,
      "right": null,
      "top": null,
      "visibility": null,
      "width": null
     }
    },
    "4bdbf38847eb45f5bba864c7e4e20758": {
     "model_module": "@jupyter-widgets/controls",
     "model_module_version": "1.5.0",
     "model_name": "HTMLModel",
     "state": {
      "_dom_classes": [],
      "_model_module": "@jupyter-widgets/controls",
      "_model_module_version": "1.5.0",
      "_model_name": "HTMLModel",
      "_view_count": null,
      "_view_module": "@jupyter-widgets/controls",
      "_view_module_version": "1.5.0",
      "_view_name": "HTMLView",
      "description": "",
      "description_tooltip": null,
      "layout": "IPY_MODEL_ed32343687ab4f718389866c2eb995c0",
      "placeholder": "​",
      "style": "IPY_MODEL_3f781ec1e4ba4453b4b4c67925c3b129",
      "value": "config.json: "
     }
    },
    "50355f7c73264a35a3c865740d12bde0": {
     "model_module": "@jupyter-widgets/controls",
     "model_module_version": "1.5.0",
     "model_name": "FloatProgressModel",
     "state": {
      "_dom_classes": [],
      "_model_module": "@jupyter-widgets/controls",
      "_model_module_version": "1.5.0",
      "_model_name": "FloatProgressModel",
      "_view_count": null,
      "_view_module": "@jupyter-widgets/controls",
      "_view_module_version": "1.5.0",
      "_view_name": "ProgressView",
      "bar_style": "success",
      "description": "",
      "description_tooltip": null,
      "layout": "IPY_MODEL_8357214406c44a239789858b8e984a10",
      "max": 1,
      "min": 0,
      "orientation": "horizontal",
      "style": "IPY_MODEL_b26d0b5fc2b74e418dca18be5fa54793",
      "value": 1
     }
    },
    "510cbae9e2cb4ce68cea3424e1c10d4b": {
     "model_module": "@jupyter-widgets/controls",
     "model_module_version": "1.5.0",
     "model_name": "FloatProgressModel",
     "state": {
      "_dom_classes": [],
      "_model_module": "@jupyter-widgets/controls",
      "_model_module_version": "1.5.0",
      "_model_name": "FloatProgressModel",
      "_view_count": null,
      "_view_module": "@jupyter-widgets/controls",
      "_view_module_version": "1.5.0",
      "_view_name": "ProgressView",
      "bar_style": "success",
      "description": "",
      "description_tooltip": null,
      "layout": "IPY_MODEL_7dda483a00af4329ba19645d21a5f5bb",
      "max": 1,
      "min": 0,
      "orientation": "horizontal",
      "style": "IPY_MODEL_c56542eed3e1479ea096acaa1a727aff",
      "value": 1
     }
    },
    "51761c1d55b5455da13989acfce9157b": {
     "model_module": "@jupyter-widgets/controls",
     "model_module_version": "1.5.0",
     "model_name": "HTMLModel",
     "state": {
      "_dom_classes": [],
      "_model_module": "@jupyter-widgets/controls",
      "_model_module_version": "1.5.0",
      "_model_name": "HTMLModel",
      "_view_count": null,
      "_view_module": "@jupyter-widgets/controls",
      "_view_module_version": "1.5.0",
      "_view_name": "HTMLView",
      "description": "",
      "description_tooltip": null,
      "layout": "IPY_MODEL_36212fc0b04e45bc9406056f5d3b938a",
      "placeholder": "​",
      "style": "IPY_MODEL_311148a699cd452baa026f2870a57a75",
      "value": " 2.83M/? [00:00&lt;00:00, 20.5MB/s]"
     }
    },
    "5918cc0cd1574447b2957cc6967d3997": {
     "model_module": "@jupyter-widgets/controls",
     "model_module_version": "1.5.0",
     "model_name": "HTMLModel",
     "state": {
      "_dom_classes": [],
      "_model_module": "@jupyter-widgets/controls",
      "_model_module_version": "1.5.0",
      "_model_name": "HTMLModel",
      "_view_count": null,
      "_view_module": "@jupyter-widgets/controls",
      "_view_module_version": "1.5.0",
      "_view_name": "HTMLView",
      "description": "",
      "description_tooltip": null,
      "layout": "IPY_MODEL_e3832e435d0b42528d7880147d927dc2",
      "placeholder": "​",
      "style": "IPY_MODEL_026f3bef461643a5916b198aa05387a2",
      "value": " 513M/513M [00:17&lt;00:00, 33.0MB/s]"
     }
    },
    "5adf5db4c0474e4aa0c93527e764a890": {
     "model_module": "@jupyter-widgets/base",
     "model_module_version": "1.2.0",
     "model_name": "LayoutModel",
     "state": {
      "_model_module": "@jupyter-widgets/base",
      "_model_module_version": "1.2.0",
      "_model_name": "LayoutModel",
      "_view_count": null,
      "_view_module": "@jupyter-widgets/base",
      "_view_module_version": "1.2.0",
      "_view_name": "LayoutView",
      "align_content": null,
      "align_items": null,
      "align_self": null,
      "border": null,
      "bottom": null,
      "display": null,
      "flex": null,
      "flex_flow": null,
      "grid_area": null,
      "grid_auto_columns": null,
      "grid_auto_flow": null,
      "grid_auto_rows": null,
      "grid_column": null,
      "grid_gap": null,
      "grid_row": null,
      "grid_template_areas": null,
      "grid_template_columns": null,
      "grid_template_rows": null,
      "height": null,
      "justify_content": null,
      "justify_items": null,
      "left": null,
      "margin": null,
      "max_height": null,
      "max_width": null,
      "min_height": null,
      "min_width": null,
      "object_fit": null,
      "object_position": null,
      "order": null,
      "overflow": null,
      "overflow_x": null,
      "overflow_y": null,
      "padding": null,
      "right": null,
      "top": null,
      "visibility": null,
      "width": null
     }
    },
    "5b83874bd4d04ca18c2af723214d1288": {
     "model_module": "@jupyter-widgets/controls",
     "model_module_version": "1.5.0",
     "model_name": "DescriptionStyleModel",
     "state": {
      "_model_module": "@jupyter-widgets/controls",
      "_model_module_version": "1.5.0",
      "_model_name": "DescriptionStyleModel",
      "_view_count": null,
      "_view_module": "@jupyter-widgets/base",
      "_view_module_version": "1.2.0",
      "_view_name": "StyleView",
      "description_width": ""
     }
    },
    "60825aff32314ba48624aff69e73af8d": {
     "model_module": "@jupyter-widgets/base",
     "model_module_version": "1.2.0",
     "model_name": "LayoutModel",
     "state": {
      "_model_module": "@jupyter-widgets/base",
      "_model_module_version": "1.2.0",
      "_model_name": "LayoutModel",
      "_view_count": null,
      "_view_module": "@jupyter-widgets/base",
      "_view_module_version": "1.2.0",
      "_view_name": "LayoutView",
      "align_content": null,
      "align_items": null,
      "align_self": null,
      "border": null,
      "bottom": null,
      "display": null,
      "flex": null,
      "flex_flow": null,
      "grid_area": null,
      "grid_auto_columns": null,
      "grid_auto_flow": null,
      "grid_auto_rows": null,
      "grid_column": null,
      "grid_gap": null,
      "grid_row": null,
      "grid_template_areas": null,
      "grid_template_columns": null,
      "grid_template_rows": null,
      "height": null,
      "justify_content": null,
      "justify_items": null,
      "left": null,
      "margin": null,
      "max_height": null,
      "max_width": null,
      "min_height": null,
      "min_width": null,
      "object_fit": null,
      "object_position": null,
      "order": null,
      "overflow": null,
      "overflow_x": null,
      "overflow_y": null,
      "padding": null,
      "right": null,
      "top": null,
      "visibility": null,
      "width": null
     }
    },
    "67008ba34994448b8b92d1b617e35eae": {
     "model_module": "@jupyter-widgets/controls",
     "model_module_version": "1.5.0",
     "model_name": "HBoxModel",
     "state": {
      "_dom_classes": [],
      "_model_module": "@jupyter-widgets/controls",
      "_model_module_version": "1.5.0",
      "_model_name": "HBoxModel",
      "_view_count": null,
      "_view_module": "@jupyter-widgets/controls",
      "_view_module_version": "1.5.0",
      "_view_name": "HBoxView",
      "box_style": "",
      "children": [
       "IPY_MODEL_aa14c0359bee4b458cf1ceb2ccb23ab2",
       "IPY_MODEL_ef4d30a1b7c049a3bad783a319f9b0cf",
       "IPY_MODEL_e92e3f6c76354c0489b5a73e6f827313"
      ],
      "layout": "IPY_MODEL_72220280615f4f4d82032ad9dc77cc66"
     }
    },
    "6c8af9af743f4ed8b47a61fde81f965a": {
     "model_module": "@jupyter-widgets/controls",
     "model_module_version": "1.5.0",
     "model_name": "DescriptionStyleModel",
     "state": {
      "_model_module": "@jupyter-widgets/controls",
      "_model_module_version": "1.5.0",
      "_model_name": "DescriptionStyleModel",
      "_view_count": null,
      "_view_module": "@jupyter-widgets/base",
      "_view_module_version": "1.2.0",
      "_view_name": "StyleView",
      "description_width": ""
     }
    },
    "6e4a62f3d8a644508a1d19bc890c227d": {
     "model_module": "@jupyter-widgets/controls",
     "model_module_version": "1.5.0",
     "model_name": "HTMLModel",
     "state": {
      "_dom_classes": [],
      "_model_module": "@jupyter-widgets/controls",
      "_model_module_version": "1.5.0",
      "_model_name": "HTMLModel",
      "_view_count": null,
      "_view_module": "@jupyter-widgets/controls",
      "_view_module_version": "1.5.0",
      "_view_name": "HTMLView",
      "description": "",
      "description_tooltip": null,
      "layout": "IPY_MODEL_8322e02587f144789136413ce8238474",
      "placeholder": "​",
      "style": "IPY_MODEL_fe1ba3f252674f4d9125a96cec63e3b1",
      "value": "pytorch_model.bin: 100%"
     }
    },
    "71657ec9d6a24db6bdbd3fc54337c14d": {
     "model_module": "@jupyter-widgets/controls",
     "model_module_version": "1.5.0",
     "model_name": "DescriptionStyleModel",
     "state": {
      "_model_module": "@jupyter-widgets/controls",
      "_model_module_version": "1.5.0",
      "_model_name": "DescriptionStyleModel",
      "_view_count": null,
      "_view_module": "@jupyter-widgets/base",
      "_view_module_version": "1.2.0",
      "_view_name": "StyleView",
      "description_width": ""
     }
    },
    "72220280615f4f4d82032ad9dc77cc66": {
     "model_module": "@jupyter-widgets/base",
     "model_module_version": "1.2.0",
     "model_name": "LayoutModel",
     "state": {
      "_model_module": "@jupyter-widgets/base",
      "_model_module_version": "1.2.0",
      "_model_name": "LayoutModel",
      "_view_count": null,
      "_view_module": "@jupyter-widgets/base",
      "_view_module_version": "1.2.0",
      "_view_name": "LayoutView",
      "align_content": null,
      "align_items": null,
      "align_self": null,
      "border": null,
      "bottom": null,
      "display": null,
      "flex": null,
      "flex_flow": null,
      "grid_area": null,
      "grid_auto_columns": null,
      "grid_auto_flow": null,
      "grid_auto_rows": null,
      "grid_column": null,
      "grid_gap": null,
      "grid_row": null,
      "grid_template_areas": null,
      "grid_template_columns": null,
      "grid_template_rows": null,
      "height": null,
      "justify_content": null,
      "justify_items": null,
      "left": null,
      "margin": null,
      "max_height": null,
      "max_width": null,
      "min_height": null,
      "min_width": null,
      "object_fit": null,
      "object_position": null,
      "order": null,
      "overflow": null,
      "overflow_x": null,
      "overflow_y": null,
      "padding": null,
      "right": null,
      "top": null,
      "visibility": null,
      "width": null
     }
    },
    "7294a051ab784f71bdf44b22140830b8": {
     "model_module": "@jupyter-widgets/controls",
     "model_module_version": "1.5.0",
     "model_name": "DescriptionStyleModel",
     "state": {
      "_model_module": "@jupyter-widgets/controls",
      "_model_module_version": "1.5.0",
      "_model_name": "DescriptionStyleModel",
      "_view_count": null,
      "_view_module": "@jupyter-widgets/base",
      "_view_module_version": "1.2.0",
      "_view_name": "StyleView",
      "description_width": ""
     }
    },
    "798a80f7c3a846438f3c5d1b4e9efe58": {
     "model_module": "@jupyter-widgets/base",
     "model_module_version": "1.2.0",
     "model_name": "LayoutModel",
     "state": {
      "_model_module": "@jupyter-widgets/base",
      "_model_module_version": "1.2.0",
      "_model_name": "LayoutModel",
      "_view_count": null,
      "_view_module": "@jupyter-widgets/base",
      "_view_module_version": "1.2.0",
      "_view_name": "LayoutView",
      "align_content": null,
      "align_items": null,
      "align_self": null,
      "border": null,
      "bottom": null,
      "display": null,
      "flex": null,
      "flex_flow": null,
      "grid_area": null,
      "grid_auto_columns": null,
      "grid_auto_flow": null,
      "grid_auto_rows": null,
      "grid_column": null,
      "grid_gap": null,
      "grid_row": null,
      "grid_template_areas": null,
      "grid_template_columns": null,
      "grid_template_rows": null,
      "height": null,
      "justify_content": null,
      "justify_items": null,
      "left": null,
      "margin": null,
      "max_height": null,
      "max_width": null,
      "min_height": null,
      "min_width": null,
      "object_fit": null,
      "object_position": null,
      "order": null,
      "overflow": null,
      "overflow_x": null,
      "overflow_y": null,
      "padding": null,
      "right": null,
      "top": null,
      "visibility": null,
      "width": null
     }
    },
    "7cf9ebddc793488fa68c1696b93670d8": {
     "model_module": "@jupyter-widgets/controls",
     "model_module_version": "1.5.0",
     "model_name": "HBoxModel",
     "state": {
      "_dom_classes": [],
      "_model_module": "@jupyter-widgets/controls",
      "_model_module_version": "1.5.0",
      "_model_name": "HBoxModel",
      "_view_count": null,
      "_view_module": "@jupyter-widgets/controls",
      "_view_module_version": "1.5.0",
      "_view_name": "HBoxView",
      "box_style": "",
      "children": [
       "IPY_MODEL_6e4a62f3d8a644508a1d19bc890c227d",
       "IPY_MODEL_8818436569eb4a65aff8e6f9d2ebaa57",
       "IPY_MODEL_5918cc0cd1574447b2957cc6967d3997"
      ],
      "layout": "IPY_MODEL_d0cb19cbb51546ae9ad163efebba8d0d"
     }
    },
    "7dda483a00af4329ba19645d21a5f5bb": {
     "model_module": "@jupyter-widgets/base",
     "model_module_version": "1.2.0",
     "model_name": "LayoutModel",
     "state": {
      "_model_module": "@jupyter-widgets/base",
      "_model_module_version": "1.2.0",
      "_model_name": "LayoutModel",
      "_view_count": null,
      "_view_module": "@jupyter-widgets/base",
      "_view_module_version": "1.2.0",
      "_view_name": "LayoutView",
      "align_content": null,
      "align_items": null,
      "align_self": null,
      "border": null,
      "bottom": null,
      "display": null,
      "flex": null,
      "flex_flow": null,
      "grid_area": null,
      "grid_auto_columns": null,
      "grid_auto_flow": null,
      "grid_auto_rows": null,
      "grid_column": null,
      "grid_gap": null,
      "grid_row": null,
      "grid_template_areas": null,
      "grid_template_columns": null,
      "grid_template_rows": null,
      "height": null,
      "justify_content": null,
      "justify_items": null,
      "left": null,
      "margin": null,
      "max_height": null,
      "max_width": null,
      "min_height": null,
      "min_width": null,
      "object_fit": null,
      "object_position": null,
      "order": null,
      "overflow": null,
      "overflow_x": null,
      "overflow_y": null,
      "padding": null,
      "right": null,
      "top": null,
      "visibility": null,
      "width": "20px"
     }
    },
    "81d9fb051a3a4bc6a5868b721bcb86dc": {
     "model_module": "@jupyter-widgets/base",
     "model_module_version": "1.2.0",
     "model_name": "LayoutModel",
     "state": {
      "_model_module": "@jupyter-widgets/base",
      "_model_module_version": "1.2.0",
      "_model_name": "LayoutModel",
      "_view_count": null,
      "_view_module": "@jupyter-widgets/base",
      "_view_module_version": "1.2.0",
      "_view_name": "LayoutView",
      "align_content": null,
      "align_items": null,
      "align_self": null,
      "border": null,
      "bottom": null,
      "display": null,
      "flex": null,
      "flex_flow": null,
      "grid_area": null,
      "grid_auto_columns": null,
      "grid_auto_flow": null,
      "grid_auto_rows": null,
      "grid_column": null,
      "grid_gap": null,
      "grid_row": null,
      "grid_template_areas": null,
      "grid_template_columns": null,
      "grid_template_rows": null,
      "height": null,
      "justify_content": null,
      "justify_items": null,
      "left": null,
      "margin": null,
      "max_height": null,
      "max_width": null,
      "min_height": null,
      "min_width": null,
      "object_fit": null,
      "object_position": null,
      "order": null,
      "overflow": null,
      "overflow_x": null,
      "overflow_y": null,
      "padding": null,
      "right": null,
      "top": null,
      "visibility": null,
      "width": null
     }
    },
    "8322e02587f144789136413ce8238474": {
     "model_module": "@jupyter-widgets/base",
     "model_module_version": "1.2.0",
     "model_name": "LayoutModel",
     "state": {
      "_model_module": "@jupyter-widgets/base",
      "_model_module_version": "1.2.0",
      "_model_name": "LayoutModel",
      "_view_count": null,
      "_view_module": "@jupyter-widgets/base",
      "_view_module_version": "1.2.0",
      "_view_name": "LayoutView",
      "align_content": null,
      "align_items": null,
      "align_self": null,
      "border": null,
      "bottom": null,
      "display": null,
      "flex": null,
      "flex_flow": null,
      "grid_area": null,
      "grid_auto_columns": null,
      "grid_auto_flow": null,
      "grid_auto_rows": null,
      "grid_column": null,
      "grid_gap": null,
      "grid_row": null,
      "grid_template_areas": null,
      "grid_template_columns": null,
      "grid_template_rows": null,
      "height": null,
      "justify_content": null,
      "justify_items": null,
      "left": null,
      "margin": null,
      "max_height": null,
      "max_width": null,
      "min_height": null,
      "min_width": null,
      "object_fit": null,
      "object_position": null,
      "order": null,
      "overflow": null,
      "overflow_x": null,
      "overflow_y": null,
      "padding": null,
      "right": null,
      "top": null,
      "visibility": null,
      "width": null
     }
    },
    "8357214406c44a239789858b8e984a10": {
     "model_module": "@jupyter-widgets/base",
     "model_module_version": "1.2.0",
     "model_name": "LayoutModel",
     "state": {
      "_model_module": "@jupyter-widgets/base",
      "_model_module_version": "1.2.0",
      "_model_name": "LayoutModel",
      "_view_count": null,
      "_view_module": "@jupyter-widgets/base",
      "_view_module_version": "1.2.0",
      "_view_name": "LayoutView",
      "align_content": null,
      "align_items": null,
      "align_self": null,
      "border": null,
      "bottom": null,
      "display": null,
      "flex": null,
      "flex_flow": null,
      "grid_area": null,
      "grid_auto_columns": null,
      "grid_auto_flow": null,
      "grid_auto_rows": null,
      "grid_column": null,
      "grid_gap": null,
      "grid_row": null,
      "grid_template_areas": null,
      "grid_template_columns": null,
      "grid_template_rows": null,
      "height": null,
      "justify_content": null,
      "justify_items": null,
      "left": null,
      "margin": null,
      "max_height": null,
      "max_width": null,
      "min_height": null,
      "min_width": null,
      "object_fit": null,
      "object_position": null,
      "order": null,
      "overflow": null,
      "overflow_x": null,
      "overflow_y": null,
      "padding": null,
      "right": null,
      "top": null,
      "visibility": null,
      "width": "20px"
     }
    },
    "86d5b2a5b334407a95f2ed6c986d4a32": {
     "model_module": "@jupyter-widgets/base",
     "model_module_version": "1.2.0",
     "model_name": "LayoutModel",
     "state": {
      "_model_module": "@jupyter-widgets/base",
      "_model_module_version": "1.2.0",
      "_model_name": "LayoutModel",
      "_view_count": null,
      "_view_module": "@jupyter-widgets/base",
      "_view_module_version": "1.2.0",
      "_view_name": "LayoutView",
      "align_content": null,
      "align_items": null,
      "align_self": null,
      "border": null,
      "bottom": null,
      "display": null,
      "flex": null,
      "flex_flow": null,
      "grid_area": null,
      "grid_auto_columns": null,
      "grid_auto_flow": null,
      "grid_auto_rows": null,
      "grid_column": null,
      "grid_gap": null,
      "grid_row": null,
      "grid_template_areas": null,
      "grid_template_columns": null,
      "grid_template_rows": null,
      "height": null,
      "justify_content": null,
      "justify_items": null,
      "left": null,
      "margin": null,
      "max_height": null,
      "max_width": null,
      "min_height": null,
      "min_width": null,
      "object_fit": null,
      "object_position": null,
      "order": null,
      "overflow": null,
      "overflow_x": null,
      "overflow_y": null,
      "padding": null,
      "right": null,
      "top": null,
      "visibility": null,
      "width": "20px"
     }
    },
    "8818436569eb4a65aff8e6f9d2ebaa57": {
     "model_module": "@jupyter-widgets/controls",
     "model_module_version": "1.5.0",
     "model_name": "FloatProgressModel",
     "state": {
      "_dom_classes": [],
      "_model_module": "@jupyter-widgets/controls",
      "_model_module_version": "1.5.0",
      "_model_name": "FloatProgressModel",
      "_view_count": null,
      "_view_module": "@jupyter-widgets/controls",
      "_view_module_version": "1.5.0",
      "_view_name": "ProgressView",
      "bar_style": "success",
      "description": "",
      "description_tooltip": null,
      "layout": "IPY_MODEL_91bb868a78864f45bee014f1de959da5",
      "max": 513302779,
      "min": 0,
      "orientation": "horizontal",
      "style": "IPY_MODEL_c07c9599e59f430494338ceb767130b0",
      "value": 513302779
     }
    },
    "8b0202135b8c48ffa919e6f793de2342": {
     "model_module": "@jupyter-widgets/base",
     "model_module_version": "1.2.0",
     "model_name": "LayoutModel",
     "state": {
      "_model_module": "@jupyter-widgets/base",
      "_model_module_version": "1.2.0",
      "_model_name": "LayoutModel",
      "_view_count": null,
      "_view_module": "@jupyter-widgets/base",
      "_view_module_version": "1.2.0",
      "_view_name": "LayoutView",
      "align_content": null,
      "align_items": null,
      "align_self": null,
      "border": null,
      "bottom": null,
      "display": null,
      "flex": null,
      "flex_flow": null,
      "grid_area": null,
      "grid_auto_columns": null,
      "grid_auto_flow": null,
      "grid_auto_rows": null,
      "grid_column": null,
      "grid_gap": null,
      "grid_row": null,
      "grid_template_areas": null,
      "grid_template_columns": null,
      "grid_template_rows": null,
      "height": null,
      "justify_content": null,
      "justify_items": null,
      "left": null,
      "margin": null,
      "max_height": null,
      "max_width": null,
      "min_height": null,
      "min_width": null,
      "object_fit": null,
      "object_position": null,
      "order": null,
      "overflow": null,
      "overflow_x": null,
      "overflow_y": null,
      "padding": null,
      "right": null,
      "top": null,
      "visibility": null,
      "width": null
     }
    },
    "906054c62ba1491ea7a92e4e3bc4d07a": {
     "model_module": "@jupyter-widgets/base",
     "model_module_version": "1.2.0",
     "model_name": "LayoutModel",
     "state": {
      "_model_module": "@jupyter-widgets/base",
      "_model_module_version": "1.2.0",
      "_model_name": "LayoutModel",
      "_view_count": null,
      "_view_module": "@jupyter-widgets/base",
      "_view_module_version": "1.2.0",
      "_view_name": "LayoutView",
      "align_content": null,
      "align_items": null,
      "align_self": null,
      "border": null,
      "bottom": null,
      "display": null,
      "flex": null,
      "flex_flow": null,
      "grid_area": null,
      "grid_auto_columns": null,
      "grid_auto_flow": null,
      "grid_auto_rows": null,
      "grid_column": null,
      "grid_gap": null,
      "grid_row": null,
      "grid_template_areas": null,
      "grid_template_columns": null,
      "grid_template_rows": null,
      "height": null,
      "justify_content": null,
      "justify_items": null,
      "left": null,
      "margin": null,
      "max_height": null,
      "max_width": null,
      "min_height": null,
      "min_width": null,
      "object_fit": null,
      "object_position": null,
      "order": null,
      "overflow": null,
      "overflow_x": null,
      "overflow_y": null,
      "padding": null,
      "right": null,
      "top": null,
      "visibility": null,
      "width": null
     }
    },
    "91bb868a78864f45bee014f1de959da5": {
     "model_module": "@jupyter-widgets/base",
     "model_module_version": "1.2.0",
     "model_name": "LayoutModel",
     "state": {
      "_model_module": "@jupyter-widgets/base",
      "_model_module_version": "1.2.0",
      "_model_name": "LayoutModel",
      "_view_count": null,
      "_view_module": "@jupyter-widgets/base",
      "_view_module_version": "1.2.0",
      "_view_name": "LayoutView",
      "align_content": null,
      "align_items": null,
      "align_self": null,
      "border": null,
      "bottom": null,
      "display": null,
      "flex": null,
      "flex_flow": null,
      "grid_area": null,
      "grid_auto_columns": null,
      "grid_auto_flow": null,
      "grid_auto_rows": null,
      "grid_column": null,
      "grid_gap": null,
      "grid_row": null,
      "grid_template_areas": null,
      "grid_template_columns": null,
      "grid_template_rows": null,
      "height": null,
      "justify_content": null,
      "justify_items": null,
      "left": null,
      "margin": null,
      "max_height": null,
      "max_width": null,
      "min_height": null,
      "min_width": null,
      "object_fit": null,
      "object_position": null,
      "order": null,
      "overflow": null,
      "overflow_x": null,
      "overflow_y": null,
      "padding": null,
      "right": null,
      "top": null,
      "visibility": null,
      "width": null
     }
    },
    "93e7bc76b32b497fbab4e7b6a1b9169d": {
     "model_module": "@jupyter-widgets/base",
     "model_module_version": "1.2.0",
     "model_name": "LayoutModel",
     "state": {
      "_model_module": "@jupyter-widgets/base",
      "_model_module_version": "1.2.0",
      "_model_name": "LayoutModel",
      "_view_count": null,
      "_view_module": "@jupyter-widgets/base",
      "_view_module_version": "1.2.0",
      "_view_name": "LayoutView",
      "align_content": null,
      "align_items": null,
      "align_self": null,
      "border": null,
      "bottom": null,
      "display": null,
      "flex": null,
      "flex_flow": null,
      "grid_area": null,
      "grid_auto_columns": null,
      "grid_auto_flow": null,
      "grid_auto_rows": null,
      "grid_column": null,
      "grid_gap": null,
      "grid_row": null,
      "grid_template_areas": null,
      "grid_template_columns": null,
      "grid_template_rows": null,
      "height": null,
      "justify_content": null,
      "justify_items": null,
      "left": null,
      "margin": null,
      "max_height": null,
      "max_width": null,
      "min_height": null,
      "min_width": null,
      "object_fit": null,
      "object_position": null,
      "order": null,
      "overflow": null,
      "overflow_x": null,
      "overflow_y": null,
      "padding": null,
      "right": null,
      "top": null,
      "visibility": null,
      "width": null
     }
    },
    "941964e7b56d473f8af3b43ad1c17eb1": {
     "model_module": "@jupyter-widgets/controls",
     "model_module_version": "1.5.0",
     "model_name": "HTMLModel",
     "state": {
      "_dom_classes": [],
      "_model_module": "@jupyter-widgets/controls",
      "_model_module_version": "1.5.0",
      "_model_name": "HTMLModel",
      "_view_count": null,
      "_view_module": "@jupyter-widgets/controls",
      "_view_module_version": "1.5.0",
      "_view_name": "HTMLView",
      "description": "",
      "description_tooltip": null,
      "layout": "IPY_MODEL_c15ad75dbb864999aacb92e4e34dcd12",
      "placeholder": "​",
      "style": "IPY_MODEL_977d1bd66ce149559d7f4064cc778ead",
      "value": "tokenizer.json: "
     }
    },
    "977d1bd66ce149559d7f4064cc778ead": {
     "model_module": "@jupyter-widgets/controls",
     "model_module_version": "1.5.0",
     "model_name": "DescriptionStyleModel",
     "state": {
      "_model_module": "@jupyter-widgets/controls",
      "_model_module_version": "1.5.0",
      "_model_name": "DescriptionStyleModel",
      "_view_count": null,
      "_view_module": "@jupyter-widgets/base",
      "_view_module_version": "1.2.0",
      "_view_name": "StyleView",
      "description_width": ""
     }
    },
    "97f9b1ee5cdb411c9b38676491cb0cb4": {
     "model_module": "@jupyter-widgets/controls",
     "model_module_version": "1.5.0",
     "model_name": "FloatProgressModel",
     "state": {
      "_dom_classes": [],
      "_model_module": "@jupyter-widgets/controls",
      "_model_module_version": "1.5.0",
      "_model_name": "FloatProgressModel",
      "_view_count": null,
      "_view_module": "@jupyter-widgets/controls",
      "_view_module_version": "1.5.0",
      "_view_name": "ProgressView",
      "bar_style": "success",
      "description": "",
      "description_tooltip": null,
      "layout": "IPY_MODEL_8b0202135b8c48ffa919e6f793de2342",
      "max": 513302779,
      "min": 0,
      "orientation": "horizontal",
      "style": "IPY_MODEL_b38131c6322b42bea39c9532cf4920db",
      "value": 513302779
     }
    },
    "9c08cfa3b8b546a48f77d68171da4095": {
     "model_module": "@jupyter-widgets/controls",
     "model_module_version": "1.5.0",
     "model_name": "DescriptionStyleModel",
     "state": {
      "_model_module": "@jupyter-widgets/controls",
      "_model_module_version": "1.5.0",
      "_model_name": "DescriptionStyleModel",
      "_view_count": null,
      "_view_module": "@jupyter-widgets/base",
      "_view_module_version": "1.2.0",
      "_view_name": "StyleView",
      "description_width": ""
     }
    },
    "a408727f68624fc69cb4abf4bfc7dd4e": {
     "model_module": "@jupyter-widgets/controls",
     "model_module_version": "1.5.0",
     "model_name": "ProgressStyleModel",
     "state": {
      "_model_module": "@jupyter-widgets/controls",
      "_model_module_version": "1.5.0",
      "_model_name": "ProgressStyleModel",
      "_view_count": null,
      "_view_module": "@jupyter-widgets/base",
      "_view_module_version": "1.2.0",
      "_view_name": "StyleView",
      "bar_color": null,
      "description_width": ""
     }
    },
    "a8df1d5da5b8454e823001e9997e6c3f": {
     "model_module": "@jupyter-widgets/controls",
     "model_module_version": "1.5.0",
     "model_name": "HTMLModel",
     "state": {
      "_dom_classes": [],
      "_model_module": "@jupyter-widgets/controls",
      "_model_module_version": "1.5.0",
      "_model_name": "HTMLModel",
      "_view_count": null,
      "_view_module": "@jupyter-widgets/controls",
      "_view_module_version": "1.5.0",
      "_view_name": "HTMLView",
      "description": "",
      "description_tooltip": null,
      "layout": "IPY_MODEL_e6d4f185508c49259240ef6aea1d681c",
      "placeholder": "​",
      "style": "IPY_MODEL_7294a051ab784f71bdf44b22140830b8",
      "value": "config.json: "
     }
    },
    "aa14c0359bee4b458cf1ceb2ccb23ab2": {
     "model_module": "@jupyter-widgets/controls",
     "model_module_version": "1.5.0",
     "model_name": "HTMLModel",
     "state": {
      "_dom_classes": [],
      "_model_module": "@jupyter-widgets/controls",
      "_model_module_version": "1.5.0",
      "_model_name": "HTMLModel",
      "_view_count": null,
      "_view_module": "@jupyter-widgets/controls",
      "_view_module_version": "1.5.0",
      "_view_name": "HTMLView",
      "description": "",
      "description_tooltip": null,
      "layout": "IPY_MODEL_058da49dc13449efbbfc9879652ec7c6",
      "placeholder": "​",
      "style": "IPY_MODEL_eb7dd25c35094442b9e20c3e14d89094",
      "value": "model.safetensors: 100%"
     }
    },
    "acb2b7862fd9484bbb23acc0a7879198": {
     "model_module": "@jupyter-widgets/base",
     "model_module_version": "1.2.0",
     "model_name": "LayoutModel",
     "state": {
      "_model_module": "@jupyter-widgets/base",
      "_model_module_version": "1.2.0",
      "_model_name": "LayoutModel",
      "_view_count": null,
      "_view_module": "@jupyter-widgets/base",
      "_view_module_version": "1.2.0",
      "_view_name": "LayoutView",
      "align_content": null,
      "align_items": null,
      "align_self": null,
      "border": null,
      "bottom": null,
      "display": null,
      "flex": null,
      "flex_flow": null,
      "grid_area": null,
      "grid_auto_columns": null,
      "grid_auto_flow": null,
      "grid_auto_rows": null,
      "grid_column": null,
      "grid_gap": null,
      "grid_row": null,
      "grid_template_areas": null,
      "grid_template_columns": null,
      "grid_template_rows": null,
      "height": null,
      "justify_content": null,
      "justify_items": null,
      "left": null,
      "margin": null,
      "max_height": null,
      "max_width": null,
      "min_height": null,
      "min_width": null,
      "object_fit": null,
      "object_position": null,
      "order": null,
      "overflow": null,
      "overflow_x": null,
      "overflow_y": null,
      "padding": null,
      "right": null,
      "top": null,
      "visibility": null,
      "width": null
     }
    },
    "afecc124e82845d480a097d3dca02049": {
     "model_module": "@jupyter-widgets/controls",
     "model_module_version": "1.5.0",
     "model_name": "FloatProgressModel",
     "state": {
      "_dom_classes": [],
      "_model_module": "@jupyter-widgets/controls",
      "_model_module_version": "1.5.0",
      "_model_name": "FloatProgressModel",
      "_view_count": null,
      "_view_module": "@jupyter-widgets/controls",
      "_view_module_version": "1.5.0",
      "_view_name": "ProgressView",
      "bar_style": "success",
      "description": "",
      "description_tooltip": null,
      "layout": "IPY_MODEL_86d5b2a5b334407a95f2ed6c986d4a32",
      "max": 1,
      "min": 0,
      "orientation": "horizontal",
      "style": "IPY_MODEL_a408727f68624fc69cb4abf4bfc7dd4e",
      "value": 1
     }
    },
    "b26d0b5fc2b74e418dca18be5fa54793": {
     "model_module": "@jupyter-widgets/controls",
     "model_module_version": "1.5.0",
     "model_name": "ProgressStyleModel",
     "state": {
      "_model_module": "@jupyter-widgets/controls",
      "_model_module_version": "1.5.0",
      "_model_name": "ProgressStyleModel",
      "_view_count": null,
      "_view_module": "@jupyter-widgets/base",
      "_view_module_version": "1.2.0",
      "_view_name": "StyleView",
      "bar_color": null,
      "description_width": ""
     }
    },
    "b38131c6322b42bea39c9532cf4920db": {
     "model_module": "@jupyter-widgets/controls",
     "model_module_version": "1.5.0",
     "model_name": "ProgressStyleModel",
     "state": {
      "_model_module": "@jupyter-widgets/controls",
      "_model_module_version": "1.5.0",
      "_model_name": "ProgressStyleModel",
      "_view_count": null,
      "_view_module": "@jupyter-widgets/base",
      "_view_module_version": "1.2.0",
      "_view_name": "StyleView",
      "bar_color": null,
      "description_width": ""
     }
    },
    "b8c1d03f743c4f628a046409d9516efb": {
     "model_module": "@jupyter-widgets/controls",
     "model_module_version": "1.5.0",
     "model_name": "ProgressStyleModel",
     "state": {
      "_model_module": "@jupyter-widgets/controls",
      "_model_module_version": "1.5.0",
      "_model_name": "ProgressStyleModel",
      "_view_count": null,
      "_view_module": "@jupyter-widgets/base",
      "_view_module_version": "1.2.0",
      "_view_name": "StyleView",
      "bar_color": null,
      "description_width": ""
     }
    },
    "bc207a6b4b954954b34ce6ef1757289c": {
     "model_module": "@jupyter-widgets/controls",
     "model_module_version": "1.5.0",
     "model_name": "FloatProgressModel",
     "state": {
      "_dom_classes": [],
      "_model_module": "@jupyter-widgets/controls",
      "_model_module_version": "1.5.0",
      "_model_name": "FloatProgressModel",
      "_view_count": null,
      "_view_module": "@jupyter-widgets/controls",
      "_view_module_version": "1.5.0",
      "_view_name": "ProgressView",
      "bar_style": "success",
      "description": "",
      "description_tooltip": null,
      "layout": "IPY_MODEL_124b620770804800bfe1113c67635d54",
      "max": 1,
      "min": 0,
      "orientation": "horizontal",
      "style": "IPY_MODEL_e7f18b2ead0e47cda453fee3aaf720d3",
      "value": 1
     }
    },
    "c07c9599e59f430494338ceb767130b0": {
     "model_module": "@jupyter-widgets/controls",
     "model_module_version": "1.5.0",
     "model_name": "ProgressStyleModel",
     "state": {
      "_model_module": "@jupyter-widgets/controls",
      "_model_module_version": "1.5.0",
      "_model_name": "ProgressStyleModel",
      "_view_count": null,
      "_view_module": "@jupyter-widgets/base",
      "_view_module_version": "1.2.0",
      "_view_name": "StyleView",
      "bar_color": null,
      "description_width": ""
     }
    },
    "c15ad75dbb864999aacb92e4e34dcd12": {
     "model_module": "@jupyter-widgets/base",
     "model_module_version": "1.2.0",
     "model_name": "LayoutModel",
     "state": {
      "_model_module": "@jupyter-widgets/base",
      "_model_module_version": "1.2.0",
      "_model_name": "LayoutModel",
      "_view_count": null,
      "_view_module": "@jupyter-widgets/base",
      "_view_module_version": "1.2.0",
      "_view_name": "LayoutView",
      "align_content": null,
      "align_items": null,
      "align_self": null,
      "border": null,
      "bottom": null,
      "display": null,
      "flex": null,
      "flex_flow": null,
      "grid_area": null,
      "grid_auto_columns": null,
      "grid_auto_flow": null,
      "grid_auto_rows": null,
      "grid_column": null,
      "grid_gap": null,
      "grid_row": null,
      "grid_template_areas": null,
      "grid_template_columns": null,
      "grid_template_rows": null,
      "height": null,
      "justify_content": null,
      "justify_items": null,
      "left": null,
      "margin": null,
      "max_height": null,
      "max_width": null,
      "min_height": null,
      "min_width": null,
      "object_fit": null,
      "object_position": null,
      "order": null,
      "overflow": null,
      "overflow_x": null,
      "overflow_y": null,
      "padding": null,
      "right": null,
      "top": null,
      "visibility": null,
      "width": null
     }
    },
    "c56542eed3e1479ea096acaa1a727aff": {
     "model_module": "@jupyter-widgets/controls",
     "model_module_version": "1.5.0",
     "model_name": "ProgressStyleModel",
     "state": {
      "_model_module": "@jupyter-widgets/controls",
      "_model_module_version": "1.5.0",
      "_model_name": "ProgressStyleModel",
      "_view_count": null,
      "_view_module": "@jupyter-widgets/base",
      "_view_module_version": "1.2.0",
      "_view_name": "StyleView",
      "bar_color": null,
      "description_width": ""
     }
    },
    "d0cb19cbb51546ae9ad163efebba8d0d": {
     "model_module": "@jupyter-widgets/base",
     "model_module_version": "1.2.0",
     "model_name": "LayoutModel",
     "state": {
      "_model_module": "@jupyter-widgets/base",
      "_model_module_version": "1.2.0",
      "_model_name": "LayoutModel",
      "_view_count": null,
      "_view_module": "@jupyter-widgets/base",
      "_view_module_version": "1.2.0",
      "_view_name": "LayoutView",
      "align_content": null,
      "align_items": null,
      "align_self": null,
      "border": null,
      "bottom": null,
      "display": null,
      "flex": null,
      "flex_flow": null,
      "grid_area": null,
      "grid_auto_columns": null,
      "grid_auto_flow": null,
      "grid_auto_rows": null,
      "grid_column": null,
      "grid_gap": null,
      "grid_row": null,
      "grid_template_areas": null,
      "grid_template_columns": null,
      "grid_template_rows": null,
      "height": null,
      "justify_content": null,
      "justify_items": null,
      "left": null,
      "margin": null,
      "max_height": null,
      "max_width": null,
      "min_height": null,
      "min_width": null,
      "object_fit": null,
      "object_position": null,
      "order": null,
      "overflow": null,
      "overflow_x": null,
      "overflow_y": null,
      "padding": null,
      "right": null,
      "top": null,
      "visibility": null,
      "width": null
     }
    },
    "d37ffd1323e446299495681270fc44f0": {
     "model_module": "@jupyter-widgets/controls",
     "model_module_version": "1.5.0",
     "model_name": "DescriptionStyleModel",
     "state": {
      "_model_module": "@jupyter-widgets/controls",
      "_model_module_version": "1.5.0",
      "_model_name": "DescriptionStyleModel",
      "_view_count": null,
      "_view_module": "@jupyter-widgets/base",
      "_view_module_version": "1.2.0",
      "_view_name": "StyleView",
      "description_width": ""
     }
    },
    "dd00d016d27d41deaf810ef8c9720e45": {
     "model_module": "@jupyter-widgets/controls",
     "model_module_version": "1.5.0",
     "model_name": "HTMLModel",
     "state": {
      "_dom_classes": [],
      "_model_module": "@jupyter-widgets/controls",
      "_model_module_version": "1.5.0",
      "_model_name": "HTMLModel",
      "_view_count": null,
      "_view_module": "@jupyter-widgets/controls",
      "_view_module_version": "1.5.0",
      "_view_name": "HTMLView",
      "description": "",
      "description_tooltip": null,
      "layout": "IPY_MODEL_906054c62ba1491ea7a92e4e3bc4d07a",
      "placeholder": "​",
      "style": "IPY_MODEL_5b83874bd4d04ca18c2af723214d1288",
      "value": "pytorch_model.bin: 100%"
     }
    },
    "e3832e435d0b42528d7880147d927dc2": {
     "model_module": "@jupyter-widgets/base",
     "model_module_version": "1.2.0",
     "model_name": "LayoutModel",
     "state": {
      "_model_module": "@jupyter-widgets/base",
      "_model_module_version": "1.2.0",
      "_model_name": "LayoutModel",
      "_view_count": null,
      "_view_module": "@jupyter-widgets/base",
      "_view_module_version": "1.2.0",
      "_view_name": "LayoutView",
      "align_content": null,
      "align_items": null,
      "align_self": null,
      "border": null,
      "bottom": null,
      "display": null,
      "flex": null,
      "flex_flow": null,
      "grid_area": null,
      "grid_auto_columns": null,
      "grid_auto_flow": null,
      "grid_auto_rows": null,
      "grid_column": null,
      "grid_gap": null,
      "grid_row": null,
      "grid_template_areas": null,
      "grid_template_columns": null,
      "grid_template_rows": null,
      "height": null,
      "justify_content": null,
      "justify_items": null,
      "left": null,
      "margin": null,
      "max_height": null,
      "max_width": null,
      "min_height": null,
      "min_width": null,
      "object_fit": null,
      "object_position": null,
      "order": null,
      "overflow": null,
      "overflow_x": null,
      "overflow_y": null,
      "padding": null,
      "right": null,
      "top": null,
      "visibility": null,
      "width": null
     }
    },
    "e6d4f185508c49259240ef6aea1d681c": {
     "model_module": "@jupyter-widgets/base",
     "model_module_version": "1.2.0",
     "model_name": "LayoutModel",
     "state": {
      "_model_module": "@jupyter-widgets/base",
      "_model_module_version": "1.2.0",
      "_model_name": "LayoutModel",
      "_view_count": null,
      "_view_module": "@jupyter-widgets/base",
      "_view_module_version": "1.2.0",
      "_view_name": "LayoutView",
      "align_content": null,
      "align_items": null,
      "align_self": null,
      "border": null,
      "bottom": null,
      "display": null,
      "flex": null,
      "flex_flow": null,
      "grid_area": null,
      "grid_auto_columns": null,
      "grid_auto_flow": null,
      "grid_auto_rows": null,
      "grid_column": null,
      "grid_gap": null,
      "grid_row": null,
      "grid_template_areas": null,
      "grid_template_columns": null,
      "grid_template_rows": null,
      "height": null,
      "justify_content": null,
      "justify_items": null,
      "left": null,
      "margin": null,
      "max_height": null,
      "max_width": null,
      "min_height": null,
      "min_width": null,
      "object_fit": null,
      "object_position": null,
      "order": null,
      "overflow": null,
      "overflow_x": null,
      "overflow_y": null,
      "padding": null,
      "right": null,
      "top": null,
      "visibility": null,
      "width": null
     }
    },
    "e7f18b2ead0e47cda453fee3aaf720d3": {
     "model_module": "@jupyter-widgets/controls",
     "model_module_version": "1.5.0",
     "model_name": "ProgressStyleModel",
     "state": {
      "_model_module": "@jupyter-widgets/controls",
      "_model_module_version": "1.5.0",
      "_model_name": "ProgressStyleModel",
      "_view_count": null,
      "_view_module": "@jupyter-widgets/base",
      "_view_module_version": "1.2.0",
      "_view_name": "StyleView",
      "bar_color": null,
      "description_width": ""
     }
    },
    "e92e3f6c76354c0489b5a73e6f827313": {
     "model_module": "@jupyter-widgets/controls",
     "model_module_version": "1.5.0",
     "model_name": "HTMLModel",
     "state": {
      "_dom_classes": [],
      "_model_module": "@jupyter-widgets/controls",
      "_model_module_version": "1.5.0",
      "_model_name": "HTMLModel",
      "_view_count": null,
      "_view_module": "@jupyter-widgets/controls",
      "_view_module_version": "1.5.0",
      "_view_name": "HTMLView",
      "description": "",
      "description_tooltip": null,
      "layout": "IPY_MODEL_3103260442e04ca18b667bc032c89009",
      "placeholder": "​",
      "style": "IPY_MODEL_f8a6c19b4e5c41d08cbbccbab9fb6e93",
      "value": " 513M/513M [00:25&lt;00:00, 16.0MB/s]"
     }
    },
    "eb7dd25c35094442b9e20c3e14d89094": {
     "model_module": "@jupyter-widgets/controls",
     "model_module_version": "1.5.0",
     "model_name": "DescriptionStyleModel",
     "state": {
      "_model_module": "@jupyter-widgets/controls",
      "_model_module_version": "1.5.0",
      "_model_name": "DescriptionStyleModel",
      "_view_count": null,
      "_view_module": "@jupyter-widgets/base",
      "_view_module_version": "1.2.0",
      "_view_name": "StyleView",
      "description_width": ""
     }
    },
    "ed32343687ab4f718389866c2eb995c0": {
     "model_module": "@jupyter-widgets/base",
     "model_module_version": "1.2.0",
     "model_name": "LayoutModel",
     "state": {
      "_model_module": "@jupyter-widgets/base",
      "_model_module_version": "1.2.0",
      "_model_name": "LayoutModel",
      "_view_count": null,
      "_view_module": "@jupyter-widgets/base",
      "_view_module_version": "1.2.0",
      "_view_name": "LayoutView",
      "align_content": null,
      "align_items": null,
      "align_self": null,
      "border": null,
      "bottom": null,
      "display": null,
      "flex": null,
      "flex_flow": null,
      "grid_area": null,
      "grid_auto_columns": null,
      "grid_auto_flow": null,
      "grid_auto_rows": null,
      "grid_column": null,
      "grid_gap": null,
      "grid_row": null,
      "grid_template_areas": null,
      "grid_template_columns": null,
      "grid_template_rows": null,
      "height": null,
      "justify_content": null,
      "justify_items": null,
      "left": null,
      "margin": null,
      "max_height": null,
      "max_width": null,
      "min_height": null,
      "min_width": null,
      "object_fit": null,
      "object_position": null,
      "order": null,
      "overflow": null,
      "overflow_x": null,
      "overflow_y": null,
      "padding": null,
      "right": null,
      "top": null,
      "visibility": null,
      "width": null
     }
    },
    "eee20c1ed8d54d5591b5337000e78833": {
     "model_module": "@jupyter-widgets/controls",
     "model_module_version": "1.5.0",
     "model_name": "HBoxModel",
     "state": {
      "_dom_classes": [],
      "_model_module": "@jupyter-widgets/controls",
      "_model_module_version": "1.5.0",
      "_model_name": "HBoxModel",
      "_view_count": null,
      "_view_module": "@jupyter-widgets/controls",
      "_view_module_version": "1.5.0",
      "_view_name": "HBoxView",
      "box_style": "",
      "children": [
       "IPY_MODEL_4bdbf38847eb45f5bba864c7e4e20758",
       "IPY_MODEL_afecc124e82845d480a097d3dca02049",
       "IPY_MODEL_03995790cca9460dafbb61b07ef93ad6"
      ],
      "layout": "IPY_MODEL_f98d69234fd5412b93547c3901bdb259"
     }
    },
    "ef4d30a1b7c049a3bad783a319f9b0cf": {
     "model_module": "@jupyter-widgets/controls",
     "model_module_version": "1.5.0",
     "model_name": "FloatProgressModel",
     "state": {
      "_dom_classes": [],
      "_model_module": "@jupyter-widgets/controls",
      "_model_module_version": "1.5.0",
      "_model_name": "FloatProgressModel",
      "_view_count": null,
      "_view_module": "@jupyter-widgets/controls",
      "_view_module_version": "1.5.0",
      "_view_name": "ProgressView",
      "bar_style": "success",
      "description": "",
      "description_tooltip": null,
      "layout": "IPY_MODEL_5adf5db4c0474e4aa0c93527e764a890",
      "max": 513256494,
      "min": 0,
      "orientation": "horizontal",
      "style": "IPY_MODEL_b8c1d03f743c4f628a046409d9516efb",
      "value": 513256494
     }
    },
    "f8a6c19b4e5c41d08cbbccbab9fb6e93": {
     "model_module": "@jupyter-widgets/controls",
     "model_module_version": "1.5.0",
     "model_name": "DescriptionStyleModel",
     "state": {
      "_model_module": "@jupyter-widgets/controls",
      "_model_module_version": "1.5.0",
      "_model_name": "DescriptionStyleModel",
      "_view_count": null,
      "_view_module": "@jupyter-widgets/base",
      "_view_module_version": "1.2.0",
      "_view_name": "StyleView",
      "description_width": ""
     }
    },
    "f98d69234fd5412b93547c3901bdb259": {
     "model_module": "@jupyter-widgets/base",
     "model_module_version": "1.2.0",
     "model_name": "LayoutModel",
     "state": {
      "_model_module": "@jupyter-widgets/base",
      "_model_module_version": "1.2.0",
      "_model_name": "LayoutModel",
      "_view_count": null,
      "_view_module": "@jupyter-widgets/base",
      "_view_module_version": "1.2.0",
      "_view_name": "LayoutView",
      "align_content": null,
      "align_items": null,
      "align_self": null,
      "border": null,
      "bottom": null,
      "display": null,
      "flex": null,
      "flex_flow": null,
      "grid_area": null,
      "grid_auto_columns": null,
      "grid_auto_flow": null,
      "grid_auto_rows": null,
      "grid_column": null,
      "grid_gap": null,
      "grid_row": null,
      "grid_template_areas": null,
      "grid_template_columns": null,
      "grid_template_rows": null,
      "height": null,
      "justify_content": null,
      "justify_items": null,
      "left": null,
      "margin": null,
      "max_height": null,
      "max_width": null,
      "min_height": null,
      "min_width": null,
      "object_fit": null,
      "object_position": null,
      "order": null,
      "overflow": null,
      "overflow_x": null,
      "overflow_y": null,
      "padding": null,
      "right": null,
      "top": null,
      "visibility": null,
      "width": null
     }
    },
    "fe1ba3f252674f4d9125a96cec63e3b1": {
     "model_module": "@jupyter-widgets/controls",
     "model_module_version": "1.5.0",
     "model_name": "DescriptionStyleModel",
     "state": {
      "_model_module": "@jupyter-widgets/controls",
      "_model_module_version": "1.5.0",
      "_model_name": "DescriptionStyleModel",
      "_view_count": null,
      "_view_module": "@jupyter-widgets/base",
      "_view_module_version": "1.2.0",
      "_view_name": "StyleView",
      "description_width": ""
     }
    }
   }
  }
 },
 "nbformat": 4,
 "nbformat_minor": 0
}
