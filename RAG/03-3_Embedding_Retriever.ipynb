{
 "cells": [
  {
   "cell_type": "markdown",
   "id": "137a1cab",
   "metadata": {},
   "source": [
    "## 임베딩 & 검색"
   ]
  },
  {
   "cell_type": "markdown",
   "id": "ef8e03a5",
   "metadata": {},
   "source": [
    "**Chroma db 검색**\n",
    "| 방식                              | 특징                                   |\n",
    "| ------------------------------- | ------------------------------------ |\n",
    "| `similarity_search`             | 가장 유사한 문서만 반환 (내용 중복 가능성 높음)         |\n",
    "| `max_marginal_relevance_search` | 유사성 + 다양성 고려 (중복 줄이고 다양한 내용 반환)      |\n",
    "| `MultiQueryRetriever`           | LLM이 다양한 형태로 질문을 변형 → 여러 관점에서 포괄적 검색 |\n",
    "\n",
    "1. Similarity Search (유사도 검색) : similarity_search(question, k=2)\n",
    "- 기준: 질문과 가장 유사한 문서들을 찾음\n",
    "- 특징: 코사인 유사도 등으로 순수하게 유사도만 고려\n",
    "- 결과: 비슷한 내용의 문서들이 함께 선택될 수 있음\n",
    "- 장점: 빠르고 정확한 유사도 기반 검색\n",
    "- 단점: 중복된 정보가 많을 수 있음\n",
    "- 특정 주제에 대한 정확한 정보가 필요할 때 사용\n",
    "\n",
    "2. Maximum Marginal Relevance (MMR) : max_marginal_relevance_search(question, k=2, fetch_k=3)\n",
    "\n",
    "- 기준: 유사성 + 다양성을 모두 고려\n",
    "- 과정:\n",
    "    - fetch_k=3개의 유사한 문서를 먼저 찾음\n",
    "    - 그 중에서 서로 다른 정보를 담은 k=2개를 선택\n",
    "- 특징: 중복을 피하고 다양한 관점의 정보 제공\n",
    "- 장점: 더 포괄적이고 다양한 정보\n",
    "- 단점: 계산이 더 복잡함\n",
    "- 주제에 대한 다양한 관점과 포괄적인 정보가 필요할 때 사용\n",
    "\n",
    "3. MultiQueryRetriever\n",
    "- chromadb.as_retriever() → 벡터스토어를 retriever로 변환\n",
    "- MultiQueryRetriever.from_llm() → 하나의 질문을 여러 변형 쿼리로 검색 (누락 줄임)\n",
    "- 따라서 일반 검색보다 더 다양한 문서를 포착할 수 있음"
   ]
  },
  {
   "cell_type": "code",
   "execution_count": null,
   "id": "be620820",
   "metadata": {},
   "outputs": [],
   "source": [
    "# !pip install chromadb"
   ]
  },
  {
   "cell_type": "code",
   "execution_count": 1,
   "id": "9bc13744",
   "metadata": {},
   "outputs": [],
   "source": [
    "# from openai import OpenAI\n",
    "import os\n",
    "from dotenv import load_dotenv\n",
    "\n",
    "# 환경 변수 로드 및 OpenAI 클라이언트 설정\n",
    "load_dotenv()\n",
    "api_key = os.getenv(\"OPENAI_API_KEY\")"
   ]
  },
  {
   "cell_type": "code",
   "execution_count": 2,
   "id": "3cef3a24-887d-43a2-866a-3cef14c58526",
   "metadata": {},
   "outputs": [
    {
     "name": "stderr",
     "output_type": "stream",
     "text": [
      "/opt/anaconda3/envs/llm_env/lib/python3.10/site-packages/requests/__init__.py:86: RequestsDependencyWarning: Unable to find acceptable character detection dependency (chardet or charset_normalizer).\n",
      "  warnings.warn(\n"
     ]
    }
   ],
   "source": [
    "from langchain.vectorstores import Chroma\n",
    "from langchain_openai import OpenAIEmbeddings\n",
    "\n",
    "# 1. OpenAI 임베딩 모델 초기화\n",
    "embedding = OpenAIEmbeddings(model=\"text-embedding-ada-002\", api_key=api_key)  # ... code here"
   ]
  },
  {
   "cell_type": "markdown",
   "id": "c3b5397e",
   "metadata": {},
   "source": [
    "```Markdown\n",
    "texts = [\n",
    "    # 생성형 AI 개념 설명\n",
    "    \"생성형 AI는 기존 데이터를 학습하여 새로운 콘텐츠를 자동으로 생성하는 인공지능 기술이다.\",\n",
    "    \n",
    "    # 생성형 AI의 정의 강조\n",
    "    \"생성형 인공지능이란, 사용자의 명령에 따라 텍스트, 이미지, 음성 등을 창조해내는 모델이다.\",\n",
    "    \n",
    "    # 생성형 AI와 전통적 AI의 차이\n",
    "    \"전통적인 AI는 규칙 기반으로 작동하지만, 생성형 AI는 학습한 패턴을 기반으로 창의적인 출력을 생성한다.\",\n",
    "    \n",
    "    # 생성형 AI 활용 예시\n",
    "    \"생성형 AI는 마케팅 콘텐츠 제작, 음악 생성, 코딩 보조 등 다양한 분야에 활용되고 있다.\",\n",
    "    \n",
    "    # ChatGPT에 초점\n",
    "    \"ChatGPT는 생성형 AI 모델 중 하나로, 대화형 응답을 생성하는 데 최적화되어 있다.\",\n",
    "    \n",
    "    # 이미지 생성 중심\n",
    "    \"이미지 생성 AI인 DALL·E는 텍스트 설명을 바탕으로 고해상도 이미지를 생성한다.\",\n",
    "    \n",
    "    # 생성형 AI 시장 동향\n",
    "    \"2023년 이후 생성형 AI 시장은 급성장하고 있으며, 글로벌 기업들이 기술 확보에 나서고 있다.\",\n",
    "    \n",
    "    # 사회적 영향\n",
    "    \"생성형 AI는 창작의 패러다임을 바꾸며, 윤리적 문제나 저작권 이슈도 함께 제기되고 있다.\",\n",
    "    \n",
    "    # 대규모 언어 모델의 기반 기술\n",
    "    \"생성형 AI는 트랜스포머 기반의 대규모 언어 모델(LLM)을 핵심 기술로 삼고 있다.\",\n",
    "    \n",
    "    # 비슷하지만 살짝 다른 주제 (비생성형 AI)\n",
    "    \"분류 모델, 추천 시스템 등은 생성형 AI가 아닌 전통적인 분석형 AI로 분류된다.\"\n",
    "]\n",
    "```"
   ]
  },
  {
   "cell_type": "code",
   "execution_count": 3,
   "id": "6b85eabd-e625-47fd-8e54-e4962dd59339",
   "metadata": {},
   "outputs": [],
   "source": [
    "# 2. 검색할 텍스트 데이터 준비 (5개의 생성형 AI 관련 문서)\n",
    "texts = [\n",
    "    \"생성형 AI는 기존 데이터를 학습하여 새로운 콘텐츠를 자동으로 생성하는 인공지능 기술이다.\",\n",
    "    \"생성형 인공지능이란, 사용자의 명령에 따라 텍스트, 이미지, 음성 등을 창조해내는 모델이다.\",\n",
    "    \"전통적인 AI는 규칙 기반으로 작동하지만, 생성형 AI는 학습한 패턴을 기반으로 창의적인 출력을 생성한다.\",\n",
    "    \"생성형 AI는 마케팅 콘텐츠 제작, 음악 생성, 코딩 보조 등 다양한 분야에 활용되고 있다.\",\n",
    "    \"ChatGPT는 생성형 AI 모델 중 하나로, 대화형 응답을 생성하는 데 최적화되어 있다.\",\n",
    "    \"이미지 생성 AI인 DALL·E는 텍스트 설명을 바탕으로 고해상도 이미지를 생성한다.\",\n",
    "    \"2023년 이후 생성형 AI 시장은 급성장하고 있으며, 글로벌 기업들이 기술 확보에 나서고 있다.\",\n",
    "    \"생성형 AI는 창작의 패러다임을 바꾸며, 윤리적 문제나 저작권 이슈도 함께 제기되고 있다.\",\n",
    "    \"생성형 AI는 트랜스포머 기반의 대규모 언어 모델(LLM)을 핵심 기술로 삼고 있다.\",\n",
    "    \"분류 모델, 추천 시스템 등은 생성형 AI가 아닌 전통적인 분석형 AI로 분류된다.\"\n",
    "]\n"
   ]
  },
  {
   "cell_type": "code",
   "execution_count": 4,
   "id": "24476fb3-c6b8-4ffa-9e47-3ae6b3d8e50c",
   "metadata": {},
   "outputs": [],
   "source": [
    "# 3. Chroma 벡터 데이터베이스 생성 (텍스트를 임베딩으로 변환하여 저장)\n",
    "chromadb = Chroma.from_texts(texts=texts, embedding=embedding)  # ... code here"
   ]
  },
  {
   "cell_type": "code",
   "execution_count": 5,
   "id": "2a466c17",
   "metadata": {},
   "outputs": [],
   "source": [
    "question = \"생성형 AI에 대해 언급된 내용은?\"\n",
    "# question = \"생성형 AI 핵심 기능은?\""
   ]
  },
  {
   "cell_type": "code",
   "execution_count": 6,
   "id": "a5b193fd",
   "metadata": {},
   "outputs": [
    {
     "name": "stdout",
     "output_type": "stream",
     "text": [
      "생성형 AI는 마케팅 콘텐츠 제작, 음악 생성, 코딩 보조 등 다양한 분야에 활용되고 있다.\n",
      "\n",
      "\n",
      " 생성형 인공지능이란, 사용자의 명령에 따라 텍스트, 이미지, 음성 등을 창조해내는 모델이다.\n",
      "\n",
      "\n",
      " 생성형 AI는 트랜스포머 기반의 대규모 언어 모델(LLM)을 핵심 기술로 삼고 있다.\n"
     ]
    }
   ],
   "source": [
    "# 4. MMR 검색 : k=2, fetech_k=3\n",
    "docs_mmr = chromadb.max_marginal_relevance_search(query=question, k=3, fetch_k=5)  # ... code here\n",
    "print(docs_mmr[0].page_content[:100])\n",
    "print('\\n\\n', docs_mmr[1].page_content[:100])\n",
    "print('\\n\\n', docs_mmr[2].page_content[:100])"
   ]
  },
  {
   "cell_type": "code",
   "execution_count": 8,
   "id": "fca86029-a56e-4d38-88ef-c8b122660c1f",
   "metadata": {},
   "outputs": [
    {
     "name": "stdout",
     "output_type": "stream",
     "text": [
      "생성형 AI는 마케팅 콘텐츠 제작, 음악 생성, 코딩 보조 등 다양한 분야에 활용되고 있다.\n",
      "\n",
      " 생성형 AI는 기존 데이터를 학습하여 새로운 콘텐츠를 자동으로 생성하는 인공지능 기술이다.\n",
      "\n",
      " 생성형 인공지능이란, 사용자의 명령에 따라 텍스트, 이미지, 음성 등을 창조해내는 모델이다.\n"
     ]
    }
   ],
   "source": [
    "# 5. 유사도 검색 (Similarity Search) - 가장 유사한 문서 2개 반환\n",
    "docs_ss = chromadb.similarity_search(query=question,k=3)\n",
    "print(docs_ss[0].page_content[:100])\n",
    "print('\\n', docs_ss[1].page_content[:100])\n",
    "print('\\n', docs_ss[2].page_content[:100])"
   ]
  },
  {
   "cell_type": "code",
   "execution_count": 9,
   "id": "b77cbc6a-5cf9-46c7-8584-5332e823f4ce",
   "metadata": {},
   "outputs": [
    {
     "name": "stdout",
     "output_type": "stream",
     "text": [
      "생성형 AI는 마케팅 콘텐츠 제작, 음악 생성, 코딩 보조 등 다양한 분야에 활용되고 있다.\n",
      "\n",
      " 분류 모델, 추천 시스템 등은 생성형 AI가 아닌 전통적인 분석형 AI로 분류된다.\n",
      "\n",
      " 이미지 생성 AI인 DALL·E는 텍스트 설명을 바탕으로 고해상도 이미지를 생성한다.\n"
     ]
    }
   ],
   "source": [
    "# 6. 최대 한계 관련성 검색 (MMR) - 유사성과 다양성을 고려한 2개 반환\n",
    "docs_mmr1 = chromadb.max_marginal_relevance_search(query=question,k=3)\n",
    "print(docs_mmr1[0].page_content[:100])\n",
    "print('\\n',docs_mmr1[1].page_content[:100])\n",
    "print('\\n',docs_mmr1[2].page_content[:100])"
   ]
  },
  {
   "cell_type": "code",
   "execution_count": 10,
   "id": "97b8f54a",
   "metadata": {},
   "outputs": [
    {
     "name": "stdout",
     "output_type": "stream",
     "text": [
      "[MultiQueryRetriever 결과]\n",
      "[1] 생성형 인공지능이란, 사용자의 명령에 따라 텍스트, 이미지, 음성 등을 창조해내는 모델이다.\n",
      "[2] 생성형 AI는 마케팅 콘텐츠 제작, 음악 생성, 코딩 보조 등 다양한 분야에 활용되고 있다.\n",
      "[3] 생성형 AI는 기존 데이터를 학습하여 새로운 콘텐츠를 자동으로 생성하는 인공지능 기술이다.\n",
      "[4] 생성형 AI는 트랜스포머 기반의 대규모 언어 모델(LLM)을 핵심 기술로 삼고 있다.\n",
      "[5] 생성형 AI는 창작의 패러다임을 바꾸며, 윤리적 문제나 저작권 이슈도 함께 제기되고 있다.\n"
     ]
    }
   ],
   "source": [
    "# 7. MultiQueryRetriever 검색\n",
    "# LLM 초기화\n",
    "\n",
    "from langchain.retrievers.multi_query import MultiQueryRetriever\n",
    "from langchain_openai import ChatOpenAI\n",
    "\n",
    "llm = ChatOpenAI(model=\"gpt-4o\", temperature=0, api_key=api_key)\n",
    "\n",
    "# MultiQueryRetriever 구성\n",
    "retriever_from_llm = MultiQueryRetriever.from_llm(\n",
    "    retriever=chromadb.as_retriever(),\n",
    "    llm=llm,\n",
    ")\n",
    "\n",
    "# 검색 수행\n",
    "docs_multi = retriever_from_llm.invoke({\"query\": question})\n",
    "print(\"[MultiQueryRetriever 결과]\")\n",
    "for i, doc in enumerate(docs_multi):\n",
    "    print(f\"[{i+1}] {doc.page_content[:100]}\")"
   ]
  },
  {
   "cell_type": "code",
   "execution_count": 12,
   "id": "27fb8785",
   "metadata": {},
   "outputs": [
    {
     "ename": "ValidationError",
     "evalue": "2 validation errors for RetrievalQA\nretriever\n  Field required [type=missing, input_value={'combine_documents_chain...source_documents': True}, input_type=dict]\n    For further information visit https://errors.pydantic.dev/2.11/v/missing\nretreiver\n  Extra inputs are not permitted [type=extra_forbidden, input_value=VectorStoreRetriever(tags... search_kwargs={'k': 3}), input_type=VectorStoreRetriever]\n    For further information visit https://errors.pydantic.dev/2.11/v/extra_forbidden",
     "output_type": "error",
     "traceback": [
      "\u001b[0;31m---------------------------------------------------------------------------\u001b[0m",
      "\u001b[0;31mValidationError\u001b[0m                           Traceback (most recent call last)",
      "Cell \u001b[0;32mIn[12], line 3\u001b[0m\n\u001b[1;32m      1\u001b[0m \u001b[38;5;28;01mfrom\u001b[39;00m\u001b[38;5;250m \u001b[39m\u001b[38;5;21;01mlangchain\u001b[39;00m\u001b[38;5;21;01m.\u001b[39;00m\u001b[38;5;21;01mchains\u001b[39;00m\u001b[38;5;250m \u001b[39m\u001b[38;5;28;01mimport\u001b[39;00m RetrievalQA       \u001b[38;5;66;03m# 질의응답\u001b[39;00m\n\u001b[0;32m----> 3\u001b[0m qa_chain \u001b[38;5;241m=\u001b[39m \u001b[43mRetrievalQA\u001b[49m\u001b[38;5;241;43m.\u001b[39;49m\u001b[43mfrom_chain_type\u001b[49m\u001b[43m(\u001b[49m\n\u001b[1;32m      4\u001b[0m \u001b[43m    \u001b[49m\u001b[43mllm\u001b[49m\u001b[43m,\u001b[49m\n\u001b[1;32m      5\u001b[0m \u001b[43m    \u001b[49m\u001b[43mretreiver\u001b[49m\u001b[43m \u001b[49m\u001b[38;5;241;43m=\u001b[39;49m\u001b[43m \u001b[49m\u001b[43mchromadb\u001b[49m\u001b[38;5;241;43m.\u001b[39;49m\u001b[43mas_retriever\u001b[49m\u001b[43m(\u001b[49m\u001b[43msearch_kwargs\u001b[49m\u001b[43m \u001b[49m\u001b[38;5;241;43m=\u001b[39;49m\u001b[43m \u001b[49m\u001b[43m{\u001b[49m\u001b[38;5;124;43m\"\u001b[39;49m\u001b[38;5;124;43mk\u001b[39;49m\u001b[38;5;124;43m\"\u001b[39;49m\u001b[43m:\u001b[49m\u001b[43m \u001b[49m\u001b[38;5;241;43m3\u001b[39;49m\u001b[43m}\u001b[49m\u001b[43m)\u001b[49m\u001b[43m,\u001b[49m\n\u001b[1;32m      6\u001b[0m \u001b[43m    \u001b[49m\u001b[43mreturn_source_documents\u001b[49m\u001b[43m \u001b[49m\u001b[38;5;241;43m=\u001b[39;49m\u001b[43m \u001b[49m\u001b[38;5;28;43;01mTrue\u001b[39;49;00m\u001b[43m,\u001b[49m\n\u001b[1;32m      7\u001b[0m \u001b[43m)\u001b[49m\n\u001b[1;32m      9\u001b[0m result \u001b[38;5;241m=\u001b[39m qa_chain\u001b[38;5;241m.\u001b[39minvoke({\u001b[38;5;124m\"\u001b[39m\u001b[38;5;124mquery\u001b[39m\u001b[38;5;124m\"\u001b[39m: question})\n\u001b[1;32m     10\u001b[0m \u001b[38;5;28mprint\u001b[39m(result)\n",
      "File \u001b[0;32m/opt/anaconda3/envs/llm_env/lib/python3.10/site-packages/langchain/chains/retrieval_qa/base.py:123\u001b[0m, in \u001b[0;36mBaseRetrievalQA.from_chain_type\u001b[0;34m(cls, llm, chain_type, chain_type_kwargs, **kwargs)\u001b[0m\n\u001b[1;32m    117\u001b[0m _chain_type_kwargs \u001b[38;5;241m=\u001b[39m chain_type_kwargs \u001b[38;5;129;01mor\u001b[39;00m {}\n\u001b[1;32m    118\u001b[0m combine_documents_chain \u001b[38;5;241m=\u001b[39m load_qa_chain(\n\u001b[1;32m    119\u001b[0m     llm,\n\u001b[1;32m    120\u001b[0m     chain_type\u001b[38;5;241m=\u001b[39mchain_type,\n\u001b[1;32m    121\u001b[0m     \u001b[38;5;241m*\u001b[39m\u001b[38;5;241m*\u001b[39m_chain_type_kwargs,\n\u001b[1;32m    122\u001b[0m )\n\u001b[0;32m--> 123\u001b[0m \u001b[38;5;28;01mreturn\u001b[39;00m \u001b[38;5;28;43mcls\u001b[39;49m\u001b[43m(\u001b[49m\u001b[43mcombine_documents_chain\u001b[49m\u001b[38;5;241;43m=\u001b[39;49m\u001b[43mcombine_documents_chain\u001b[49m\u001b[43m,\u001b[49m\u001b[43m \u001b[49m\u001b[38;5;241;43m*\u001b[39;49m\u001b[38;5;241;43m*\u001b[39;49m\u001b[43mkwargs\u001b[49m\u001b[43m)\u001b[49m\n",
      "File \u001b[0;32m/opt/anaconda3/envs/llm_env/lib/python3.10/site-packages/langchain_core/_api/deprecation.py:223\u001b[0m, in \u001b[0;36mdeprecated.<locals>.deprecate.<locals>.finalize.<locals>.warn_if_direct_instance\u001b[0;34m(self, *args, **kwargs)\u001b[0m\n\u001b[1;32m    221\u001b[0m     warned \u001b[38;5;241m=\u001b[39m \u001b[38;5;28;01mTrue\u001b[39;00m\n\u001b[1;32m    222\u001b[0m     emit_warning()\n\u001b[0;32m--> 223\u001b[0m \u001b[38;5;28;01mreturn\u001b[39;00m \u001b[43mwrapped\u001b[49m\u001b[43m(\u001b[49m\u001b[38;5;28;43mself\u001b[39;49m\u001b[43m,\u001b[49m\u001b[43m \u001b[49m\u001b[38;5;241;43m*\u001b[39;49m\u001b[43margs\u001b[49m\u001b[43m,\u001b[49m\u001b[43m \u001b[49m\u001b[38;5;241;43m*\u001b[39;49m\u001b[38;5;241;43m*\u001b[39;49m\u001b[43mkwargs\u001b[49m\u001b[43m)\u001b[49m\n",
      "File \u001b[0;32m/opt/anaconda3/envs/llm_env/lib/python3.10/site-packages/langchain_core/_api/deprecation.py:223\u001b[0m, in \u001b[0;36mdeprecated.<locals>.deprecate.<locals>.finalize.<locals>.warn_if_direct_instance\u001b[0;34m(self, *args, **kwargs)\u001b[0m\n\u001b[1;32m    221\u001b[0m     warned \u001b[38;5;241m=\u001b[39m \u001b[38;5;28;01mTrue\u001b[39;00m\n\u001b[1;32m    222\u001b[0m     emit_warning()\n\u001b[0;32m--> 223\u001b[0m \u001b[38;5;28;01mreturn\u001b[39;00m \u001b[43mwrapped\u001b[49m\u001b[43m(\u001b[49m\u001b[38;5;28;43mself\u001b[39;49m\u001b[43m,\u001b[49m\u001b[43m \u001b[49m\u001b[38;5;241;43m*\u001b[39;49m\u001b[43margs\u001b[49m\u001b[43m,\u001b[49m\u001b[43m \u001b[49m\u001b[38;5;241;43m*\u001b[39;49m\u001b[38;5;241;43m*\u001b[39;49m\u001b[43mkwargs\u001b[49m\u001b[43m)\u001b[49m\n",
      "File \u001b[0;32m/opt/anaconda3/envs/llm_env/lib/python3.10/site-packages/langchain_core/load/serializable.py:130\u001b[0m, in \u001b[0;36mSerializable.__init__\u001b[0;34m(self, *args, **kwargs)\u001b[0m\n\u001b[1;32m    128\u001b[0m \u001b[38;5;28;01mdef\u001b[39;00m\u001b[38;5;250m \u001b[39m\u001b[38;5;21m__init__\u001b[39m(\u001b[38;5;28mself\u001b[39m, \u001b[38;5;241m*\u001b[39margs: Any, \u001b[38;5;241m*\u001b[39m\u001b[38;5;241m*\u001b[39mkwargs: Any) \u001b[38;5;241m-\u001b[39m\u001b[38;5;241m>\u001b[39m \u001b[38;5;28;01mNone\u001b[39;00m:\n\u001b[1;32m    129\u001b[0m \u001b[38;5;250m    \u001b[39m\u001b[38;5;124;03m\"\"\"\"\"\"\u001b[39;00m  \u001b[38;5;66;03m# noqa: D419\u001b[39;00m\n\u001b[0;32m--> 130\u001b[0m     \u001b[38;5;28;43msuper\u001b[39;49m\u001b[43m(\u001b[49m\u001b[43m)\u001b[49m\u001b[38;5;241;43m.\u001b[39;49m\u001b[38;5;21;43m__init__\u001b[39;49m\u001b[43m(\u001b[49m\u001b[38;5;241;43m*\u001b[39;49m\u001b[43margs\u001b[49m\u001b[43m,\u001b[49m\u001b[43m \u001b[49m\u001b[38;5;241;43m*\u001b[39;49m\u001b[38;5;241;43m*\u001b[39;49m\u001b[43mkwargs\u001b[49m\u001b[43m)\u001b[49m\n",
      "File \u001b[0;32m/opt/anaconda3/envs/llm_env/lib/python3.10/site-packages/pydantic/main.py:253\u001b[0m, in \u001b[0;36mBaseModel.__init__\u001b[0;34m(self, **data)\u001b[0m\n\u001b[1;32m    251\u001b[0m \u001b[38;5;66;03m# `__tracebackhide__` tells pytest and some other tools to omit this function from tracebacks\u001b[39;00m\n\u001b[1;32m    252\u001b[0m __tracebackhide__ \u001b[38;5;241m=\u001b[39m \u001b[38;5;28;01mTrue\u001b[39;00m\n\u001b[0;32m--> 253\u001b[0m validated_self \u001b[38;5;241m=\u001b[39m \u001b[38;5;28;43mself\u001b[39;49m\u001b[38;5;241;43m.\u001b[39;49m\u001b[43m__pydantic_validator__\u001b[49m\u001b[38;5;241;43m.\u001b[39;49m\u001b[43mvalidate_python\u001b[49m\u001b[43m(\u001b[49m\u001b[43mdata\u001b[49m\u001b[43m,\u001b[49m\u001b[43m \u001b[49m\u001b[43mself_instance\u001b[49m\u001b[38;5;241;43m=\u001b[39;49m\u001b[38;5;28;43mself\u001b[39;49m\u001b[43m)\u001b[49m\n\u001b[1;32m    254\u001b[0m \u001b[38;5;28;01mif\u001b[39;00m \u001b[38;5;28mself\u001b[39m \u001b[38;5;129;01mis\u001b[39;00m \u001b[38;5;129;01mnot\u001b[39;00m validated_self:\n\u001b[1;32m    255\u001b[0m     warnings\u001b[38;5;241m.\u001b[39mwarn(\n\u001b[1;32m    256\u001b[0m         \u001b[38;5;124m'\u001b[39m\u001b[38;5;124mA custom validator is returning a value other than `self`.\u001b[39m\u001b[38;5;130;01m\\n\u001b[39;00m\u001b[38;5;124m'\u001b[39m\n\u001b[1;32m    257\u001b[0m         \u001b[38;5;124m\"\u001b[39m\u001b[38;5;124mReturning anything other than `self` from a top level model validator isn\u001b[39m\u001b[38;5;124m'\u001b[39m\u001b[38;5;124mt supported when validating via `__init__`.\u001b[39m\u001b[38;5;130;01m\\n\u001b[39;00m\u001b[38;5;124m\"\u001b[39m\n\u001b[1;32m    258\u001b[0m         \u001b[38;5;124m'\u001b[39m\u001b[38;5;124mSee the `model_validator` docs (https://docs.pydantic.dev/latest/concepts/validators/#model-validators) for more details.\u001b[39m\u001b[38;5;124m'\u001b[39m,\n\u001b[1;32m    259\u001b[0m         stacklevel\u001b[38;5;241m=\u001b[39m\u001b[38;5;241m2\u001b[39m,\n\u001b[1;32m    260\u001b[0m     )\n",
      "\u001b[0;31mValidationError\u001b[0m: 2 validation errors for RetrievalQA\nretriever\n  Field required [type=missing, input_value={'combine_documents_chain...source_documents': True}, input_type=dict]\n    For further information visit https://errors.pydantic.dev/2.11/v/missing\nretreiver\n  Extra inputs are not permitted [type=extra_forbidden, input_value=VectorStoreRetriever(tags... search_kwargs={'k': 3}), input_type=VectorStoreRetriever]\n    For further information visit https://errors.pydantic.dev/2.11/v/extra_forbidden"
     ]
    }
   ],
   "source": [
    "from langchain.chains import RetrievalQA       # 질의응답\n",
    "\n",
    "qa_chain = RetrievalQA.from_chain_type(\n",
    "    llm,\n",
    "    retreiver = chromadb.as_retriever(search_kwargs = {\"k\": 3}),\n",
    "    return_source_documents = True,\n",
    ")\n",
    "\n",
    "result = qa_chain.invoke({\"query\": question})\n",
    "print(result)\n",
    "\n",
    "for doc in result['source_documents']:\n",
    "    print(doc.page_content)"
   ]
  }
 ],
 "metadata": {
  "kernelspec": {
   "display_name": "llm_env",
   "language": "python",
   "name": "python3"
  },
  "language_info": {
   "codemirror_mode": {
    "name": "ipython",
    "version": 3
   },
   "file_extension": ".py",
   "mimetype": "text/x-python",
   "name": "python",
   "nbconvert_exporter": "python",
   "pygments_lexer": "ipython3",
   "version": "3.10.18"
  }
 },
 "nbformat": 4,
 "nbformat_minor": 5
}
