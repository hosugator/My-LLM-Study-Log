{
 "cells": [
  {
   "cell_type": "markdown",
   "id": "a441889e",
   "metadata": {},
   "source": [
    "## Faiss(파이스)\n",
    "\n",
    "- 대용량 데이터 (수백만개 벡터)\n",
    "- 최고 성능이 필요한 경우\n",
    "- 메모리 기반 빠른 검색\n",
    "- 임시 작업용"
   ]
  },
  {
   "cell_type": "code",
   "execution_count": null,
   "id": "5d9691f0",
   "metadata": {},
   "outputs": [],
   "source": [
    "# !pip install faiss-cpu"
   ]
  },
  {
   "cell_type": "code",
   "execution_count": null,
   "id": "dcb55ef4-021e-43a0-bd70-71b7f1bdbd56",
   "metadata": {},
   "outputs": [
    {
     "name": "stderr",
     "output_type": "stream",
     "text": [
      "/opt/anaconda3/envs/llm_env/lib/python3.10/site-packages/requests/__init__.py:86: RequestsDependencyWarning: Unable to find acceptable character detection dependency (chardet or charset_normalizer).\n",
      "  warnings.warn(\n"
     ]
    }
   ],
   "source": [
    "from langchain.text_splitter import CharacterTextSplitter\n",
    "from langchain.embeddings.openai import OpenAIEmbeddings\n",
    "from langchain.vectorstores import FAISS\n",
    "from langchain_openai import ChatOpenAI\n",
    "from langchain.chains.question_answering import load_qa_chain\n",
    "from langchain_openai import OpenAI\n",
    "from langchain.callbacks import get_openai_callback\n",
    "from IPython.display import JSON\n",
    "\n",
    "from dotenv import load_dotenv\n",
    "import os\n",
    "\n",
    "load_dotenv()\n",
    "api_key= os.getenv('OPENAI_API_KEY')\n"
   ]
  },
  {
   "cell_type": "code",
   "execution_count": 3,
   "id": "090a0a2b-d4a8-4776-b64c-5b1be24bbd97",
   "metadata": {},
   "outputs": [
    {
     "name": "stdout",
     "output_type": "stream",
     "text": [
      "['생성형 AI는 기존 데이터를 학습하여 새로운 콘텐츠를 자동으로 생성하는 인공지능 기술이다.\\n생성형 인공지능이란, 사용자의 명령에 따라 텍스트, 이미지, 음성 등을 창조해내는 모델이다.\\n전통적인 AI는 규칙 기반으로 작동하지만, 생성형 AI는 학습한 패턴을 기반으로 창의적인 출력을 생성한다.\\n생성형 AI는 마케팅 콘텐츠 제작, 음악 생성, 코딩 보조 등 다양한 분야에 활용되고 있다.\\nChatGPT는 생성형 AI 모델 중 하나로, 대화형 응답을 생성하는 데 최적화되어 있다.', 'ChatGPT는 생성형 AI 모델 중 하나로, 대화형 응답을 생성하는 데 최적화되어 있다.\\n이미지 생성 AI인 DALL·E는 텍스트 설명을 바탕으로 고해상도 이미지를 생성한다.\\n2023년 이후 생성형 AI 시장은 급성장하고 있으며, 글로벌 기업들이 기술 확보에 나서고 있다.\\n생성형 AI는 창작의 패러다임을 바꾸며, 윤리적 문제나 저작권 이슈도 함께 제기되고 있다.\\n생성형 AI는 트랜스포머 기반의 대규모 언어 모델(LLM)을 핵심 기술로 삼고 있다.\\n분류 모델, 추천 시스템 등은 생성형 AI가 아닌 전통적인 분석형 AI로 분류된다.']\n"
     ]
    }
   ],
   "source": [
    "text = \"\"\"생성형 인공지능 또는 생성형 AI는 프롬프트에 대응하여 텍스트, 이미지, 기타 미디어를 생성할 수 있는 일종의 인공지능 시스템이다.\n",
    "단순히 기존 데이터를 분석하는 것이 아닌, 새로운 콘텐츠를 만드는 데 초점을 맞춘 인공지능 분야를 말한다. 2022년경부터 본격적으로 유명해지기 시작했다.\n",
    "데이터 원본을 통한 학습으로 소설, 이미지, 비디오, 코딩, 음악, 미술 등 다양한 콘텐츠 생성에 이용된다. 한국에서는 2022년 Novel AI 등, 그림 인공지능의 등장으로 주목도가 높아졌으며, 해외에서는 미드저니, 챗GPT등 여러 모델을 잇달아 공개하면서 화제의 중심이 되었다.\n",
    "보통 딥러닝 인공지능은 학습 혹은 결과 출력 전 원본 자료를 배열 자료형[2] 숫자 데이터로 변환하는 인코딩 과정이 중요한데, 생성 AI의 경우 인공지능의 출력 데이터를 역으로 그림, 글 등의 원하는 형태로 변환시켜주는 디코딩 과정 또한 필요하다.\n",
    "사실상 인공지능의 대중화를 이끈 기술로써, 해당 기술이 인공지능에 대한 사람들의 전반적인 인식을 매우 크게 바꿔놨다고 해도 과언이 아니다.\n",
    "\"\"\"\n",
    "\n",
    "texts = [\n",
    "    \"생성형 AI는 기존 데이터를 학습하여 새로운 콘텐츠를 자동으로 생성하는 인공지능 기술이다.\",\n",
    "    \"생성형 인공지능이란, 사용자의 명령에 따라 텍스트, 이미지, 음성 등을 창조해내는 모델이다.\",\n",
    "    \"전통적인 AI는 규칙 기반으로 작동하지만, 생성형 AI는 학습한 패턴을 기반으로 창의적인 출력을 생성한다.\",\n",
    "    \"생성형 AI는 마케팅 콘텐츠 제작, 음악 생성, 코딩 보조 등 다양한 분야에 활용되고 있다.\",\n",
    "    \"ChatGPT는 생성형 AI 모델 중 하나로, 대화형 응답을 생성하는 데 최적화되어 있다.\",\n",
    "    \"이미지 생성 AI인 DALL·E는 텍스트 설명을 바탕으로 고해상도 이미지를 생성한다.\",\n",
    "    \"2023년 이후 생성형 AI 시장은 급성장하고 있으며, 글로벌 기업들이 기술 확보에 나서고 있다.\",\n",
    "    \"생성형 AI는 창작의 패러다임을 바꾸며, 윤리적 문제나 저작권 이슈도 함께 제기되고 있다.\",\n",
    "    \"생성형 AI는 트랜스포머 기반의 대규모 언어 모델(LLM)을 핵심 기술로 삼고 있다.\",\n",
    "    \"분류 모델, 추천 시스템 등은 생성형 AI가 아닌 전통적인 분석형 AI로 분류된다.\",\n",
    "]\n",
    "\n",
    "# 리스트를 하나의 문자열로 결합\n",
    "full_text = \"\\n\".join(texts)\n",
    "\n",
    "# CharacterTextSplitter을 이용한 청킹\n",
    "splitter = CharacterTextSplitter(\n",
    "    separator=\"\\n\", chunk_size=300, chunk_overlap=50, length_function=len\n",
    ")\n",
    "\n",
    "# 주어진 문장 청킹\n",
    "chunks = splitter.split_text(full_text)\n",
    "# chunks = splitter.split_text(text)\n",
    "print(chunks)"
   ]
  },
  {
   "cell_type": "code",
   "execution_count": 4,
   "id": "a54163f4-d873-439d-a58d-940d26f3b026",
   "metadata": {},
   "outputs": [
    {
     "name": "stderr",
     "output_type": "stream",
     "text": [
      "/var/folders/v9/qpg5js816p79wmppzgfqcz9w0000gn/T/ipykernel_37576/2615808152.py:2: LangChainDeprecationWarning: The class `OpenAIEmbeddings` was deprecated in LangChain 0.0.9 and will be removed in 1.0. An updated version of the class exists in the :class:`~langchain-openai package and should be used instead. To use it run `pip install -U :class:`~langchain-openai` and import as `from :class:`~langchain_openai import OpenAIEmbeddings``.\n",
      "  embeddings = OpenAIEmbeddings(model=\"text-embedding-ada-002\", api_key=api_key)\n"
     ]
    }
   ],
   "source": [
    "# 임베딩 모델\n",
    "embeddings = OpenAIEmbeddings(model=\"text-embedding-ada-002\", api_key=api_key)\n",
    "\n",
    "# 단순 텍스트 배열 (strings) 임베딩을 FAISS FAISS(Vector Store)에 저장\n",
    "faiss_store = FAISS.from_texts(chunks, embeddings)  # 문자열 리스트"
   ]
  },
  {
   "cell_type": "code",
   "execution_count": 5,
   "id": "a79db0b2-1ff6-4950-bfbd-bce74653e74e",
   "metadata": {},
   "outputs": [
    {
     "name": "stdout",
     "output_type": "stream",
     "text": [
      "<langchain_community.vectorstores.faiss.FAISS object at 0x137d4c250>\n"
     ]
    }
   ],
   "source": [
    "print(faiss_store)\n",
    "\n",
    "# 기본이 메모리 저장됨, 수동 저장 필요\n",
    "faiss_store.save_local(\"./faiss_backup\")"
   ]
  },
  {
   "cell_type": "code",
   "execution_count": null,
   "id": "78e4d3f5-dcd3-4d84-9c8d-96eaf344a8ec",
   "metadata": {},
   "outputs": [],
   "source": [
    "question = \"생성형 AI란?\"\n",
    "references = faiss_store.similarity_search(question)"
   ]
  },
  {
   "cell_type": "markdown",
   "id": "9184328a",
   "metadata": {},
   "source": [
    "- chain_type\n",
    "    - stuff: 문서가 짧거나 3~4개 이하일 때 적합\n",
    "    - map_reduce, refine: 문서가 많거나 길 때\n",
    "    - map_rerank: **정확성(precision)**이 중요할 때\n",
    "\n",
    "    ```Markdown\n",
    "    | chain_type    | 설명                                                           |\n",
    "    | -------------- | ------------------------------------------------------------- |\n",
    "    | `\"stuff\"`      | 모든 문서를 한 번에 붙여서 질문과 함께 LLM에 전달 (**가장 단순하고 빠름**)          |\n",
    "    | `\"map_reduce\"` | 각 문서에 대해 개별적으로 응답 생성 → 요약 (Map 단계), 전체 요약 생성 (Reduce 단계) |\n",
    "    | `\"refine\"`     | 첫 문서로 초기 답 생성 → 다음 문서를 순차적으로 읽으며 답을 점점 보완                |\n",
    "    | `\"map_rerank\"` | 문서마다 답과 점수를 생성 → 가장 높은 점수의 응답 선택                         |\n",
    "    ```"
   ]
  },
  {
   "cell_type": "code",
   "execution_count": 1,
   "id": "9206f100-78b6-4461-8add-bdd06fdcf7f2",
   "metadata": {},
   "outputs": [
    {
     "ename": "NameError",
     "evalue": "name 'ChatOpenAI' is not defined",
     "output_type": "error",
     "traceback": [
      "\u001b[31m---------------------------------------------------------------------------\u001b[39m",
      "\u001b[31mNameError\u001b[39m                                 Traceback (most recent call last)",
      "\u001b[36mCell\u001b[39m\u001b[36m \u001b[39m\u001b[32mIn[1]\u001b[39m\u001b[32m, line 1\u001b[39m\n\u001b[32m----> \u001b[39m\u001b[32m1\u001b[39m llm = \u001b[43mChatOpenAI\u001b[49m(model=\u001b[33m\"\u001b[39m\u001b[33mgpt-3.5-turbo\u001b[39m\u001b[33m\"\u001b[39m, api_key=api_key)\n\u001b[32m      3\u001b[39m chain = load_qa_chain(llm, chain_type=\u001b[33m\"\u001b[39m\u001b[33mstuff\u001b[39m\u001b[33m\"\u001b[39m) \u001b[38;5;66;03m#Q&A Interface, 하지만 모든 document를 가져온다\u001b[39;00m\n\u001b[32m      4\u001b[39m response = chain.run(input_documents=references, question=question)\n",
      "\u001b[31mNameError\u001b[39m: name 'ChatOpenAI' is not defined"
     ]
    }
   ],
   "source": [
    "llm = ChatOpenAI(model=\"gpt-3.5-turbo\", api_key=api_key)\n",
    "\n",
    "chain = load_qa_chain(llm, chain_type=\"stuff\") #Q&A Interface, 하지만 모든 document를 가져온다\n",
    "response = chain.run(input_documents=references, question=question)\n",
    "print(response)"
   ]
  },
  {
   "cell_type": "code",
   "execution_count": null,
   "id": "fa7fc94a",
   "metadata": {},
   "outputs": [],
   "source": [
    "with get_openai_callback() as cb:\n",
    "    \n",
    "    print(cb)"
   ]
  },
  {
   "cell_type": "code",
   "execution_count": null,
   "id": "8b304070-c5b6-4557-b87c-368e38ecec2a",
   "metadata": {},
   "outputs": [
    {
     "name": "stdout",
     "output_type": "stream",
     "text": [
      "생성형 인공지능 또는 생성형 AI는 프롬프트에 대응하여 텍스트, 이미지, 기타 미디어를 생성할 수 있는 인공지능 시스템입니다. 이는 기존 데이터를 분석하는 것이 아니라 새로운 콘텐츠를 만드는 데 초점을 맞춘 인공지능 분야를 의미합니다. 해당 기술은 2022년경부터 본격적으로 유명해지기 시작했습니다.\n"
     ]
    }
   ],
   "source": []
  }
 ],
 "metadata": {
  "kernelspec": {
   "display_name": "llm_env",
   "language": "python",
   "name": "python3"
  },
  "language_info": {
   "codemirror_mode": {
    "name": "ipython",
    "version": 3
   },
   "file_extension": ".py",
   "mimetype": "text/x-python",
   "name": "python",
   "nbconvert_exporter": "python",
   "pygments_lexer": "ipython3",
   "version": "3.10.18"
  }
 },
 "nbformat": 4,
 "nbformat_minor": 5
}
