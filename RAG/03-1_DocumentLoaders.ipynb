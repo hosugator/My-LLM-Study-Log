{
 "cells": [
  {
   "cell_type": "markdown",
   "id": "1654dd03",
   "metadata": {},
   "source": [
    "## 텍스트 파일"
   ]
  },
  {
   "cell_type": "code",
   "execution_count": null,
   "id": "ad029d55",
   "metadata": {},
   "outputs": [
    {
     "name": "stdout",
     "output_type": "stream",
     "text": [
      "1개의 문서를 로드했습니다.\n",
      "프랑스의 수도는 파리이다. 파리는 유럽에서 가장 인기 있는 관광 도시 중 하나로, 에펠탑과 루브르 박물관이 유명하다.\n",
      "\n",
      "독일의 수도는 베를린이다. 베를린은 역사적으로 중요한 도시이며, 베를린 장벽으로 유명하다.\n",
      "\n",
      "일본의 수도는 도쿄이다. 도쿄는 기술과 문화의 중심지로, 애니메이션과 음식 문화가 발달해 있다.\n"
     ]
    }
   ],
   "source": [
    "from langchain.document_loaders import TextLoader\n",
    "\n",
    "#(1) 문서 로딩 (단순 텍스트 파일 예제)\n",
    "loader = ...  # ... code here\n",
    "docs = ...   # ... code here\n",
    "\n",
    "print(f'{len(docs)}개의 문서를 로드했습니다.')\n",
    "#print(docs)\n",
    "\n",
    "print(docs[0].page_content)"
   ]
  },
  {
   "cell_type": "markdown",
   "id": "2c76e613",
   "metadata": {},
   "source": [
    "### loader 옵션\n",
    "- glob: 로드할 파일의 패턴을 지정\n",
    "```python\n",
    "    loader = DirectoryLoader('./data/articles', glob='*.txt')  # .txt 파일만\n",
    "```\n",
    "-  다양한 glob 패턴 예시\n",
    "```python\n",
    "    patterns = {\n",
    "        '*.txt': 'txt 파일만',\n",
    "        '*.pdf': 'PDF 파일만', \n",
    "        '*.md': 'Markdown 파일만',\n",
    "        '*.{txt,md}': 'txt 또는 md 파일',\n",
    "        '**/*.txt': '하위 폴더까지 모든 txt 파일',\n",
    "        'report_*.txt': 'report_로 시작하는 txt 파일',\n",
    "        '*': '모든 파일 (기본값)'\n",
    "    }\n",
    "```\n",
    "\n",
    "- 파일 형식에 따른 적절한 로더 선택\n",
    "```python\n",
    "    loaders = {\n",
    "        'TextFileLoader': '일반 텍스트 파일용',\n",
    "        'PyPDFLoader': 'PDF 파일용',\n",
    "        'CSVLoader': 'CSV 파일용',\n",
    "        'JSONLoader': 'JSON 파일용'\n",
    "    }\n",
    "```\n",
    "\n",
    "- 텍스트 파일 로드\n",
    "```python\n",
    "    loader_txt = DirectoryLoader(\n",
    "        './data/articles', \n",
    "        glob='*.txt',\n",
    "        loader_cls=TextFileLoader  # 텍스트 파일 전용 로더\n",
    "    )\n",
    "```"
   ]
  },
  {
   "cell_type": "code",
   "execution_count": null,
   "id": "677dab20",
   "metadata": {},
   "outputs": [
    {
     "name": "stderr",
     "output_type": "stream",
     "text": [
      "100%|██████████| 21/21 [00:00<00:00, 4178.58it/s]"
     ]
    },
    {
     "name": "stdout",
     "output_type": "stream",
     "text": [
      "21개의 문서를 로드했습니다.\n",
      "Signaling that investments in the supply chain sector remain robust, Pando, a startup developing fulfillment management technologies, today announced that it raised $30 million in a Series B round, bringing its total raised to $45 million.\n",
      "\n",
      "Iron Pillar and Uncorrelated Ventures led the round, with participation from existing investors Nexus Venture Partners, Chiratae Ventures and Next47. CEO and founder Nitin Jayakrishnan says that the new capital will be put toward expanding Pando’s global sales, marketing and delivery capabilities.\n",
      "\n",
      "“We will not expand into new industries or adjacent product areas,” he told TechCrunch in an email interview. “Great talent is the foundation of the business — we will continue to augment our teams at all levels of the organization. Pando is also open to exploring strategic partnerships and acquisitions with this round of funding.”\n",
      "\n",
      "Pando was co-launched by Jayakrishnan and Abhijeet Manohar, who previously worked together at iDelivery, an India-based freight tech marketplace — and their first startup. The two saw firsthand manufacturers, distributors and retailers were struggling with legacy tech and point solutions to understand, optimize and manage their global logistics operations — or at least, that’s the story Jayakrishnan tells.\n",
      "\n",
      "“Supply chain leaders were trying to build their own tech and throwing people at the problem,” he said. “This caught our attention — we spent months talking to and building for enterprise users at warehouses, factories, freight yards and ports and eventually, in 2018, decided to start Pando to solve for global logistics through a software-as-a-service platform offering.”\n",
      "\n",
      "There’s truth to what Jayakrishnan’s expressing about pent-up demand. According to a recent McKinsey survey, supply chain companies had — and have — a strong desire for tools that deliver greater supply chain visibility. Sixty-seven percent of respondents to the survey say that they’ve implemented dashboards for this purpose, while over half say that they’re investing in supply chain visibility services more broadly.\n",
      "\n",
      "Pando aims to meet the need by consolidating supply chain data that resides in multiple silos within and outside of the enterprise, including data on customers, suppliers, logistics service providers, facilities and product SKUs. The platform provides various tools and apps for accomplishing different tasks across freight procurement, trade and transport management, freight audit and payment and document management, as well as dispatch planning and analytics.\n",
      "\n",
      "Customers can customize the tools and apps or build their own using Pando’s APIs. This, along with the platform’s emphasis on no-code capabilities, differentiates Pando from incumbents like SAP, Oracle, Blue Yonder and E2Open, Jayakrishnan asserts.\n",
      "\n",
      "“Pando comes pre-integrated with leading enterprise resource planning (ERPs) systems and has ready APIs and a professional services team to integrate with any new ERPs and enterprise systems,” he added. “Pando’s no-code capabilities enable business users to customize the apps while maintaining platform integrity — reducing the need for IT resources for each customization.”\n",
      "\n",
      "Pando also taps algorithms and forms of machine learning to make predictions around supply chain events. For example, the platform attempts to match customer orders with suppliers, customers through the “right” channel (in terms of aspects like cost and carbon footprint) and fulfillment strategy (e.g. mode of freight, carrier, etc.). Beyond this, Pando can detect anomalies among deliveries, orders and freight invoices and anticipate supply chain risk given demand and supply trends.\n",
      "\n",
      "Pando isn’t the only vendor doing this. Altana, which bagged $100 million in venture capital last October, uses an AI system to connect to and learn from logistics and business-to-business data — creating a shared view of supply chain networks. Everstream, another Pando rival, offers its own dashboards for data analysis, integrated with existing ERP, transportation management and supplier relationship management systems.\n",
      "\n",
      "But Pando has a compelling sales pitch, judging by its momentum. The company counts Fortune 500 manufacturers and retailers — including P&G, J&J, Valvoline, Castrol, Cummins, Siemens, Danaher and Accuride — among its customer base. Since the startup’s Series A in 2020, revenue has grown 8x while the number of customers has increased 5x, Jayakrishnan said.\n",
      "\n",
      "Asked whether he expects expansion to continue well into the future, given the signs of potential trouble on the horizon, Jayakrishnan seemed fairly optimistic. He pointed to a Deloitte survey that found that more than 70% of manufacturing companies have been impacted by supply chain disruptions in the past year, with 90% of those companies experiencing increased costs and declining productivity.\n",
      "\n",
      "The result of those major disruptions? The digital logistics market is estimated to climb to $46.5 billion by 2025, per Markets and Markets — up from $17.4 billion in 2019. Crunchbase reports that investors poured more than $7 billion in seed through growth-stage rounds globally for supply chain-focused startups from January to October 2022, nearly eclipsing 2021’s record-setting levels.\n",
      "\n",
      "“Pando has a strong balance sheet and profit and loss statement, with an eye on profitable growth,” Jayakrishnan said. “We’re are scaling operations in North America, Europe and India with marquee customer wins and a network of strong partners … Pando is well-positioned to ride this growth wave, and drive supply chain agility for the 2030 economy.”\n"
     ]
    },
    {
     "name": "stderr",
     "output_type": "stream",
     "text": [
      "\n"
     ]
    }
   ],
   "source": [
    "from langchain_community.document_loaders import DirectoryLoader\n",
    "\n",
    "loader = ... # ... code here\n",
    "docs = loader.load()\n",
    "print(f'{len(docs)}개의 문서를 로드했습니다.')\n",
    "print(docs[0].page_content)"
   ]
  },
  {
   "cell_type": "markdown",
   "id": "ae0a2729",
   "metadata": {},
   "source": [
    "## PDF 파일\n",
    "- PyPDFLoader : pdfminer.six를 사용하며, 레이아웃이 복잡하거나 텍스트가 잘려 저장된 경우 한 줄씩 끊기거나 누락되기도 함\n",
    "\n",
    "    | 상황                  | 추천 로더                                                      |\n",
    "    | ------------------- | ---------------------------------------------------------- |\n",
    "    | 일반 텍스트 기반 PDF       | `PyPDFLoader` or `PyMuPDFLoader`                           |\n",
    "    | 표/레이아웃 보존 필요        | `PDFPlumberLoader`                                         |\n",
    "    | 스캔 이미지 PDF (OCR 필요) | `UnstructuredPDFLoader` with OCR 옵션 or `SeleniumPDFLoader` |\n",
    "    | 복잡한 포맷 / 불규칙 PDF    | `UnstructuredPDFLoader`                                    |\n"
   ]
  },
  {
   "cell_type": "code",
   "execution_count": null,
   "id": "ca3413d0",
   "metadata": {},
   "outputs": [
    {
     "name": "stdout",
     "output_type": "stream",
     "text": [
      "182개의 문서를 로드했습니다.\n"
     ]
    },
    {
     "data": {
      "text/plain": [
       "[Document(metadata={'producer': 'Adobe Acrobat Standard DC 19 Paper Capture Plug-in', 'creator': 'ScanFix(TM) Enhanced', 'creationdate': '2015-09-10T01:40:29+00:00', 'moddate': '2019-01-30T17:47:47+01:00', 'source': './data/Demian.pdf', 'total_pages': 182, 'page': 0, 'page_label': '1'}, page_content='DEMIAN \\n• \\nDownloaded from https://www.holybooks.com'),\n",
       " Document(metadata={'producer': 'Adobe Acrobat Standard DC 19 Paper Capture Plug-in', 'creator': 'ScanFix(TM) Enhanced', 'creationdate': '2015-09-10T01:40:29+00:00', 'moddate': '2019-01-30T17:47:47+01:00', 'source': './data/Demian.pdf', 'total_pages': 182, 'page': 1, 'page_label': '2'}, page_content='HERMANN \\nHESSE \\n• DEMIAN \\n* \\nTranslated by W. J. Strachan \\nLondon \\nDownloaded from https://www.holybooks.com')]"
      ]
     },
     "execution_count": 6,
     "metadata": {},
     "output_type": "execute_result"
    }
   ],
   "source": [
    "from langchain_community.document_loaders import PyPDFLoader\n",
    "\n",
    "loader = ...   # ... code here\n",
    "docs = loader.load()\n",
    "print(f'{len(docs)}개의 문서를 로드했습니다.')\n",
    "docs[:2]"
   ]
  },
  {
   "cell_type": "markdown",
   "id": "40995e97",
   "metadata": {},
   "source": [
    "## Web (URL)"
   ]
  },
  {
   "cell_type": "code",
   "execution_count": null,
   "id": "2ee4998e",
   "metadata": {},
   "outputs": [
    {
     "name": "stderr",
     "output_type": "stream",
     "text": [
      "USER_AGENT environment variable not set, consider setting it to identify your requests.\n"
     ]
    },
    {
     "name": "stdout",
     "output_type": "stream",
     "text": [
      "1개의 문서를 로드했습니다.\n"
     ]
    }
   ],
   "source": [
    "from langchain_community.document_loaders import WebBaseLoader\n",
    "\n",
    "# WebBaseLoader 클래스의 새 인스턴스를 만듭니다. web_path는 웹 사이트의 URL입니다.\n",
    "url = \"https://ko.wikipedia.org/wiki/NewJeans\"\n",
    "loader = ...   # ... code here\n",
    "\n",
    "# 웹 사이트에서 문서를 읽습니다.\n",
    "docs = loader.load()\n",
    "print(f'{len(docs)}개의 문서를 로드했습니다.')"
   ]
  }
 ],
 "metadata": {
  "kernelspec": {
   "display_name": "llm_env",
   "language": "python",
   "name": "python3"
  },
  "language_info": {
   "codemirror_mode": {
    "name": "ipython",
    "version": 3
   },
   "file_extension": ".py",
   "mimetype": "text/x-python",
   "name": "python",
   "nbconvert_exporter": "python",
   "pygments_lexer": "ipython3",
   "version": "3.10.18"
  }
 },
 "nbformat": 4,
 "nbformat_minor": 5
}
