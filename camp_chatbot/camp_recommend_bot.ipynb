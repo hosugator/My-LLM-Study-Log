{
 "cells": [
  {
   "cell_type": "markdown",
   "id": "cab1886f",
   "metadata": {},
   "source": [
    "# 공공 서비스 API 데이터 기반의 캠핑장 추천 봇"
   ]
  },
  {
   "cell_type": "code",
   "execution_count": null,
   "id": "8c4b2140",
   "metadata": {
    "vscode": {
     "languageId": "plaintext"
    }
   },
   "outputs": [],
   "source": []
  }
 ],
 "metadata": {
  "language_info": {
   "name": "python"
  }
 },
 "nbformat": 4,
 "nbformat_minor": 5
}
